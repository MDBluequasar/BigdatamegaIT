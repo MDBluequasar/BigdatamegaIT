{
 "cells": [
  {
   "cell_type": "code",
   "execution_count": 7,
   "metadata": {},
   "outputs": [
    {
     "data": {
      "text/plain": [
       "array([[ 1,  2,  3,  4,  5,  6,  7,  8,  9, 10, 11, 12, 13, 14, 15],\n",
       "       [ 1,  2,  3,  4,  5,  6,  7,  8,  9, 10, 11, 12, 13, 14, 15],\n",
       "       [ 1,  2,  3,  4,  5,  6,  7,  8,  9, 10, 11, 12, 13, 14, 15],\n",
       "       [ 1,  2,  3,  4,  5,  6,  7,  8,  9, 10, 11, 12, 13, 14, 15],\n",
       "       [ 1,  2,  3,  4,  5,  6,  7,  8,  9, 10, 11, 12, 13, 14, 15],\n",
       "       [ 1,  2,  3,  4,  5,  6,  7,  8,  9, 10, 11, 12, 13, 14, 15],\n",
       "       [ 1,  2,  3,  4,  5,  6,  7,  8,  9, 10, 11, 12, 13, 14, 15],\n",
       "       [ 1,  2,  3,  4,  5,  6,  7,  8,  9, 10, 11, 12, 13, 14, 15],\n",
       "       [ 1,  2,  3,  4,  5,  6,  7,  8,  9, 10, 11, 12, 13, 14, 15],\n",
       "       [ 1,  2,  3,  4,  5,  6,  7,  8,  9, 10, 11, 12, 13, 14, 15],\n",
       "       [ 1,  2,  3,  4,  5,  6,  7,  8,  9, 10, 11, 12, 13, 14, 15],\n",
       "       [ 1,  2,  3,  4,  5,  6,  7,  8,  9, 10, 11, 12, 13, 14, 15],\n",
       "       [ 1,  2,  3,  4,  5,  6,  7,  8,  9, 10, 11, 12, 13, 14, 15],\n",
       "       [ 1,  2,  3,  4,  5,  6,  7,  8,  9, 10, 11, 12, 13, 14, 15],\n",
       "       [ 1,  2,  3,  4,  5,  6,  7,  8,  9, 10, 11, 12, 13, 14, 15]])"
      ]
     },
     "execution_count": 7,
     "metadata": {},
     "output_type": "execute_result"
    }
   ],
   "source": [
    "import numpy as np\n",
    "call = 15\n",
    "\n",
    "\n",
    "\n",
    "add = []\n",
    "nm = 0\n",
    "\n",
    "while call > nm:\n",
    "    lit = []\n",
    "    n = 0\n",
    "\n",
    "    while call > n:\n",
    "        try:\n",
    "            n += 1\n",
    "            lit.append(n)\n",
    "            add.append(lit)\n",
    "            nm += 1\n",
    "        except:\n",
    "            break\n",
    "    \n",
    "    n = 0\n",
    "   \n",
    "\n",
    "\n",
    "p1 = np.array(add)\n",
    "p1"
   ]
  },
  {
   "cell_type": "markdown",
   "metadata": {},
   "source": [
    "# 첫번째 조각"
   ]
  },
  {
   "cell_type": "code",
   "execution_count": 8,
   "metadata": {},
   "outputs": [
    {
     "name": "stdout",
     "output_type": "stream",
     "text": [
      "[[ 0  2  3  4  5  6  7  8  9 10 11 12 13 14 15]\n",
      " [ 0  0  3  4  5  6  7  8  9 10 11 12 13 14 15]\n",
      " [ 0  0  0  4  5  6  7  8  9 10 11 12 13 14 15]\n",
      " [ 0  0  0  0  5  6  7  8  9 10 11 12 13 14 15]\n",
      " [ 0  0  0  0  0  6  7  8  9 10 11 12 13 14 15]\n",
      " [ 0  0  0  0  0  0  7  8  9 10 11 12 13 14 15]\n",
      " [ 0  0  0  0  0  0  0  8  9 10 11 12 13 14 15]\n",
      " [ 0  0  0  0  0  0  0  0  9 10 11 12 13 14 15]\n",
      " [ 0  0  0  0  0  0  0  8  9 10 11 12 13 14 15]\n",
      " [ 0  0  0  0  0  0  7  8  9 10 11 12 13 14 15]\n",
      " [ 0  0  0  0  0  6  7  8  9 10 11 12 13 14 15]\n",
      " [ 0  0  0  0  5  6  7  8  9 10 11 12 13 14 15]\n",
      " [ 0  0  0  4  5  6  7  8  9 10 11 12 13 14 15]\n",
      " [ 0  0  3  4  5  6  7  8  9 10 11 12 13 14 15]\n",
      " [ 0  2  3  4  5  6  7  8  9 10 11 12 13 14 15]]\n"
     ]
    }
   ],
   "source": [
    "# for i in range(5):\n",
    "#     print((i+1)* \"*\")\n",
    "\n",
    "for i in range(7):\n",
    "  for j in range(i+1):\n",
    "    p1[i][j] = 0\n",
    "\n",
    "for p in range(7,15):\n",
    "  for q in range(15-p):\n",
    "    p1[p][q] = 0\n",
    "\n",
    "\n",
    "print(p1)"
   ]
  },
  {
   "cell_type": "markdown",
   "metadata": {},
   "source": [
    "# 두번째 조각"
   ]
  },
  {
   "cell_type": "code",
   "execution_count": 9,
   "metadata": {},
   "outputs": [
    {
     "name": "stdout",
     "output_type": "stream",
     "text": [
      "[[ 0  0  0  0  0  0  0  0  0  0  0  0  0  0  0]\n",
      " [ 1  0  0  0  0  0  0  0  0  0  0  0  0  0 15]\n",
      " [ 1  2  0  0  0  0  0  0  0  0  0  0  0 14 15]\n",
      " [ 1  2  3  0  0  0  0  0  0  0  0  0 13 14 15]\n",
      " [ 1  2  3  4  0  0  0  0  0  0  0 12 13 14 15]\n",
      " [ 1  2  3  4  5  0  0  0  0  0 11 12 13 14 15]\n",
      " [ 1  2  3  4  5  6  0  0  0 10 11 12 13 14 15]\n",
      " [ 1  2  3  4  5  6  7  0  9 10 11 12 13 14 15]\n",
      " [ 1  2  3  4  5  6  7  8  9 10 11 12 13 14 15]\n",
      " [ 1  2  3  4  5  6  7  8  9 10 11 12 13 14 15]\n",
      " [ 1  2  3  4  5  6  7  8  9 10 11 12 13 14 15]\n",
      " [ 1  2  3  4  5  6  7  8  9 10 11 12 13 14 15]\n",
      " [ 1  2  3  4  5  6  7  8  9 10 11 12 13 14 15]\n",
      " [ 1  2  3  4  5  6  7  8  9 10 11 12 13 14 15]\n",
      " [ 1  2  3  4  5  6  7  8  9 10 11 12 13 14 15]]\n"
     ]
    }
   ],
   "source": [
    "call = 15\n",
    "\n",
    "\n",
    "\n",
    "add = []\n",
    "nm = 0\n",
    "\n",
    "while call > nm:\n",
    "    lit = []\n",
    "    n = 0\n",
    "\n",
    "    while call > n:\n",
    "        try:\n",
    "            n += 1\n",
    "            lit.append(n)\n",
    "            add.append(lit)\n",
    "            nm += 1\n",
    "        except:\n",
    "            break\n",
    "    \n",
    "    n = 0\n",
    "   \n",
    "\n",
    "\n",
    "p2 = np.array(add)\n",
    "p2\n",
    "\n",
    "\n",
    "\n",
    "for i in range(8):\n",
    "  for j in range(i+1):\n",
    "    p2[j][i] = 0\n",
    "\n",
    "for p in range(7,15):\n",
    "  for q in range(15 - p):\n",
    "    p2[q][p] = 0\n",
    "\n",
    "print(p2)"
   ]
  },
  {
   "cell_type": "code",
   "execution_count": 10,
   "metadata": {},
   "outputs": [],
   "source": [
    "# for i in range(7):\n",
    "#   for j in range(i+1):\n",
    "#     pizza[i][j] = 0\n",
    "\n",
    "# for p in range(7):\n",
    "#   for q in range(15-p):\n",
    "#     pizza[q][p] = 0\n",
    "\n",
    "\n",
    "# print(pizza)"
   ]
  }
 ],
 "metadata": {
  "kernelspec": {
   "display_name": "Python 3",
   "language": "python",
   "name": "python3"
  },
  "language_info": {
   "codemirror_mode": {
    "name": "ipython",
    "version": 3
   },
   "file_extension": ".py",
   "mimetype": "text/x-python",
   "name": "python",
   "nbconvert_exporter": "python",
   "pygments_lexer": "ipython3",
   "version": "3.11.4"
  },
  "orig_nbformat": 4
 },
 "nbformat": 4,
 "nbformat_minor": 2
}
