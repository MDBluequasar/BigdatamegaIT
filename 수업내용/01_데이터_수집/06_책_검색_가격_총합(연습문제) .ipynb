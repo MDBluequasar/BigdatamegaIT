{
 "cells": [
  {
   "cell_type": "code",
   "execution_count": 3,
   "metadata": {},
   "outputs": [],
   "source": [
    "# 필요한 모듈 참조\n",
    "import requests\n",
    "import json\n",
    "from pandas import DataFrame"
   ]
  },
  {
   "cell_type": "code",
   "execution_count": 4,
   "metadata": {},
   "outputs": [],
   "source": [
    "# 접속할 URL\n",
    "urlFmt = \"https://dapi.kakao.com/v3/search/book?query={query}&page={page}&size={size}\""
   ]
  },
  {
   "cell_type": "code",
   "execution_count": 5,
   "metadata": {},
   "outputs": [],
   "source": [
    "# 요청변수\n",
    "query = \"은혼\"\n",
    "page = 1\n",
    "size = 50\n",
    "key = 'fd1366a5d56dcf9a1c6731c739b98073'"
   ]
  },
  {
   "cell_type": "code",
   "execution_count": 6,
   "metadata": {},
   "outputs": [],
   "source": [
    "# 접속 객체 생성\n",
    "session = requests.Session()\n",
    "\n",
    "# 접속객체에 부가정보(header) 삽입하기\n",
    "session.headers.update({\n",
    "    \"Authorization\": \"KakaoAK %s\" % key  #인증기 삽입 다음 카카오 개발자에서 발급 가능 REST API key\n",
    "})"
   ]
  },
  {
   "cell_type": "code",
   "execution_count": 7,
   "metadata": {},
   "outputs": [
    {
     "name": "stdout",
     "output_type": "stream",
     "text": [
      "isEnd=  False , 다음페이지 =  2\n",
      "isEnd=  False , 다음페이지 =  3\n",
      "isEnd=  False , 다음페이지 =  4\n",
      "isEnd=  False , 다음페이지 =  5\n",
      "isEnd=  False , 다음페이지 =  6\n",
      "isEnd=  False , 다음페이지 =  7\n",
      "isEnd=  False , 다음페이지 =  8\n",
      "isEnd=  True , 다음페이지 =  9\n",
      "최종 검색 건수: 391\n"
     ]
    }
   ],
   "source": [
    "# 다음 페이지가 존재하는지 여부 --> 이 값이 False인 동안은 반복\n",
    "isEnd = False\n",
    "\n",
    "# 반복 수행 도중 추출되는 검색결과 리스트를 결합할 빈 리스트 준비\n",
    "mylist = []\n",
    "\n",
    "# 1페이지부터 시작\n",
    "page = 1\n",
    "\n",
    "while not isEnd:\n",
    "    #-----------------------------------------------------------------\n",
    "    # 이전 예제 코드\n",
    "    #-----------------------------------------------------------------\n",
    "\n",
    "    # 접속할 URL\n",
    "    url = urlFmt.format(query=query, page=page, size=size)\n",
    "    url\n",
    "\n",
    "    # 생성한 접속객체를 활용하여 API에 접속\n",
    "    r = session.get(url)\n",
    "\n",
    "    # 접속에 실패한 경우\n",
    "    if r.status_code != 200:\n",
    "        # 에러코드와 에러 메세지 출력\n",
    "        msg = \"[%d Error] %s 에어가 발생함\" % (r.status_code, r.reason)\n",
    "        # 에러를 강제로 생성시킴\n",
    "        raise Exception(msg)\n",
    "    # 인코딩 형식 지정\n",
    "    r.encoding = 'utf-8'\n",
    "    # 가져온 문자열을 딕셔너리로 변환\n",
    "    data = json.loads(r.text)\n",
    "    data\n",
    "\n",
    "    # -------------------------------------------------------------------------\n",
    "    # 이전 예제 코드 끝\n",
    "    # -------------------------------------------------------------------------\n",
    "\n",
    "    # 검색 결과를 갖고 있는 딕셔너리를 포함하는 리스트 추출\n",
    "    searchList = data['documents']\n",
    "\n",
    "    # 추출한 리스트를 미리 준비한 빈 리스트에 추가\n",
    "    mylist.extend(searchList)\n",
    "\n",
    "    # 증강식에 해당하는 isEnd변수 추출\n",
    "    isEnd = bool(data['meta']['is_end'])\n",
    "    page += 1\n",
    "    print('isEnd= ', isEnd, ', 다음페이지 = ', page)\n",
    "\n",
    "print('최종 검색 건수: %d' % len(mylist))"
   ]
  },
  {
   "cell_type": "code",
   "execution_count": 8,
   "metadata": {},
   "outputs": [
    {
     "name": "stdout",
     "output_type": "stream",
     "text": [
      "1773190\n"
     ]
    }
   ],
   "source": [
    "# 결과 엑셀 저장 및 출력 (나의 답안)\n",
    "df = DataFrame(mylist)\n",
    "print(sum(df['price']))"
   ]
  },
  {
   "cell_type": "code",
   "execution_count": 9,
   "metadata": {},
   "outputs": [
    {
     "name": "stdout",
     "output_type": "stream",
     "text": [
      "`은혼` 키워드로 검색된 모든 책의 총 가격은 1773190입니다.\n"
     ]
    }
   ],
   "source": [
    "totalPrice = 0\n",
    "\n",
    "for item in mylist:\n",
    "    totalPrice += item['price']\n",
    "\n",
    "print(\"`%s` 키워드로 검색된 모든 책의 총 가격은 %d입니다.\" % (query, totalPrice))"
   ]
  }
 ],
 "metadata": {
  "kernelspec": {
   "display_name": "Python 3",
   "language": "python",
   "name": "python3"
  },
  "language_info": {
   "codemirror_mode": {
    "name": "ipython",
    "version": 3
   },
   "file_extension": ".py",
   "mimetype": "text/x-python",
   "name": "python",
   "nbconvert_exporter": "python",
   "pygments_lexer": "ipython3",
   "version": "3.11.4"
  },
  "orig_nbformat": 4
 },
 "nbformat": 4,
 "nbformat_minor": 2
}
