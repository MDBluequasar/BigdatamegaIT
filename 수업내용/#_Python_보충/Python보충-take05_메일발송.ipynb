{
 "cells": [
  {
   "attachments": {},
   "cell_type": "markdown",
   "metadata": {},
   "source": [
    "파이썬 보충 Take 5\n",
    "    메일 발송하기\n",
    "    "
   ]
  },
  {
   "attachments": {},
   "cell_type": "markdown",
   "metadata": {},
   "source": [
    "    메일에 발송에 필요한 내장모듈 참조\n",
    "    파이썬에 내장되어 있는 모듈만 사용한다."
   ]
  },
  {
   "cell_type": "code",
   "execution_count": 3,
   "metadata": {},
   "outputs": [],
   "source": [
    "import os                                                                          # 경로 정보를 취득하기 위한 모듈\n",
    "from smtplib import SMTP                                              # 발송서버와 연동하기 위한 모듈\n",
    "from email.mime.text import MIMEText                          # 본문 구성 기능\n",
    "from email.mime.application import MIMEApplication  # 파일을 Multipart 형식으로 변환\n",
    "from email.mime.multipart import MIMEMultipart         # 파일을 본문에 추가하는 기능 제공"
   ]
  },
  {
   "cell_type": "code",
   "execution_count": 4,
   "metadata": {},
   "outputs": [],
   "source": [
    "# 네이버 2차 인증 비번 CW6DYHFBFMXZ"
   ]
  },
  {
   "attachments": {},
   "cell_type": "markdown",
   "metadata": {},
   "source": [
    "    메일 발송에 필요한 정보 설정"
   ]
  },
  {
   "cell_type": "code",
   "execution_count": 5,
   "metadata": {},
   "outputs": [],
   "source": [
    "# 보내는 사람 주소 (로그인 계정과 동일해야 함)\n",
    "from_addr = 'dlghkswls112@naver.com'\n",
    "\n",
    "# 받는 사람 주소\n",
    "to_addr = 'dlghkswls112@naver.com'\n",
    "\n",
    "# 제목\n",
    "subject = '파이썬으로 보내는 메일 발송 이얏호~'\n",
    "\n",
    "# 본문내용 작성 -> 상중따옴표 안에서는 줄바꿈이 자유롭다.\n",
    "content = \"\"\"안녕~ 파이썬으로 발송한다 이런 메일\"\"\"\n",
    "\n",
    "# 첨부파일이 필요 없는 경우\n",
    "# files = []\n",
    "\n",
    "# 첨부파일이 필요한 경우 (파일이 실제로 존재해야 함)\n",
    "files = ['grade.csv', 'hellowpython.txt']"
   ]
  },
  {
   "attachments": {},
   "cell_type": "markdown",
   "metadata": {},
   "source": [
    "    SMTP 연동 정보 설정"
   ]
  },
  {
   "cell_type": "code",
   "execution_count": 6,
   "metadata": {},
   "outputs": [],
   "source": [
    "# 컨텐츠 형식 (plain or html)\n",
    "content_type = 'plain'\n",
    "\n",
    "# 로그인 계정 이름 (네이버 = 아이디, 구글 = 메일주소)\n",
    "username = 'dlghkswls112'\n",
    "\n",
    "# 비밀번호 (네이버 = 개인비밀번호, 애플리케이션 비밀번호, 구글 = 앱 비밀번호)\n",
    "password ='CW6DYHFBFMXZ'\n",
    "\n",
    "# 구글 발송 서버 주소와 포트 (고정값)\n",
    "# smtp = \"smtp.gmail.com\"\n",
    "# port = 587\n",
    "\n",
    "# 네이버 발송 서버 주소와 포트 (고정값)\n",
    "smtp = \"smtp.naver.com\"\n",
    "port = 465"
   ]
  },
  {
   "attachments": {},
   "cell_type": "markdown",
   "metadata": {},
   "source": [
    "    메일 발송정보 구성"
   ]
  },
  {
   "cell_type": "code",
   "execution_count": 7,
   "metadata": {},
   "outputs": [],
   "source": [
    "# 메일 발송 정보를 저장하기 위한 객체\n",
    "msg =MIMEMultipart()\n",
    "\n",
    "msg['subject'] = subject # 메일 제목\n",
    "msg['From'] = from_addr # 보내는 사람\n",
    "msg['To'] = to_addr # 받는 사람\n",
    "\n",
    "# 본문 설정 -> 메일의 내용과 형식 지정\n",
    "msg.attach(MIMEText(content, content_type))"
   ]
  },
  {
   "attachments": {},
   "cell_type": "markdown",
   "metadata": {},
   "source": [
    "    메일 발송 정보에 첨부파일 추가"
   ]
  },
  {
   "cell_type": "code",
   "execution_count": 8,
   "metadata": {},
   "outputs": [],
   "source": [
    "# 리스트 변수의 원소가 하나라도 존재할 경우 True\n",
    "if files:\n",
    "    for f in files:\n",
    "        # 바이너리(b) 형식으로 읽기(r)\n",
    "        with open(f, 'rb') as a_file:\n",
    "            # 전체 경로에서 파일의 이름만 추출\n",
    "            basename = os.path.basename(f)\n",
    "            # 파일의 내용과 파일 이름을 메일에 첨부할 형식으로 변환\n",
    "            part = MIMEApplication(a_file.read(), Name=basename)\n",
    "\n",
    "            # 파일 첨부\n",
    "            part['Content-Disposition'] = 'attachment; filename=\"%s\"' % basename\n",
    "            msg.attach(part)\n"
   ]
  },
  {
   "attachments": {},
   "cell_type": "markdown",
   "metadata": {},
   "source": [
    "    메일 보내기"
   ]
  },
  {
   "cell_type": "code",
   "execution_count": 9,
   "metadata": {},
   "outputs": [
    {
     "data": {
      "text/plain": [
       "(221, b'2.0.0 Closing connection XHIPmRYdQ9WKekdcnQpjGA - nsmtp')"
      ]
     },
     "execution_count": 9,
     "metadata": {},
     "output_type": "execute_result"
    }
   ],
   "source": [
    "mail = SMTP(smtp)\n",
    "\n",
    "# 메일 서버 접속\n",
    "mail.ehlo()\n",
    "\n",
    "# 메일 서버 연동 설정\n",
    "mail.starttls()\n",
    "\n",
    "# 메일 서버 로그인\n",
    "mail.login(username, password)\n",
    "\n",
    "# 메일 보내기\n",
    "mail.sendmail(from_addr, to_addr, msg.as_string())\n",
    "\n",
    "# 메일 서버 접속 종료\n",
    "mail.quit()"
   ]
  }
 ],
 "metadata": {
  "kernelspec": {
   "display_name": "Python 3",
   "language": "python",
   "name": "python3"
  },
  "language_info": {
   "codemirror_mode": {
    "name": "ipython",
    "version": 3
   },
   "file_extension": ".py",
   "mimetype": "text/x-python",
   "name": "python",
   "nbconvert_exporter": "python",
   "pygments_lexer": "ipython3",
   "version": "3.11.4"
  },
  "orig_nbformat": 4
 },
 "nbformat": 4,
 "nbformat_minor": 2
}
