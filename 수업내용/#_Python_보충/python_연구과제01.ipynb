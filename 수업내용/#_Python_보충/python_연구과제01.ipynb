{
 "cells": [
  {
   "cell_type": "code",
   "execution_count": 12,
   "metadata": {},
   "outputs": [
    {
     "name": "stdout",
     "output_type": "stream",
     "text": [
      "23920000\n",
      "1947000\n"
     ]
    }
   ],
   "source": [
    "# 연구 과제(1)\n",
    "naver = 751000\n",
    "daum = 89000\n",
    "n2 = int(input(\"다음하락:\"))/100\n",
    "n1 = int(input(\"네이버하락: \"))/100\n",
    "\n",
    "p = 1 - n1 \n",
    "w = 1 - n2\n",
    "total= naver * 20 + daum * 100\n",
    "pain = int(naver * 20*p + daum * 100*w)\n",
    "\n",
    "print(total)\n",
    "print(total- pain)\n",
    "\n"
   ]
  },
  {
   "cell_type": "code",
   "execution_count": 10,
   "metadata": {},
   "outputs": [
    {
     "name": "stdout",
     "output_type": "stream",
     "text": [
      "120  kg\n",
      "1.79  m\n",
      "37.452014606285694\n"
     ]
    }
   ],
   "source": [
    "# 연구 과제(2)\n",
    "myWeight = int(input(\"사용자의 체중: \"))\n",
    "myHeight = float(input(\"사용자의 키: \"))/100\n",
    "\n",
    "print(myWeight, \" kg\")\n",
    "print(myHeight, \" m\")\n",
    "\n",
    "bml = myWeight/myHeight**2\n",
    "print(bml) "
   ]
  },
  {
   "cell_type": "code",
   "execution_count": 19,
   "metadata": {},
   "outputs": [
    {
     "name": "stdout",
     "output_type": "stream",
     "text": [
      "Daum kakao\n",
      "kakao Daum\n"
     ]
    }
   ],
   "source": [
    "# 연구 과제(3)\n",
    "s = \"Daum kakao\"\n",
    "print(s)\n",
    "\n",
    "\n",
    "s1 = s[0:4]\n",
    "s2 = s[5:]\n",
    "print(\"%s %s\" % (s2, s1))"
   ]
  },
  {
   "cell_type": "code",
   "execution_count": 13,
   "metadata": {},
   "outputs": [
    {
     "name": "stdout",
     "output_type": "stream",
     "text": [
      "폴더의 위치:  C:\\myphoto\n",
      "파일이름:  helloworld\n",
      "확장자:  jpg\n"
     ]
    }
   ],
   "source": [
    "# 연구 과제(4)\n",
    "file = \"C:\\myphoto\\helloworld.jpg\"\n",
    "p1 = file.rfind(\"\\\\\")\n",
    "p2 = file.rfind(\".\")\n",
    "folder = file[:p1]\n",
    "filename = file[p1+1:p2]\n",
    "ext = file[p2+1:]\n",
    "print(\"폴더의 위치: \", folder)\n",
    "print(\"파일이름: \",filename)\n",
    "print(\"확장자: \",ext)"
   ]
  },
  {
   "cell_type": "code",
   "execution_count": 66,
   "metadata": {},
   "outputs": [
    {
     "name": "stdout",
     "output_type": "stream",
     "text": [
      "[93, 90, 88]\n",
      "90.33333333333333\n"
     ]
    }
   ],
   "source": [
    "# 연구 과제(5)\n",
    "score = [82, 74, 93, 65, 32, 71, 90, 88, 74]\n",
    "score.sort(reverse=True)\n",
    "top = score[:3]\n",
    "print(top)\n",
    "\n",
    "total = 0\n",
    "for i in top:\n",
    "    total += i\n",
    "\n",
    "avg = total / len(top)\n",
    "print(avg)\n",
    "\n",
    "# for i in range(0, len(score)-1):\n",
    "#     for j in range(i+1, len(score)):\n",
    "#         if score[i] < score[j]:\n",
    "#             score[i], score[j] = score[j], score[i]\n",
    "# total = 0\n",
    "# for k in range(0, 3):\n",
    "#       total += math[k]\n",
    "# avg = total/3\n",
    "# print(avg)\n"
   ]
  },
  {
   "cell_type": "code",
   "execution_count": 37,
   "metadata": {},
   "outputs": [
    {
     "name": "stdout",
     "output_type": "stream",
     "text": [
      "노년층\n"
     ]
    }
   ],
   "source": [
    "# 연구 과제(6)\n",
    "# 나의 풀이\n",
    "# age = int(input(\"나이를 입력하세요.: \"))\n",
    "\n",
    "# if age >= 60:\n",
    "#     print(\"노년층\")\n",
    "# elif  50 <= age <= 59: # age < 60\n",
    "#     print(\"50대\")\n",
    "# elif  40 <= age <= 49:  # age < 50\n",
    "#     print(\"40대\")\n",
    "# elif  30 <= age <= 39:  # age < 40\n",
    "#     print(\"30대\")\n",
    "# elif  20 <= age <= 29:  # age < 30\n",
    "#     print(\"20대\")\n",
    "# elif  10 <= age <= 19:   # age < 20:\n",
    "#     print(\"10대\")\n",
    "# else:\n",
    "#     print(\"어린이\")\n",
    "\n",
    "# 선생님 풀이\n",
    "age = int(input(\"나이를 입력하세요.: \"))\n",
    "\n",
    "level = age // 10\n",
    "\n",
    "if level == 0:\n",
    "    print(\"어린이\")\n",
    "elif level > 5:\n",
    "    print(\"노년층\")\n",
    "else:\n",
    "    print(\"%d0대\" % level)"
   ]
  },
  {
   "cell_type": "code",
   "execution_count": 38,
   "metadata": {},
   "outputs": [
    {
     "name": "stdout",
     "output_type": "stream",
     "text": [
      "20% 초과, 30% 이하 - 경도 비만(주의)\n"
     ]
    }
   ],
   "source": [
    "# 연구 과제(7)\n",
    "myw = int(input(\"몸무게: \"))\n",
    "myh =  int(input(\"키를 입력하세요: \"))\n",
    "\n",
    "if myh >150:\n",
    "    sw = (myh - 110) * 0.9\n",
    "else:\n",
    "    sw = myh -110\n",
    "\n",
    "big = (myw - sw)/sw*100\n",
    "\n",
    "if big > 50:\n",
    "    print(\"50% 초과 - 고도비만(매우위험)\")\n",
    "elif 30 < big <= 50:\n",
    "    print(\"30% 초과, 50% 이하 - 중등도 비만(위험)\") \n",
    "elif 20 < big <= 30:\n",
    "    print(\"20% 초과, 30% 이하 - 경도 비만(주의)\")\n",
    "else:\n",
    "    print(\"20% 이하 - 정상(안심)\")     \n"
   ]
  },
  {
   "cell_type": "code",
   "execution_count": 19,
   "metadata": {},
   "outputs": [
    {
     "name": "stdout",
     "output_type": "stream",
     "text": [
      "짝수의 합: 2550\n",
      "{'A': 3, 'B': 2, 'AB': 2, 'O': 3}\n"
     ]
    }
   ],
   "source": [
    "# 연구 과제(8)\n",
    "# 짝수의 합 구하기 check\n",
    "to = 0\n",
    "for i in range(2, 101, 2):\n",
    "    to += i\n",
    "print(\"짝수의 합:\", to)\n",
    "\n",
    "# 선생님 풀이\n",
    "i = 0\n",
    "total = 0\n",
    "while i < 101:\n",
    "    total +=2\n",
    "print(total)\n",
    "\n",
    "# 혈액형 빈도수 구하기 check\n",
    "blood = ['A', 'A', 'A', 'O', 'B', 'B', 'O', 'AB', 'AB', 'O']\n",
    "result = {\"A\" : blood.count('A'), \"B\": blood.count('B'), \"AB\": blood.count('AB'), \"O\": blood.count('O')}\n",
    "print(result)\n",
    "\n",
    "# 풀이 1\n",
    "# for item in blood:\n",
    "#     if item == 'A':\n",
    "#         result['A'] += 1\n",
    "#     elif item == 'B':\n",
    "#         result[\"B\"] += 1\n",
    "#     elif item == 'AB':\n",
    "#         result[\"AB\"] += 1\n",
    "#     else :\n",
    "#         result[\"O\"] += 1  \n",
    "\n",
    "# 풀이 2   \n",
    "for item in blood:\n",
    "    result[item] += 1\n",
    "print(result)"
   ]
  },
  {
   "cell_type": "code",
   "execution_count": 2,
   "metadata": {},
   "outputs": [
    {
     "name": "stdout",
     "output_type": "stream",
     "text": [
      "120\n"
     ]
    }
   ],
   "source": [
    "# 연구 과제 (9)\n",
    "# 팩토리얼 구하기 check\n",
    "n = int(input(\"숫자를 입력하세요.: \"))\n",
    "to = 1\n",
    "for i in range(1, n+1, 1):\n",
    "    to *= i\n",
    "print(to)\n",
    "\n",
    "# 팩토리얼 함수 풀이\n",
    "def f(x):\n",
    "    if x == 1:\n",
    "        return 1\n",
    "    return x * f(x-1)\n",
    "\n",
    "x = 5\n",
    "facto = f(5)\n",
    "print(facto)"
   ]
  },
  {
   "cell_type": "code",
   "execution_count": 5,
   "metadata": {},
   "outputs": [
    {
     "name": "stdout",
     "output_type": "stream",
     "text": [
      "[1, 5]\n",
      "[2, 4]\n",
      "[3, 3]\n",
      "[4, 2]\n",
      "[5, 1]\n",
      "5\n",
      "[1, 5]\n",
      "[2, 4]\n",
      "[3, 3]\n",
      "[4, 2]\n",
      "[5, 1]\n",
      "5\n"
     ]
    }
   ],
   "source": [
    "# 연구 과제 (10) check\n",
    "count = 0\n",
    "a = [1,2,3,4,5,6]\n",
    "for i in range(len(a)):\n",
    "    for j in range(len(a)):\n",
    "        if a[i] +a[j]  == 6:\n",
    "            print([a[i], a[j]])\n",
    "            count += 1\n",
    "print(count)\n",
    "\n",
    "# 풀이 1\n",
    "count = 0\n",
    "for i in range(1, 7):\n",
    "    for j in range(1, 7):\n",
    "        if i + j == 6:\n",
    "            print([i, j])\n",
    "            count += 1\n",
    "print(count)"
   ]
  },
  {
   "cell_type": "code",
   "execution_count": 6,
   "metadata": {},
   "outputs": [
    {
     "name": "stdout",
     "output_type": "stream",
     "text": [
      "3 4 432\n"
     ]
    }
   ],
   "source": [
    "# 연구 과제 (11)\n",
    "x = int(input(\"x값을 입력\"))\n",
    "y = int(input(\"y값을 입력\"))\n",
    "\n",
    "total = 0\n",
    "for i in range(0, 101):\n",
    "    if i % x  == 0 and i % y == 0: \n",
    "        total += i\n",
    "print(x, y, total)\n"
   ]
  },
  {
   "cell_type": "code",
   "execution_count": 25,
   "metadata": {},
   "outputs": [
    {
     "name": "stdout",
     "output_type": "stream",
     "text": [
      "349500\n"
     ]
    }
   ],
   "source": [
    "# 연구 과제 (12) check 못 풀었음\n",
    "dic = {\"월\": 4, \"화\": 3, \"수\": 3, \"목\": 4, \"금\": 5, \"토\":  7, \"일\": 6 }\n",
    "\n",
    "key = list(dic.keys())\n",
    "value = list(dic.values())\n",
    "\n",
    "day = 0\n",
    "week = 0\n",
    "\n",
    "for i in range(0, len(key)):\n",
    "    if i < 5:\n",
    "        day += value[i] * 9500\n",
    "    else:\n",
    "        week += value[i] * 13000\n",
    "print(day + week)\n",
    "# for i in range(len(key)):\n",
    "#     if key[:4]:\n",
    "#         day += value[i]\n",
    "# print(day)"
   ]
  },
  {
   "cell_type": "code",
   "execution_count": 23,
   "metadata": {},
   "outputs": [
    {
     "name": "stdout",
     "output_type": "stream",
     "text": [
      "349500\n",
      "349500\n"
     ]
    }
   ],
   "source": [
    "# 연구 과제 (12) check 못 풀었음\n",
    "\n",
    "# 풀이 1\n",
    "time = [4, 3, 3, 4, 5, 7, 6]\n",
    "\n",
    "pay = 0\n",
    "\n",
    "# 리스트의 인덱스를 판단하기 위한 변수\n",
    "p = 0\n",
    "\n",
    "for i in range(0, len(time)):\n",
    "    if p < 5:\n",
    "        pay += time[i] * 9500\n",
    "    else:\n",
    "        pay += time[i] * 13000\n",
    "    p += 1\n",
    "print(pay)\n",
    "\n",
    "# 풀이 2\n",
    "time = [4, 3, 3, 4, 5, 7, 6]\n",
    "pay = 0\n",
    "\n",
    "for i, v in enumerate(time):\n",
    "    if i < 5:\n",
    "        pay += v * 9500\n",
    "    else:\n",
    "        pay += v * 13000\n",
    "print(pay)\n",
    "    "
   ]
  },
  {
   "cell_type": "code",
   "execution_count": 10,
   "metadata": {},
   "outputs": [
    {
     "name": "stdout",
     "output_type": "stream",
     "text": [
      "239476.5\n"
     ]
    }
   ],
   "source": [
    "# 연구 과제 (13) check 못 풀었음\n",
    "# 풀이 1\n",
    "inven = [\n",
    "    {\"수량\": 291, \"단가\": 500},\n",
    "    {\"수량\": 55, \"단가\": 600},\n",
    "    {\"수량\": 291, \"단가\": 50},\n",
    "    {\"수량\": 198, \"단가\": 350},\n",
    "    {\"수량\": 83, \"단가\": 45},\n",
    "]\n",
    "\n",
    "total = 0\n",
    "\n",
    "for item in inven:\n",
    "    total += item['수량'] * item['단가'] * 0.9\n",
    "print(\"%0.1f\" % total)\n"
   ]
  },
  {
   "cell_type": "code",
   "execution_count": 11,
   "metadata": {},
   "outputs": [
    {
     "data": {
      "text/plain": [
       "[{'수량': 291, '단가': 500},\n",
       " {'수량': 291, '단가': 50},\n",
       " {'수량': 198, '단가': 350},\n",
       " {'수량': 83, '단가': 45},\n",
       " {'수량': 55, '단가': 600}]"
      ]
     },
     "execution_count": 11,
     "metadata": {},
     "output_type": "execute_result"
    }
   ],
   "source": [
    "# 참고용\n",
    "for i in range(0, len(inven)-1):\n",
    "    for j in range(i+1, len(inven)):\n",
    "        if inven[i][\"수량\"] < inven[j][\"수량\"]:\n",
    "            inven[i], inven[j] = inven[j], inven[i]\n",
    "inven"
   ]
  },
  {
   "cell_type": "code",
   "execution_count": 13,
   "metadata": {},
   "outputs": [
    {
     "name": "stdout",
     "output_type": "stream",
     "text": [
      "*\n",
      "**\n",
      "***\n",
      "****\n",
      "*****\n"
     ]
    }
   ],
   "source": [
    "for i in range(0, 5):\n",
    "    star = \"\"\n",
    "    for j in range(0, i+1):\n",
    "        star += \"*\"\n",
    "    print(star)"
   ]
  },
  {
   "cell_type": "code",
   "execution_count": 17,
   "metadata": {},
   "outputs": [
    {
     "name": "stdout",
     "output_type": "stream",
     "text": [
      "*****\n",
      "****\n",
      "***\n",
      "**\n",
      "*\n"
     ]
    }
   ],
   "source": [
    "for i in range(0, 5):\n",
    "    star = \"\"\n",
    "    for j in range(0, 5-i):\n",
    "        star += \"*\"\n",
    "    print(star)"
   ]
  }
 ],
 "metadata": {
  "kernelspec": {
   "display_name": "Python 3",
   "language": "python",
   "name": "python3"
  },
  "language_info": {
   "codemirror_mode": {
    "name": "ipython",
    "version": 3
   },
   "file_extension": ".py",
   "mimetype": "text/x-python",
   "name": "python",
   "nbconvert_exporter": "python",
   "pygments_lexer": "ipython3",
   "version": "3.11.4"
  },
  "orig_nbformat": 4
 },
 "nbformat": 4,
 "nbformat_minor": 2
}
