{
 "cells": [
  {
   "cell_type": "code",
   "execution_count": 2,
   "metadata": {},
   "outputs": [
    {
     "ename": "ImportError",
     "evalue": "\n\nIMPORTANT: PLEASE READ THIS FOR ADVICE ON HOW TO SOLVE THIS ISSUE!\n\nImporting the numpy C-extensions failed. This error can happen for\nmany reasons, often due to issues with your setup or how NumPy was\ninstalled.\n\nWe have compiled some common reasons and troubleshooting tips at:\n\n    https://numpy.org/devdocs/user/troubleshooting-importerror.html\n\nPlease note and check the following:\n\n  * The Python version is: Python3.9 from \"d:\\python\\python.exe\"\n  * The NumPy version is: \"1.25.0\"\n\nand make sure that they are the versions you expect.\nPlease carefully study the documentation linked above for further help.\n\nOriginal error was: No module named 'numpy.core._multiarray_umath'\n",
     "output_type": "error",
     "traceback": [
      "\u001b[1;31m---------------------------------------------------------------------------\u001b[0m",
      "\u001b[1;31mModuleNotFoundError\u001b[0m                       Traceback (most recent call last)",
      "File \u001b[1;32md:\\python\\lib\\site-packages\\numpy\\core\\__init__.py:23\u001b[0m\n\u001b[0;32m     22\u001b[0m \u001b[39mtry\u001b[39;00m:\n\u001b[1;32m---> 23\u001b[0m     \u001b[39mfrom\u001b[39;00m \u001b[39m.\u001b[39;00m \u001b[39mimport\u001b[39;00m multiarray\n\u001b[0;32m     24\u001b[0m \u001b[39mexcept\u001b[39;00m \u001b[39mImportError\u001b[39;00m \u001b[39mas\u001b[39;00m exc:\n",
      "File \u001b[1;32md:\\python\\lib\\site-packages\\numpy\\core\\multiarray.py:10\u001b[0m\n\u001b[0;32m      9\u001b[0m \u001b[39mimport\u001b[39;00m \u001b[39mfunctools\u001b[39;00m\n\u001b[1;32m---> 10\u001b[0m \u001b[39mfrom\u001b[39;00m \u001b[39m.\u001b[39;00m \u001b[39mimport\u001b[39;00m overrides\n\u001b[0;32m     11\u001b[0m \u001b[39mfrom\u001b[39;00m \u001b[39m.\u001b[39;00m \u001b[39mimport\u001b[39;00m _multiarray_umath\n",
      "File \u001b[1;32md:\\python\\lib\\site-packages\\numpy\\core\\overrides.py:8\u001b[0m\n\u001b[0;32m      7\u001b[0m \u001b[39mfrom\u001b[39;00m \u001b[39m.\u001b[39;00m\u001b[39m.\u001b[39;00m\u001b[39m_utils\u001b[39;00m\u001b[39m.\u001b[39;00m\u001b[39m_inspect\u001b[39;00m \u001b[39mimport\u001b[39;00m getargspec\n\u001b[1;32m----> 8\u001b[0m \u001b[39mfrom\u001b[39;00m \u001b[39mnumpy\u001b[39;00m\u001b[39m.\u001b[39;00m\u001b[39mcore\u001b[39;00m\u001b[39m.\u001b[39;00m\u001b[39m_multiarray_umath\u001b[39;00m \u001b[39mimport\u001b[39;00m (\n\u001b[0;32m      9\u001b[0m     add_docstring,  _get_implementing_args, _ArrayFunctionDispatcher)\n\u001b[0;32m     12\u001b[0m ARRAY_FUNCTIONS \u001b[39m=\u001b[39m \u001b[39mset\u001b[39m()\n",
      "\u001b[1;31mModuleNotFoundError\u001b[0m: No module named 'numpy.core._multiarray_umath'",
      "\nDuring handling of the above exception, another exception occurred:\n",
      "\u001b[1;31mImportError\u001b[0m                               Traceback (most recent call last)",
      "Cell \u001b[1;32mIn[2], line 4\u001b[0m\n\u001b[0;32m      1\u001b[0m \u001b[39mimport\u001b[39;00m \u001b[39msys\u001b[39;00m\n\u001b[0;32m      3\u001b[0m sys\u001b[39m.\u001b[39mpath\u001b[39m.\u001b[39mappend(\u001b[39m\"\u001b[39m\u001b[39m../../\u001b[39m\u001b[39m\"\u001b[39m)\n\u001b[1;32m----> 4\u001b[0m \u001b[39mimport\u001b[39;00m \u001b[39mhelper\u001b[39;00m\n\u001b[0;32m      6\u001b[0m \u001b[39mimport\u001b[39;00m \u001b[39mnumpy\u001b[39;00m \u001b[39mas\u001b[39;00m \u001b[39mnp\u001b[39;00m\n\u001b[0;32m      7\u001b[0m \u001b[39mimport\u001b[39;00m \u001b[39mseaborn\u001b[39;00m \u001b[39mas\u001b[39;00m \u001b[39msb\u001b[39;00m\n",
      "File \u001b[1;32mc:\\Users\\User\\MDblue\\Bigdata\\수업내용\\F_데이터_마이닝\\02_Sklearn\\../..\\helper.py:2\u001b[0m\n\u001b[0;32m      1\u001b[0m \u001b[39mimport\u001b[39;00m \u001b[39msys\u001b[39;00m\n\u001b[1;32m----> 2\u001b[0m \u001b[39mimport\u001b[39;00m \u001b[39mnumpy\u001b[39;00m \u001b[39mas\u001b[39;00m \u001b[39mnp\u001b[39;00m\n\u001b[0;32m      3\u001b[0m \u001b[39mimport\u001b[39;00m \u001b[39mseaborn\u001b[39;00m \u001b[39mas\u001b[39;00m \u001b[39msb\u001b[39;00m\n\u001b[0;32m      4\u001b[0m \u001b[39mfrom\u001b[39;00m \u001b[39mpca\u001b[39;00m \u001b[39mimport\u001b[39;00m pca\n",
      "File \u001b[1;32md:\\python\\lib\\site-packages\\numpy\\__init__.py:139\u001b[0m\n\u001b[0;32m    136\u001b[0m \u001b[39m# mapping of {name: (value, deprecation_msg)}\u001b[39;00m\n\u001b[0;32m    137\u001b[0m __deprecated_attrs__ \u001b[39m=\u001b[39m {}\n\u001b[1;32m--> 139\u001b[0m \u001b[39mfrom\u001b[39;00m \u001b[39m.\u001b[39;00m \u001b[39mimport\u001b[39;00m core\n\u001b[0;32m    140\u001b[0m \u001b[39mfrom\u001b[39;00m \u001b[39m.\u001b[39;00m\u001b[39mcore\u001b[39;00m \u001b[39mimport\u001b[39;00m \u001b[39m*\u001b[39m\n\u001b[0;32m    141\u001b[0m \u001b[39mfrom\u001b[39;00m \u001b[39m.\u001b[39;00m \u001b[39mimport\u001b[39;00m compat\n",
      "File \u001b[1;32md:\\python\\lib\\site-packages\\numpy\\core\\__init__.py:49\u001b[0m\n\u001b[0;32m     25\u001b[0m     \u001b[39mimport\u001b[39;00m \u001b[39msys\u001b[39;00m\n\u001b[0;32m     26\u001b[0m     msg \u001b[39m=\u001b[39m \u001b[39m\"\"\"\u001b[39m\n\u001b[0;32m     27\u001b[0m \n\u001b[0;32m     28\u001b[0m \u001b[39mIMPORTANT: PLEASE READ THIS FOR ADVICE ON HOW TO SOLVE THIS ISSUE!\u001b[39m\n\u001b[1;32m   (...)\u001b[0m\n\u001b[0;32m     47\u001b[0m \u001b[39m\"\"\"\u001b[39m \u001b[39m%\u001b[39m (sys\u001b[39m.\u001b[39mversion_info[\u001b[39m0\u001b[39m], sys\u001b[39m.\u001b[39mversion_info[\u001b[39m1\u001b[39m], sys\u001b[39m.\u001b[39mexecutable,\n\u001b[0;32m     48\u001b[0m         __version__, exc)\n\u001b[1;32m---> 49\u001b[0m     \u001b[39mraise\u001b[39;00m \u001b[39mImportError\u001b[39;00m(msg)\n\u001b[0;32m     50\u001b[0m \u001b[39mfinally\u001b[39;00m:\n\u001b[0;32m     51\u001b[0m     \u001b[39mfor\u001b[39;00m envkey \u001b[39min\u001b[39;00m env_added:\n",
      "\u001b[1;31mImportError\u001b[0m: \n\nIMPORTANT: PLEASE READ THIS FOR ADVICE ON HOW TO SOLVE THIS ISSUE!\n\nImporting the numpy C-extensions failed. This error can happen for\nmany reasons, often due to issues with your setup or how NumPy was\ninstalled.\n\nWe have compiled some common reasons and troubleshooting tips at:\n\n    https://numpy.org/devdocs/user/troubleshooting-importerror.html\n\nPlease note and check the following:\n\n  * The Python version is: Python3.9 from \"d:\\python\\python.exe\"\n  * The NumPy version is: \"1.25.0\"\n\nand make sure that they are the versions you expect.\nPlease carefully study the documentation linked above for further help.\n\nOriginal error was: No module named 'numpy.core._multiarray_umath'\n"
     ]
    }
   ],
   "source": [
    "import sys\n",
    "\n",
    "sys.path.append(\"../../\")\n",
    "import helper\n",
    "\n",
    "import numpy as np\n",
    "import seaborn as sb\n",
    "from pandas import read_excel, DataFrame\n",
    "from matplotlib import pyplot as plt\n",
    "\n",
    "from sklearn.linear_model import LinearRegression\n",
    "from sklearn.model_selection import train_test_split\n",
    "from sklearn.preprocessing import PolynomialFeatures"
   ]
  },
  {
   "cell_type": "code",
   "execution_count": null,
   "metadata": {},
   "outputs": [],
   "source": [
    "plt.rcParams[\"font.family\"] = 'AppleGothic' if sys.platform == 'darwin' else 'Malgun Gothic'\n",
    "plt.rcParams[\"font.size\"] = 12\n",
    "plt.rcParams[\"figure.figsize\"] = (10, 5)\n",
    "plt.rcParams[\"axes.unicode_minus\"] = False"
   ]
  },
  {
   "cell_type": "markdown",
   "metadata": {},
   "source": [
    "### 연습문제 1-1\n",
    "\n",
    "  - 문제를 다항선형회귀 분석으로 재현하고 설명력과 에러율을 표시하라.\n",
    "\n",
    "  - 훈련데이터와 검정 데이터에 대한 관측치와 에측치에 대한 시각화를 제시하라\n",
    "\n",
    "### 문제 1\n",
    "\n",
    "#### 데이터 불러오기"
   ]
  },
  {
   "cell_type": "code",
   "execution_count": null,
   "metadata": {},
   "outputs": [
    {
     "data": {
      "text/html": [
       "<div>\n",
       "<style scoped>\n",
       "    .dataframe tbody tr th:only-of-type {\n",
       "        vertical-align: middle;\n",
       "    }\n",
       "\n",
       "    .dataframe tbody tr th {\n",
       "        vertical-align: top;\n",
       "    }\n",
       "\n",
       "    .dataframe thead th {\n",
       "        text-align: right;\n",
       "    }\n",
       "</style>\n",
       "<table border=\"1\" class=\"dataframe\">\n",
       "  <thead>\n",
       "    <tr style=\"text-align: right;\">\n",
       "      <th></th>\n",
       "      <th>수분함유량</th>\n",
       "      <th>강도</th>\n",
       "    </tr>\n",
       "  </thead>\n",
       "  <tbody>\n",
       "    <tr>\n",
       "      <th>0</th>\n",
       "      <td>36</td>\n",
       "      <td>29</td>\n",
       "    </tr>\n",
       "    <tr>\n",
       "      <th>1</th>\n",
       "      <td>40</td>\n",
       "      <td>32</td>\n",
       "    </tr>\n",
       "    <tr>\n",
       "      <th>2</th>\n",
       "      <td>34</td>\n",
       "      <td>29</td>\n",
       "    </tr>\n",
       "    <tr>\n",
       "      <th>3</th>\n",
       "      <td>44</td>\n",
       "      <td>40</td>\n",
       "    </tr>\n",
       "    <tr>\n",
       "      <th>4</th>\n",
       "      <td>33</td>\n",
       "      <td>31</td>\n",
       "    </tr>\n",
       "  </tbody>\n",
       "</table>\n",
       "</div>"
      ],
      "text/plain": [
       "   수분함유량  강도\n",
       "0     36  29\n",
       "1     40  32\n",
       "2     34  29\n",
       "3     44  40\n",
       "4     33  31"
      ]
     },
     "execution_count": 4,
     "metadata": {},
     "output_type": "execute_result"
    }
   ],
   "source": [
    "df = read_excel(r\"C:\\Users\\User\\MDblue\\Bigdata\\수업내용\\F_데이터_마이닝\\02_Sklearn\\beans.xlsx\")\n",
    "df.head()"
   ]
  },
  {
   "cell_type": "code",
   "execution_count": null,
   "metadata": {},
   "outputs": [
    {
     "data": {
      "text/plain": [
       "array([[  36., 1296.],\n",
       "       [  40., 1600.],\n",
       "       [  34., 1156.],\n",
       "       [  44., 1936.],\n",
       "       [  33., 1089.],\n",
       "       [  36., 1296.],\n",
       "       [  40., 1600.],\n",
       "       [  33., 1089.],\n",
       "       [  26.,  676.],\n",
       "       [  36., 1296.]])"
      ]
     },
     "execution_count": 5,
     "metadata": {},
     "output_type": "execute_result"
    }
   ],
   "source": [
    "poly = PolynomialFeatures(include_bias=False)\n",
    "fit = poly.fit_transform(df[['수분함유량']])\n",
    "fit"
   ]
  },
  {
   "cell_type": "code",
   "execution_count": null,
   "metadata": {},
   "outputs": [
    {
     "data": {
      "text/plain": [
       "array(['수분함유량', '수분함유량^2'], dtype=object)"
      ]
     },
     "execution_count": 6,
     "metadata": {},
     "output_type": "execute_result"
    }
   ],
   "source": [
    "poly.get_feature_names_out()"
   ]
  },
  {
   "cell_type": "code",
   "execution_count": null,
   "metadata": {},
   "outputs": [
    {
     "data": {
      "text/html": [
       "<div>\n",
       "<style scoped>\n",
       "    .dataframe tbody tr th:only-of-type {\n",
       "        vertical-align: middle;\n",
       "    }\n",
       "\n",
       "    .dataframe tbody tr th {\n",
       "        vertical-align: top;\n",
       "    }\n",
       "\n",
       "    .dataframe thead th {\n",
       "        text-align: right;\n",
       "    }\n",
       "</style>\n",
       "<table border=\"1\" class=\"dataframe\">\n",
       "  <thead>\n",
       "    <tr style=\"text-align: right;\">\n",
       "      <th></th>\n",
       "      <th>수분함유량</th>\n",
       "      <th>수분함유량^2</th>\n",
       "    </tr>\n",
       "  </thead>\n",
       "  <tbody>\n",
       "    <tr>\n",
       "      <th>0</th>\n",
       "      <td>36.0</td>\n",
       "      <td>1296.0</td>\n",
       "    </tr>\n",
       "    <tr>\n",
       "      <th>1</th>\n",
       "      <td>40.0</td>\n",
       "      <td>1600.0</td>\n",
       "    </tr>\n",
       "    <tr>\n",
       "      <th>2</th>\n",
       "      <td>34.0</td>\n",
       "      <td>1156.0</td>\n",
       "    </tr>\n",
       "    <tr>\n",
       "      <th>3</th>\n",
       "      <td>44.0</td>\n",
       "      <td>1936.0</td>\n",
       "    </tr>\n",
       "    <tr>\n",
       "      <th>4</th>\n",
       "      <td>33.0</td>\n",
       "      <td>1089.0</td>\n",
       "    </tr>\n",
       "  </tbody>\n",
       "</table>\n",
       "</div>"
      ],
      "text/plain": [
       "   수분함유량  수분함유량^2\n",
       "0   36.0   1296.0\n",
       "1   40.0   1600.0\n",
       "2   34.0   1156.0\n",
       "3   44.0   1936.0\n",
       "4   33.0   1089.0"
      ]
     },
     "execution_count": 7,
     "metadata": {},
     "output_type": "execute_result"
    }
   ],
   "source": [
    "x = DataFrame(fit, columns=poly.get_feature_names_out())\n",
    "x.head()"
   ]
  },
  {
   "cell_type": "code",
   "execution_count": null,
   "metadata": {},
   "outputs": [
    {
     "data": {
      "text/html": [
       "<div>\n",
       "<style scoped>\n",
       "    .dataframe tbody tr th:only-of-type {\n",
       "        vertical-align: middle;\n",
       "    }\n",
       "\n",
       "    .dataframe tbody tr th {\n",
       "        vertical-align: top;\n",
       "    }\n",
       "\n",
       "    .dataframe thead th {\n",
       "        text-align: right;\n",
       "    }\n",
       "</style>\n",
       "<table border=\"1\" class=\"dataframe\">\n",
       "  <thead>\n",
       "    <tr style=\"text-align: right;\">\n",
       "      <th></th>\n",
       "      <th>강도</th>\n",
       "    </tr>\n",
       "  </thead>\n",
       "  <tbody>\n",
       "    <tr>\n",
       "      <th>0</th>\n",
       "      <td>29</td>\n",
       "    </tr>\n",
       "    <tr>\n",
       "      <th>1</th>\n",
       "      <td>32</td>\n",
       "    </tr>\n",
       "    <tr>\n",
       "      <th>2</th>\n",
       "      <td>29</td>\n",
       "    </tr>\n",
       "    <tr>\n",
       "      <th>3</th>\n",
       "      <td>40</td>\n",
       "    </tr>\n",
       "    <tr>\n",
       "      <th>4</th>\n",
       "      <td>31</td>\n",
       "    </tr>\n",
       "  </tbody>\n",
       "</table>\n",
       "</div>"
      ],
      "text/plain": [
       "   강도\n",
       "0  29\n",
       "1  32\n",
       "2  29\n",
       "3  40\n",
       "4  31"
      ]
     },
     "execution_count": 8,
     "metadata": {},
     "output_type": "execute_result"
    }
   ],
   "source": [
    "y = df[['강도']]\n",
    "y.head()"
   ]
  },
  {
   "cell_type": "code",
   "execution_count": null,
   "metadata": {},
   "outputs": [
    {
     "data": {
      "text/plain": [
       "((7, 2), (3, 2), (7, 1), (3, 1))"
      ]
     },
     "execution_count": 9,
     "metadata": {},
     "output_type": "execute_result"
    }
   ],
   "source": [
    "x_train, x_test, y_train, y_test = train_test_split(x, y, test_size=0.3, random_state=123)\n",
    "x_train.shape, x_test.shape, y_train.shape, y_test.shape"
   ]
  },
  {
   "cell_type": "code",
   "execution_count": null,
   "metadata": {},
   "outputs": [
    {
     "name": "stdout",
     "output_type": "stream",
     "text": [
      "계수:  [[-2.05422407  0.04045876]]\n",
      "절편:  [51.29936854]\n",
      "훈련 데이터 설명력:  0.948987598169573\n",
      "검증 데이터 설명력:  -8.143084034528927\n"
     ]
    }
   ],
   "source": [
    "model = LinearRegression()\n",
    "fit = model.fit(x_train, y_train)\n",
    "\n",
    "print(\"계수: \", fit.coef_)\n",
    "print(\"절편: \", fit.intercept_)\n",
    "print(\"훈련 데이터 설명력: \", fit.score(x_train, y_train))\n",
    "print(\"검증 데이터 설명력: \", fit.score(x_test, y_test))"
   ]
  },
  {
   "cell_type": "code",
   "execution_count": null,
   "metadata": {},
   "outputs": [
    {
     "data": {
      "text/plain": [
       "array([29.78185993, 25.23966705, 39.24167623, 33.86442786, 33.86442786,\n",
       "       29.78185993, 28.22608113])"
      ]
     },
     "execution_count": 11,
     "metadata": {},
     "output_type": "execute_result"
    }
   ],
   "source": [
    "y_train_pred = fit.predict(x_train)\n",
    "y_train_pred = y_train_pred.reshape(-1)\n",
    "y_train_pred"
   ]
  },
  {
   "cell_type": "code",
   "execution_count": null,
   "metadata": {},
   "outputs": [
    {
     "data": {
      "text/plain": [
       "array([27.56956803, 29.78185993, 27.56956803])"
      ]
     },
     "execution_count": 12,
     "metadata": {},
     "output_type": "execute_result"
    }
   ],
   "source": [
    "y_test_pred = fit.predict(x_test)\n",
    "y_test_pred = y_test_pred.reshape(-1)\n",
    "y_test_pred"
   ]
  },
  {
   "cell_type": "code",
   "execution_count": null,
   "metadata": {},
   "outputs": [
    {
     "name": "stdout",
     "output_type": "stream",
     "text": [
      "계수:  [[-2.05422407  0.04045876]]\n",
      "절편:  [51.29936854]\n"
     ]
    }
   ],
   "source": [
    "olsResult = helper.ml_ols(df, xnames='수분함유량', yname='강도', degree=2, test_size=0.3, random_state=123)\n",
    "\n",
    "print(\"계수: \", olsResult.coef)\n",
    "print(\"절편: \", olsResult.intercept)"
   ]
  },
  {
   "cell_type": "code",
   "execution_count": null,
   "metadata": {},
   "outputs": [
    {
     "name": "stdout",
     "output_type": "stream",
     "text": [
      "R^2:  0.948987598169573\n",
      "MAE:  0.8245585260510643\n",
      "MSE:  0.9744409819036656\n",
      "RMSE:  0.9871377725037501\n",
      "MAPE:  2.624827833276785\n",
      "MPE:  -0.08405044961718751\n"
     ]
    }
   ],
   "source": [
    "print(\"R^2: \", olsResult.trainRegMetric.r2)\n",
    "print(\"MAE: \", olsResult.trainRegMetric.mae)\n",
    "print(\"MSE: \", olsResult.trainRegMetric.mse)\n",
    "print(\"RMSE: \", olsResult.trainRegMetric.rmse)\n",
    "print(\"MAPE: \", olsResult.trainRegMetric.mape)\n",
    "print(\"MPE: \", olsResult.trainRegMetric.mpe)"
   ]
  },
  {
   "cell_type": "code",
   "execution_count": null,
   "metadata": {},
   "outputs": [
    {
     "data": {
      "image/png": "[encoded data removed]",
      "text/plain": [
       "<Figure size 1500x500 with 2 Axes>"
      ]
     },
     "metadata": {},
     "output_type": "display_data"
    }
   ],
   "source": [
    "fig, (ax1, ax2) = plt.subplots(1, 2, figsize=(15, 5))\n",
    "\n",
    "# 학습에 사용한 데이터와 예측값의 차이를 시각화\n",
    "sb.scatterplot(x=x_train['수분함유량'], y=y_train['강도'], label='train data', ax=ax1)\n",
    "sb.scatterplot(x=x_train['수분함유량'], y=y_train_pred, label='train predict', ax=ax1)\n",
    "\n",
    "# 그래프가 그려진 범위 안에서 1씩 증가하는 좌표를 생성\n",
    "xmin, xmax = ax1.get_xlim()\n",
    "xrange = np.arange(xmin.round(), xmax.round(), 1)\n",
    "# y값에 대한 추정치를 계산\n",
    "y_pred = xrange * fit.coef_[0][0] + xrange**2 * fit.coef_[0][1] + fit.intercept_[0]\n",
    "\n",
    "# 추세선\n",
    "sb.lineplot(x=xrange, y=y_pred, color='red', ax=ax1)\n",
    "\n",
    "ax1.set_title(\"훈련 데이터\")\n",
    "ax1.legend()\n",
    "ax1.grid()\n",
    "\n",
    "\n",
    "# 검증용 데이터와 예측값의 차이를 시각화\n",
    "sb.scatterplot(x=x_test['수분함유량'], y=y_test['강도'], label='test data', ax=ax2)\n",
    "sb.scatterplot(x=x_test['수분함유량'], y=y_test_pred, label='test predict', ax=ax2)\n",
    "\n",
    "# 그래프가 그려진 범위 안에서 1씩 증가하는 좌표를 생성\n",
    "xmin, xmax = ax2.get_xlim()\n",
    "xrange = np.arange(xmin.round(), xmax.round(), 1)\n",
    "\n",
    "# y값에 대한 추정치를 계산\n",
    "y_pred = xrange * fit.coef_[0][0] + xrange**2 * fit.coef_[0][1] + fit.intercept_[0]\n",
    "\n",
    "# 추세선\n",
    "sb.lineplot(x=xrange, y=y_pred, color='red', ax=ax2)\n",
    "\n",
    "ax2.set_title(\"검증 데이터\")\n",
    "ax2.legend()\n",
    "ax2.grid()\n",
    "\n",
    "plt.show()\n",
    "plt.close()"
   ]
  },
  {
   "cell_type": "markdown",
   "metadata": {},
   "source": [
    "#### 문제2"
   ]
  },
  {
   "cell_type": "code",
   "execution_count": null,
   "metadata": {},
   "outputs": [
    {
     "data": {
      "text/html": [
       "<div>\n",
       "<style scoped>\n",
       "    .dataframe tbody tr th:only-of-type {\n",
       "        vertical-align: middle;\n",
       "    }\n",
       "\n",
       "    .dataframe tbody tr th {\n",
       "        vertical-align: top;\n",
       "    }\n",
       "\n",
       "    .dataframe thead th {\n",
       "        text-align: right;\n",
       "    }\n",
       "</style>\n",
       "<table border=\"1\" class=\"dataframe\">\n",
       "  <thead>\n",
       "    <tr style=\"text-align: right;\">\n",
       "      <th></th>\n",
       "      <th>예약대수</th>\n",
       "      <th>판매대수</th>\n",
       "    </tr>\n",
       "  </thead>\n",
       "  <tbody>\n",
       "    <tr>\n",
       "      <th>0</th>\n",
       "      <td>19</td>\n",
       "      <td>33</td>\n",
       "    </tr>\n",
       "    <tr>\n",
       "      <th>1</th>\n",
       "      <td>23</td>\n",
       "      <td>51</td>\n",
       "    </tr>\n",
       "    <tr>\n",
       "      <th>2</th>\n",
       "      <td>26</td>\n",
       "      <td>40</td>\n",
       "    </tr>\n",
       "    <tr>\n",
       "      <th>3</th>\n",
       "      <td>29</td>\n",
       "      <td>49</td>\n",
       "    </tr>\n",
       "    <tr>\n",
       "      <th>4</th>\n",
       "      <td>30</td>\n",
       "      <td>50</td>\n",
       "    </tr>\n",
       "  </tbody>\n",
       "</table>\n",
       "</div>"
      ],
      "text/plain": [
       "   예약대수  판매대수\n",
       "0    19    33\n",
       "1    23    51\n",
       "2    26    40\n",
       "3    29    49\n",
       "4    30    50"
      ]
     },
     "execution_count": 16,
     "metadata": {},
     "output_type": "execute_result"
    }
   ],
   "source": [
    "af = read_excel(r\"C:\\Users\\User\\MDblue\\Bigdata\\수업내용\\F_데이터_마이닝\\02_Sklearn\\aircon.xlsx\")\n",
    "af.head()"
   ]
  },
  {
   "cell_type": "code",
   "execution_count": null,
   "metadata": {},
   "outputs": [
    {
     "data": {
      "text/plain": [
       "array([[  19.,  361.],\n",
       "       [  23.,  529.],\n",
       "       [  26.,  676.],\n",
       "       [  29.,  841.],\n",
       "       [  30.,  900.],\n",
       "       [  38., 1444.],\n",
       "       [  39., 1521.],\n",
       "       [  46., 2116.],\n",
       "       [  49., 2401.],\n",
       "       [  58., 3364.]])"
      ]
     },
     "execution_count": 17,
     "metadata": {},
     "output_type": "execute_result"
    }
   ],
   "source": [
    "poly = PolynomialFeatures(include_bias=False)\n",
    "fit = poly.fit_transform(af[['예약대수']])\n",
    "fit"
   ]
  },
  {
   "cell_type": "code",
   "execution_count": null,
   "metadata": {},
   "outputs": [
    {
     "data": {
      "text/plain": [
       "array(['예약대수', '예약대수^2'], dtype=object)"
      ]
     },
     "execution_count": 18,
     "metadata": {},
     "output_type": "execute_result"
    }
   ],
   "source": [
    "poly.get_feature_names_out()"
   ]
  },
  {
   "cell_type": "code",
   "execution_count": null,
   "metadata": {},
   "outputs": [
    {
     "data": {
      "text/html": [
       "<div>\n",
       "<style scoped>\n",
       "    .dataframe tbody tr th:only-of-type {\n",
       "        vertical-align: middle;\n",
       "    }\n",
       "\n",
       "    .dataframe tbody tr th {\n",
       "        vertical-align: top;\n",
       "    }\n",
       "\n",
       "    .dataframe thead th {\n",
       "        text-align: right;\n",
       "    }\n",
       "</style>\n",
       "<table border=\"1\" class=\"dataframe\">\n",
       "  <thead>\n",
       "    <tr style=\"text-align: right;\">\n",
       "      <th></th>\n",
       "      <th>예약대수</th>\n",
       "      <th>예약대수^2</th>\n",
       "    </tr>\n",
       "  </thead>\n",
       "  <tbody>\n",
       "    <tr>\n",
       "      <th>0</th>\n",
       "      <td>19.0</td>\n",
       "      <td>361.0</td>\n",
       "    </tr>\n",
       "    <tr>\n",
       "      <th>1</th>\n",
       "      <td>23.0</td>\n",
       "      <td>529.0</td>\n",
       "    </tr>\n",
       "    <tr>\n",
       "      <th>2</th>\n",
       "      <td>26.0</td>\n",
       "      <td>676.0</td>\n",
       "    </tr>\n",
       "    <tr>\n",
       "      <th>3</th>\n",
       "      <td>29.0</td>\n",
       "      <td>841.0</td>\n",
       "    </tr>\n",
       "    <tr>\n",
       "      <th>4</th>\n",
       "      <td>30.0</td>\n",
       "      <td>900.0</td>\n",
       "    </tr>\n",
       "  </tbody>\n",
       "</table>\n",
       "</div>"
      ],
      "text/plain": [
       "   예약대수  예약대수^2\n",
       "0  19.0   361.0\n",
       "1  23.0   529.0\n",
       "2  26.0   676.0\n",
       "3  29.0   841.0\n",
       "4  30.0   900.0"
      ]
     },
     "execution_count": 19,
     "metadata": {},
     "output_type": "execute_result"
    }
   ],
   "source": [
    "x = DataFrame(fit, columns=poly.get_feature_names_out())\n",
    "x.head()"
   ]
  },
  {
   "cell_type": "code",
   "execution_count": null,
   "metadata": {},
   "outputs": [
    {
     "data": {
      "text/html": [
       "<div>\n",
       "<style scoped>\n",
       "    .dataframe tbody tr th:only-of-type {\n",
       "        vertical-align: middle;\n",
       "    }\n",
       "\n",
       "    .dataframe tbody tr th {\n",
       "        vertical-align: top;\n",
       "    }\n",
       "\n",
       "    .dataframe thead th {\n",
       "        text-align: right;\n",
       "    }\n",
       "</style>\n",
       "<table border=\"1\" class=\"dataframe\">\n",
       "  <thead>\n",
       "    <tr style=\"text-align: right;\">\n",
       "      <th></th>\n",
       "      <th>판매대수</th>\n",
       "    </tr>\n",
       "  </thead>\n",
       "  <tbody>\n",
       "    <tr>\n",
       "      <th>0</th>\n",
       "      <td>33</td>\n",
       "    </tr>\n",
       "    <tr>\n",
       "      <th>1</th>\n",
       "      <td>51</td>\n",
       "    </tr>\n",
       "    <tr>\n",
       "      <th>2</th>\n",
       "      <td>40</td>\n",
       "    </tr>\n",
       "    <tr>\n",
       "      <th>3</th>\n",
       "      <td>49</td>\n",
       "    </tr>\n",
       "    <tr>\n",
       "      <th>4</th>\n",
       "      <td>50</td>\n",
       "    </tr>\n",
       "  </tbody>\n",
       "</table>\n",
       "</div>"
      ],
      "text/plain": [
       "   판매대수\n",
       "0    33\n",
       "1    51\n",
       "2    40\n",
       "3    49\n",
       "4    50"
      ]
     },
     "execution_count": 20,
     "metadata": {},
     "output_type": "execute_result"
    }
   ],
   "source": [
    "y = af[['판매대수']]\n",
    "y.head()"
   ]
  },
  {
   "cell_type": "code",
   "execution_count": null,
   "metadata": {},
   "outputs": [
    {
     "data": {
      "text/plain": [
       "((7, 2), (3, 2), (7, 1), (3, 1))"
      ]
     },
     "execution_count": 21,
     "metadata": {},
     "output_type": "execute_result"
    }
   ],
   "source": [
    "x_train, x_test, y_train, y_test = train_test_split(x, y, test_size=0.3, random_state=123)\n",
    "x_train.shape, x_test.shape, y_train.shape, y_test.shape"
   ]
  },
  {
   "cell_type": "code",
   "execution_count": null,
   "metadata": {},
   "outputs": [
    {
     "name": "stdout",
     "output_type": "stream",
     "text": [
      "계수:  [[ 1.72732907e+00 -1.10258345e-03]]\n",
      "절편:  [3.61731765]\n",
      "훈련 데이터 설명력:  0.9418315846138151\n",
      "검증 데이터 설명력:  0.3583742568809699\n"
     ]
    }
   ],
   "source": [
    "model = LinearRegression()\n",
    "fit = model.fit(x_train, y_train)\n",
    "\n",
    "print(\"계수: \", fit.coef_)\n",
    "print(\"절편: \", fit.intercept_)\n",
    "print(\"훈련 데이터 설명력: \", fit.score(x_train, y_train))\n",
    "print(\"검증 데이터 설명력: \", fit.score(x_test, y_test))"
   ]
  },
  {
   "cell_type": "code",
   "execution_count": null,
   "metadata": {},
   "outputs": [
    {
     "data": {
      "text/plain": [
       "array([ 67.66369172,  85.6091391 ,  52.78258793,  42.76261956,\n",
       "        69.30612186, 100.09331284,  47.782527  ])"
      ]
     },
     "execution_count": 23,
     "metadata": {},
     "output_type": "execute_result"
    }
   ],
   "source": [
    "y_train_pred = fit.predict(x_train)\n",
    "y_train_pred = y_train_pred.reshape(-1)\n",
    "y_train_pred"
   ]
  },
  {
   "cell_type": "code",
   "execution_count": null,
   "metadata": {},
   "outputs": [
    {
     "data": {
      "text/plain": [
       "array([54.44486457, 36.03853731, 80.74138818])"
      ]
     },
     "execution_count": 24,
     "metadata": {},
     "output_type": "execute_result"
    }
   ],
   "source": [
    "y_test_pred = fit.predict(x_test)\n",
    "y_test_pred = y_test_pred.reshape(-1)\n",
    "y_test_pred"
   ]
  },
  {
   "cell_type": "code",
   "execution_count": null,
   "metadata": {},
   "outputs": [
    {
     "name": "stdout",
     "output_type": "stream",
     "text": [
      "계수:  [[ 1.72732907e+00 -1.10258345e-03]]\n",
      "절편:  [3.61731765]\n"
     ]
    }
   ],
   "source": [
    "olsResult = helper.ml_ols(af, xnames='예약대수', yname='판매대수', degree=2, test_size=0.3, random_state=123)\n",
    "\n",
    "print(\"계수: \", olsResult.coef)\n",
    "print(\"절편: \", olsResult.intercept)"
   ]
  },
  {
   "cell_type": "code",
   "execution_count": null,
   "metadata": {},
   "outputs": [
    {
     "name": "stdout",
     "output_type": "stream",
     "text": [
      "R^2:  0.9418315846138151\n",
      "MAE:  3.902407933472026\n",
      "MSE:  22.982459630133462\n",
      "RMSE:  4.794002464552293\n",
      "MAPE:  7.457361969614873\n",
      "MPE:  -0.9174718034904255\n"
     ]
    }
   ],
   "source": [
    "print(\"R^2: \", olsResult.trainRegMetric.r2)\n",
    "print(\"MAE: \", olsResult.trainRegMetric.mae)\n",
    "print(\"MSE: \", olsResult.trainRegMetric.mse)\n",
    "print(\"RMSE: \", olsResult.trainRegMetric.rmse)\n",
    "print(\"MAPE: \", olsResult.trainRegMetric.mape)\n",
    "print(\"MPE: \", olsResult.trainRegMetric.mpe)"
   ]
  },
  {
   "cell_type": "code",
   "execution_count": null,
   "metadata": {},
   "outputs": [
    {
     "data": {
      "image/png": "[encoded data removed]",
      "text/plain": [
       "<Figure size 1500x500 with 2 Axes>"
      ]
     },
     "metadata": {},
     "output_type": "display_data"
    }
   ],
   "source": [
    "fig, (ax1, ax2) = plt.subplots(1, 2, figsize=(15, 5))\n",
    "\n",
    "# 학습에 사용한 데이터와 예측값의 차이를 시각화\n",
    "sb.scatterplot(x=x_train['예약대수'], y=y_train['판매대수'], label='train data', ax=ax1)\n",
    "sb.scatterplot(x=x_train['예약대수'], y=y_train_pred, label='train predict', ax=ax1)\n",
    "\n",
    "# 그래프가 그려진 범위 안에서 1씩 증가하는 좌표를 생성\n",
    "xmin, xmax = ax1.get_xlim()\n",
    "xrange = np.arange(xmin.round(), xmax.round(), 1)\n",
    "# y값에 대한 추정치를 계산\n",
    "y_pred = xrange * fit.coef_[0][0] + xrange**2 * fit.coef_[0][1] + fit.intercept_[0]\n",
    "\n",
    "# 추세선\n",
    "sb.lineplot(x=xrange, y=y_pred, color='red', ax=ax1)\n",
    "\n",
    "ax1.set_title(\"훈련 데이터\")\n",
    "ax1.legend()\n",
    "ax1.grid()\n",
    "\n",
    "\n",
    "# 검증용 데이터와 예측값의 차이를 시각화\n",
    "sb.scatterplot(x=x_test['예약대수'], y=y_test['판매대수'], label='test data', ax=ax2)\n",
    "sb.scatterplot(x=x_test['예약대수'], y=y_test_pred, label='test predict', ax=ax2)\n",
    "\n",
    "# 그래프가 그려진 범위 안에서 1씩 증가하는 좌표를 생성\n",
    "xmin, xmax = ax2.get_xlim()\n",
    "xrange = np.arange(xmin.round(), xmax.round(), 1)\n",
    "\n",
    "# y값에 대한 추정치를 계산\n",
    "y_pred = xrange * fit.coef_[0][0] + xrange**2 * fit.coef_[0][1] + fit.intercept_[0]\n",
    "\n",
    "# 추세선\n",
    "sb.lineplot(x=xrange, y=y_pred, color='red', ax=ax2)\n",
    "\n",
    "ax2.set_title(\"검증 데이터\")\n",
    "ax2.legend()\n",
    "ax2.grid()\n",
    "\n",
    "plt.show()\n",
    "plt.close()"
   ]
  },
  {
   "cell_type": "markdown",
   "metadata": {},
   "source": [
    "#### 문제 3"
   ]
  },
  {
   "cell_type": "code",
   "execution_count": null,
   "metadata": {},
   "outputs": [
    {
     "data": {
      "text/html": [
       "<div>\n",
       "<style scoped>\n",
       "    .dataframe tbody tr th:only-of-type {\n",
       "        vertical-align: middle;\n",
       "    }\n",
       "\n",
       "    .dataframe tbody tr th {\n",
       "        vertical-align: top;\n",
       "    }\n",
       "\n",
       "    .dataframe thead th {\n",
       "        text-align: right;\n",
       "    }\n",
       "</style>\n",
       "<table border=\"1\" class=\"dataframe\">\n",
       "  <thead>\n",
       "    <tr style=\"text-align: right;\">\n",
       "      <th></th>\n",
       "      <th>child</th>\n",
       "      <th>parent</th>\n",
       "    </tr>\n",
       "  </thead>\n",
       "  <tbody>\n",
       "    <tr>\n",
       "      <th>0</th>\n",
       "      <td>61.7</td>\n",
       "      <td>70.5</td>\n",
       "    </tr>\n",
       "    <tr>\n",
       "      <th>1</th>\n",
       "      <td>61.7</td>\n",
       "      <td>68.5</td>\n",
       "    </tr>\n",
       "    <tr>\n",
       "      <th>2</th>\n",
       "      <td>61.7</td>\n",
       "      <td>65.5</td>\n",
       "    </tr>\n",
       "    <tr>\n",
       "      <th>3</th>\n",
       "      <td>61.7</td>\n",
       "      <td>64.5</td>\n",
       "    </tr>\n",
       "    <tr>\n",
       "      <th>4</th>\n",
       "      <td>61.7</td>\n",
       "      <td>64.0</td>\n",
       "    </tr>\n",
       "  </tbody>\n",
       "</table>\n",
       "</div>"
      ],
      "text/plain": [
       "   child  parent\n",
       "0   61.7    70.5\n",
       "1   61.7    68.5\n",
       "2   61.7    65.5\n",
       "3   61.7    64.5\n",
       "4   61.7    64.0"
      ]
     },
     "execution_count": 28,
     "metadata": {},
     "output_type": "execute_result"
    }
   ],
   "source": [
    "gf = read_excel(r\"C:\\Users\\User\\MDblue\\Bigdata\\수업내용\\F_데이터_마이닝\\02_Sklearn\\galton.xlsx\")\n",
    "gf.head()"
   ]
  },
  {
   "cell_type": "code",
   "execution_count": null,
   "metadata": {},
   "outputs": [
    {
     "data": {
      "text/plain": [
       "array([[  61.7 , 3806.89],\n",
       "       [  61.7 , 3806.89],\n",
       "       [  61.7 , 3806.89],\n",
       "       ...,\n",
       "       [  73.7 , 5431.69],\n",
       "       [  73.7 , 5431.69],\n",
       "       [  73.7 , 5431.69]])"
      ]
     },
     "execution_count": 29,
     "metadata": {},
     "output_type": "execute_result"
    }
   ],
   "source": [
    "poly = PolynomialFeatures(include_bias=False)\n",
    "fit = poly.fit_transform(gf[['child']])\n",
    "fit"
   ]
  },
  {
   "cell_type": "code",
   "execution_count": null,
   "metadata": {},
   "outputs": [
    {
     "data": {
      "text/plain": [
       "array(['child', 'child^2'], dtype=object)"
      ]
     },
     "execution_count": 30,
     "metadata": {},
     "output_type": "execute_result"
    }
   ],
   "source": [
    "poly.get_feature_names_out()"
   ]
  },
  {
   "cell_type": "code",
   "execution_count": null,
   "metadata": {},
   "outputs": [
    {
     "data": {
      "text/html": [
       "<div>\n",
       "<style scoped>\n",
       "    .dataframe tbody tr th:only-of-type {\n",
       "        vertical-align: middle;\n",
       "    }\n",
       "\n",
       "    .dataframe tbody tr th {\n",
       "        vertical-align: top;\n",
       "    }\n",
       "\n",
       "    .dataframe thead th {\n",
       "        text-align: right;\n",
       "    }\n",
       "</style>\n",
       "<table border=\"1\" class=\"dataframe\">\n",
       "  <thead>\n",
       "    <tr style=\"text-align: right;\">\n",
       "      <th></th>\n",
       "      <th>child</th>\n",
       "      <th>child^2</th>\n",
       "    </tr>\n",
       "  </thead>\n",
       "  <tbody>\n",
       "    <tr>\n",
       "      <th>0</th>\n",
       "      <td>61.7</td>\n",
       "      <td>3806.89</td>\n",
       "    </tr>\n",
       "    <tr>\n",
       "      <th>1</th>\n",
       "      <td>61.7</td>\n",
       "      <td>3806.89</td>\n",
       "    </tr>\n",
       "    <tr>\n",
       "      <th>2</th>\n",
       "      <td>61.7</td>\n",
       "      <td>3806.89</td>\n",
       "    </tr>\n",
       "    <tr>\n",
       "      <th>3</th>\n",
       "      <td>61.7</td>\n",
       "      <td>3806.89</td>\n",
       "    </tr>\n",
       "    <tr>\n",
       "      <th>4</th>\n",
       "      <td>61.7</td>\n",
       "      <td>3806.89</td>\n",
       "    </tr>\n",
       "  </tbody>\n",
       "</table>\n",
       "</div>"
      ],
      "text/plain": [
       "   child  child^2\n",
       "0   61.7  3806.89\n",
       "1   61.7  3806.89\n",
       "2   61.7  3806.89\n",
       "3   61.7  3806.89\n",
       "4   61.7  3806.89"
      ]
     },
     "execution_count": 31,
     "metadata": {},
     "output_type": "execute_result"
    }
   ],
   "source": [
    "x = DataFrame(fit, columns=poly.get_feature_names_out())\n",
    "x.head()"
   ]
  },
  {
   "cell_type": "code",
   "execution_count": null,
   "metadata": {},
   "outputs": [
    {
     "data": {
      "text/html": [
       "<div>\n",
       "<style scoped>\n",
       "    .dataframe tbody tr th:only-of-type {\n",
       "        vertical-align: middle;\n",
       "    }\n",
       "\n",
       "    .dataframe tbody tr th {\n",
       "        vertical-align: top;\n",
       "    }\n",
       "\n",
       "    .dataframe thead th {\n",
       "        text-align: right;\n",
       "    }\n",
       "</style>\n",
       "<table border=\"1\" class=\"dataframe\">\n",
       "  <thead>\n",
       "    <tr style=\"text-align: right;\">\n",
       "      <th></th>\n",
       "      <th>parent</th>\n",
       "    </tr>\n",
       "  </thead>\n",
       "  <tbody>\n",
       "    <tr>\n",
       "      <th>0</th>\n",
       "      <td>70.5</td>\n",
       "    </tr>\n",
       "    <tr>\n",
       "      <th>1</th>\n",
       "      <td>68.5</td>\n",
       "    </tr>\n",
       "    <tr>\n",
       "      <th>2</th>\n",
       "      <td>65.5</td>\n",
       "    </tr>\n",
       "    <tr>\n",
       "      <th>3</th>\n",
       "      <td>64.5</td>\n",
       "    </tr>\n",
       "    <tr>\n",
       "      <th>4</th>\n",
       "      <td>64.0</td>\n",
       "    </tr>\n",
       "  </tbody>\n",
       "</table>\n",
       "</div>"
      ],
      "text/plain": [
       "   parent\n",
       "0    70.5\n",
       "1    68.5\n",
       "2    65.5\n",
       "3    64.5\n",
       "4    64.0"
      ]
     },
     "execution_count": 32,
     "metadata": {},
     "output_type": "execute_result"
    }
   ],
   "source": [
    "y = gf[['parent']]\n",
    "y.head()"
   ]
  },
  {
   "cell_type": "code",
   "execution_count": null,
   "metadata": {},
   "outputs": [
    {
     "data": {
      "text/plain": [
       "((649, 2), (279, 2), (649, 1), (279, 1))"
      ]
     },
     "execution_count": 33,
     "metadata": {},
     "output_type": "execute_result"
    }
   ],
   "source": [
    "x_train, x_test, y_train, y_test = train_test_split(x, y, test_size=0.3, random_state=123)\n",
    "x_train.shape, x_test.shape, y_train.shape, y_test.shape"
   ]
  },
  {
   "cell_type": "code",
   "execution_count": null,
   "metadata": {},
   "outputs": [
    {
     "name": "stdout",
     "output_type": "stream",
     "text": [
      "계수:  [[-3.48039782  0.027865  ]]\n",
      "절편:  [175.93072629]\n",
      "훈련 데이터 설명력:  0.22246696222331142\n",
      "검증 데이터 설명력:  0.21718128480014565\n"
     ]
    }
   ],
   "source": [
    "model = LinearRegression()\n",
    "fit = model.fit(x_train, y_train)\n",
    "\n",
    "print(\"계수: \", fit.coef_)\n",
    "print(\"절편: \", fit.intercept_)\n",
    "print(\"훈련 데이터 설명력: \", fit.score(x_train, y_train))\n",
    "print(\"검증 데이터 설명력: \", fit.score(x_test, y_test))"
   ]
  },
  {
   "cell_type": "code",
   "execution_count": null,
   "metadata": {},
   "outputs": [
    {
     "data": {
      "text/plain": [
       "array([69.38633414, 67.46400716, 67.25519861, 67.64507001, 69.38633414,\n",
       "       68.5226385 , 67.33867432, 67.33867432, 68.5226385 , 68.92662132,\n",
       "       68.17438567, 69.38633414, 67.46400716, 69.90177695, 69.38633414,\n",
       "       68.92662132, 68.5226385 , 67.46400716, 68.17438567, 68.5226385 ,\n",
       "       68.5226385 , 69.90177695, 67.46400716, 68.92662132, 68.17438567,\n",
       "       69.90177695, 67.88186284, 68.92662132, 67.88186284, 67.26907147,\n",
       "       67.64507001, 67.88186284, 68.17438567, 68.92662132, 68.17438567,\n",
       "       67.64507001, 67.46400716, 68.17438567, 68.92662132, 67.64507001,\n",
       "       67.88186284, 67.88186284, 68.17438567, 67.26907147, 68.17438567,\n",
       "       69.90177695, 67.64507001, 67.64507001, 67.88186284, 67.64507001,\n",
       "       68.17438567, 68.17438567, 67.26907147, 68.5226385 , 68.17438567,\n",
       "       67.88186284, 69.38633414, 68.5226385 , 68.17438567, 67.64507001,\n",
       "       67.88186284, 67.46400716, 67.88186284, 67.46400716, 68.17438567,\n",
       "       68.92662132, 67.33867432, 69.90177695, 68.17438567, 68.92662132,\n",
       "       69.90177695, 67.64507001, 67.26907147, 67.64507001, 68.5226385 ,\n",
       "       67.64507001, 69.90177695, 67.46400716, 69.38633414, 70.47294975,\n",
       "       68.92662132, 67.64507001, 67.33867432, 67.88186284, 67.64507001,\n",
       "       67.33867432, 67.64507001, 67.64507001, 67.88186284, 69.38633414,\n",
       "       67.88186284, 68.92662132, 68.17438567, 67.33867432, 67.64507001,\n",
       "       68.17438567, 68.17438567, 68.17438567, 70.7794349 , 68.17438567,\n",
       "       68.17438567, 67.33867432, 69.38633414, 68.17438567, 68.5226385 ,\n",
       "       67.64507001, 67.88186284, 68.17438567, 68.17438567, 67.88186284,\n",
       "       69.90177695, 67.88186284, 67.46400716, 68.5226385 , 68.92662132,\n",
       "       68.5226385 , 67.88186284, 67.33867432, 68.17438567, 68.17438567,\n",
       "       68.5226385 , 68.92662132, 68.5226385 , 67.26907147, 67.88186284,\n",
       "       67.88186284, 67.33867432, 68.5226385 , 68.17438567, 70.47294975,\n",
       "       67.26907147, 68.5226385 , 68.92662132, 68.17438567, 67.46400716,\n",
       "       67.26907147, 68.17438567, 67.26907147, 68.5226385 , 68.5226385 ,\n",
       "       67.64507001, 68.17438567, 68.5226385 , 68.5226385 , 68.92662132,\n",
       "       67.33867432, 68.17438567, 68.5226385 , 68.92662132, 69.38633414,\n",
       "       67.64507001, 67.46400716, 68.5226385 , 68.17438567, 70.7794349 ,\n",
       "       68.17438567, 68.92662132, 67.26907147, 67.26907147, 67.88186284,\n",
       "       67.26907147, 68.5226385 , 67.26916093, 67.33867432, 68.92662132,\n",
       "       68.5226385 , 68.92662132, 68.17438567, 69.38633414, 68.5226385 ,\n",
       "       68.5226385 , 67.46400716, 67.88186284, 68.17438567, 67.26907147,\n",
       "       68.5226385 , 68.5226385 , 68.17438567, 67.26907147, 67.26907147,\n",
       "       68.5226385 , 67.88186284, 67.64507001, 67.64507001, 67.88186284,\n",
       "       68.17438567, 68.92662132, 68.92662132, 68.5226385 , 69.90177695,\n",
       "       67.88186284, 67.64507001, 70.47294975, 68.5226385 , 67.64507001,\n",
       "       68.5226385 , 68.17438567, 68.92662132, 67.88186284, 67.88186284,\n",
       "       69.90177695, 67.88186284, 69.90177695, 67.88186284, 69.38633414,\n",
       "       67.46400716, 67.88186284, 68.5226385 , 68.5226385 , 67.46400716,\n",
       "       67.33867432, 67.46400716, 67.64507001, 67.88186284, 68.17438567,\n",
       "       68.92662132, 68.5226385 , 68.92662132, 67.88186284, 68.92662132,\n",
       "       68.17438567, 68.5226385 , 67.33867432, 67.64507001, 67.88186284,\n",
       "       67.88186284, 67.88186284, 67.64507001, 67.64507001, 67.64507001,\n",
       "       68.5226385 , 68.5226385 , 70.7794349 , 67.64507001, 68.17438567,\n",
       "       69.38633414, 68.92662132, 70.7794349 , 68.92662132, 69.38633414,\n",
       "       67.88186284, 68.5226385 , 67.46400716, 68.5226385 , 69.38633414,\n",
       "       67.26907147, 68.92662132, 67.88186284, 68.5226385 , 67.64507001,\n",
       "       67.88186284, 70.47294975, 67.64507001, 68.5226385 , 67.33867432,\n",
       "       67.88186284, 67.64507001, 68.5226385 , 68.5226385 , 68.92662132,\n",
       "       68.17438567, 69.38633414, 68.5226385 , 67.26907147, 67.64507001,\n",
       "       67.64507001, 67.64507001, 67.64507001, 67.88186284, 67.33867432,\n",
       "       68.5226385 , 68.5226385 , 70.47294975, 68.92662132, 68.5226385 ,\n",
       "       67.64507001, 67.64507001, 68.17438567, 67.88186284, 68.92662132,\n",
       "       68.92662132, 67.88186284, 68.17438567, 68.5226385 , 68.5226385 ,\n",
       "       68.92662132, 68.5226385 , 70.7794349 , 67.88186284, 68.92662132,\n",
       "       67.46400716, 67.46400716, 68.92662132, 68.5226385 , 70.47294975,\n",
       "       67.64507001, 67.25519861, 68.5226385 , 67.88186284, 68.92662132,\n",
       "       68.5226385 , 68.5226385 , 68.92662132, 67.33867432, 68.5226385 ,\n",
       "       68.17438567, 67.33867432, 67.26907147, 68.92662132, 68.5226385 ,\n",
       "       67.64507001, 68.5226385 , 69.38633414, 68.5226385 , 68.92662132,\n",
       "       67.88186284, 69.38633414, 67.26907147, 69.90177695, 69.38633414,\n",
       "       68.17438567, 67.88186284, 67.46400716, 68.5226385 , 68.5226385 ,\n",
       "       68.17438567, 68.92662132, 68.92662132, 68.17438567, 67.26907147,\n",
       "       68.5226385 , 67.33867432, 67.88186284, 67.46400716, 67.26916093,\n",
       "       68.5226385 , 67.26907147, 67.26907147, 67.88186284, 68.17438567,\n",
       "       69.90177695, 68.5226385 , 67.88186284, 67.33867432, 68.17438567,\n",
       "       67.88186284, 67.33867432, 70.7794349 , 67.64507001, 68.17438567,\n",
       "       68.17438567, 68.5226385 , 68.92662132, 69.38633414, 70.47294975,\n",
       "       68.17438567, 69.90177695, 68.92662132, 68.17438567, 70.47294975,\n",
       "       67.46400716, 68.17438567, 67.64507001, 69.90177695, 68.17438567,\n",
       "       68.5226385 , 68.17438567, 67.46400716, 67.46400716, 67.64507001,\n",
       "       67.64507001, 68.5226385 , 68.5226385 , 68.5226385 , 69.38633414,\n",
       "       67.64507001, 68.5226385 , 67.46400716, 67.88186284, 67.88186284,\n",
       "       70.47294975, 68.5226385 , 67.33867432, 68.5226385 , 67.88186284,\n",
       "       68.92662132, 68.17438567, 67.88186284, 69.38633414, 67.64507001,\n",
       "       67.46400716, 68.17438567, 67.64507001, 67.64507001, 68.17438567,\n",
       "       68.17438567, 68.92662132, 68.5226385 , 68.5226385 , 67.88186284,\n",
       "       68.92662132, 67.46400716, 68.5226385 , 68.92662132, 68.92662132,\n",
       "       69.38633414, 69.38633414, 69.38633414, 69.38633414, 67.88186284,\n",
       "       69.90177695, 67.25519861, 69.90177695, 68.5226385 , 67.64507001,\n",
       "       67.64507001, 67.88186284, 68.5226385 , 67.33867432, 68.5226385 ,\n",
       "       67.64507001, 68.5226385 , 68.5226385 , 68.92662132, 67.46400716,\n",
       "       67.88186284, 68.5226385 , 67.88186284, 68.17438567, 68.17438567,\n",
       "       67.88186284, 68.5226385 , 69.38633414, 68.17438567, 68.5226385 ,\n",
       "       68.17438567, 67.88186284, 68.17438567, 67.64507001, 68.17438567,\n",
       "       68.5226385 , 68.92662132, 68.17438567, 67.33867432, 68.17438567,\n",
       "       68.5226385 , 68.92662132, 68.5226385 , 70.47294975, 68.17438567,\n",
       "       68.5226385 , 68.17438567, 69.38633414, 68.5226385 , 68.5226385 ,\n",
       "       67.46400716, 69.90177695, 68.5226385 , 68.5226385 , 67.64507001,\n",
       "       67.64507001, 69.90177695, 70.7794349 , 69.38633414, 68.17438567,\n",
       "       68.5226385 , 68.17438567, 68.17438567, 68.92662132, 68.5226385 ,\n",
       "       67.64507001, 68.17438567, 69.90177695, 68.17438567, 68.5226385 ,\n",
       "       68.17438567, 68.5226385 , 68.17438567, 67.33867432, 68.5226385 ,\n",
       "       69.38633414, 70.47294975, 67.33867432, 69.38633414, 67.64507001,\n",
       "       67.25519861, 67.33867432, 69.38633414, 67.33867432, 68.92662132,\n",
       "       68.17438567, 68.17438567, 67.88186284, 68.17438567, 68.17438567,\n",
       "       68.5226385 , 69.90177695, 67.88186284, 67.88186284, 68.17438567,\n",
       "       67.46400716, 67.33867432, 68.5226385 , 67.88186284, 68.92662132,\n",
       "       67.88186284, 67.33867432, 68.17438567, 67.88186284, 68.17438567,\n",
       "       68.92662132, 68.17438567, 67.88186284, 70.47294975, 67.88186284,\n",
       "       67.88186284, 69.90177695, 67.33867432, 67.33867432, 67.46400716,\n",
       "       67.88186284, 68.5226385 , 67.26907147, 68.17438567, 67.64507001,\n",
       "       69.90177695, 68.5226385 , 67.88186284, 69.38633414, 68.5226385 ,\n",
       "       68.17438567, 67.46400716, 67.64507001, 68.17438567, 67.26907147,\n",
       "       67.33867432, 67.64507001, 67.64507001, 67.64507001, 68.92662132,\n",
       "       67.64507001, 67.26916093, 67.88186284, 68.17438567, 68.5226385 ,\n",
       "       68.17438567, 68.5226385 , 67.46400716, 67.33867432, 68.17438567,\n",
       "       67.88186284, 67.33867432, 67.88186284, 68.92662132, 67.33867432,\n",
       "       68.17438567, 68.17438567, 68.5226385 , 68.92662132, 67.88186284,\n",
       "       69.38633414, 68.17438567, 68.5226385 , 68.92662132, 67.88186284,\n",
       "       67.64507001, 68.5226385 , 67.46400716, 67.88186284, 67.64507001,\n",
       "       67.64507001, 68.92662132, 67.88186284, 68.92662132, 67.64507001,\n",
       "       67.88186284, 70.7794349 , 68.5226385 , 69.90177695, 67.64507001,\n",
       "       68.92662132, 69.90177695, 67.88186284, 68.17438567, 67.46400716,\n",
       "       68.92662132, 68.92662132, 67.88186284, 69.38633414, 68.17438567,\n",
       "       69.38633414, 68.5226385 , 69.38633414, 70.7794349 , 68.5226385 ,\n",
       "       68.5226385 , 67.88186284, 68.17438567, 69.90177695, 68.5226385 ,\n",
       "       67.64507001, 69.90177695, 67.88186284, 67.64507001, 69.90177695,\n",
       "       67.88186284, 67.33867432, 69.90177695, 67.46400716, 67.64507001,\n",
       "       68.17438567, 68.5226385 , 68.5226385 , 70.7794349 , 67.26907147,\n",
       "       67.88186284, 67.26916093, 68.17438567, 69.38633414, 69.38633414,\n",
       "       67.33867432, 67.64507001, 68.5226385 , 68.17438567, 67.64507001,\n",
       "       69.38633414, 67.88186284, 68.17438567, 67.46400716, 67.64507001,\n",
       "       68.5226385 , 67.33867432, 67.33867432, 68.5226385 , 67.46400716,\n",
       "       67.33867432, 68.92662132, 67.64507001, 68.5226385 , 67.46400716,\n",
       "       67.46400716, 68.5226385 , 67.26907147, 68.92662132, 67.33867432,\n",
       "       67.88186284, 67.88186284, 67.88186284, 68.17438567])"
      ]
     },
     "execution_count": 35,
     "metadata": {},
     "output_type": "execute_result"
    }
   ],
   "source": [
    "y_train_pred = fit.predict(x_train)\n",
    "y_train_pred = y_train_pred.reshape(-1)\n",
    "y_train_pred"
   ]
  },
  {
   "cell_type": "code",
   "execution_count": null,
   "metadata": {},
   "outputs": [
    {
     "data": {
      "text/plain": [
       "array([68.5226385 , 69.38633414, 67.64507001, 67.25519861, 68.5226385 ,\n",
       "       68.17438567, 68.92662132, 67.88186284, 67.33867432, 67.64507001,\n",
       "       69.38633414, 68.92662132, 67.64507001, 67.88186284, 70.47294975,\n",
       "       67.88186284, 69.38633414, 67.64507001, 67.88186284, 68.5226385 ,\n",
       "       67.88186284, 67.88186284, 68.92662132, 68.17438567, 68.5226385 ,\n",
       "       69.38633414, 68.17438567, 68.5226385 , 67.88186284, 69.38633414,\n",
       "       69.90177695, 68.5226385 , 68.5226385 , 68.92662132, 67.88186284,\n",
       "       68.5226385 , 67.88186284, 67.46400716, 67.64507001, 69.38633414,\n",
       "       68.5226385 , 67.64507001, 69.90177695, 68.17438567, 67.64507001,\n",
       "       67.64507001, 69.38633414, 68.92662132, 68.5226385 , 67.46400716,\n",
       "       67.25519861, 68.5226385 , 67.88186284, 68.5226385 , 67.46400716,\n",
       "       67.26907147, 67.88186284, 67.88186284, 67.46400716, 67.64507001,\n",
       "       68.5226385 , 68.5226385 , 69.38633414, 68.5226385 , 68.17438567,\n",
       "       69.38633414, 67.64507001, 68.5226385 , 69.38633414, 68.17438567,\n",
       "       67.33867432, 69.38633414, 68.17438567, 67.88186284, 67.88186284,\n",
       "       68.5226385 , 67.64507001, 67.26907147, 67.64507001, 67.64507001,\n",
       "       68.92662132, 69.38633414, 67.88186284, 67.26916093, 67.88186284,\n",
       "       67.88186284, 68.92662132, 68.17438567, 68.5226385 , 68.92662132,\n",
       "       67.33867432, 67.88186284, 68.5226385 , 68.5226385 , 67.64507001,\n",
       "       69.38633414, 69.38633414, 67.88186284, 68.5226385 , 67.88186284,\n",
       "       67.33867432, 67.46400716, 68.92662132, 67.64507001, 68.5226385 ,\n",
       "       68.92662132, 68.17438567, 67.88186284, 67.33867432, 67.64507001,\n",
       "       67.26907147, 68.5226385 , 67.88186284, 68.5226385 , 67.88186284,\n",
       "       67.46400716, 68.92662132, 68.5226385 , 67.88186284, 68.17438567,\n",
       "       68.92662132, 67.33867432, 67.88186284, 68.92662132, 69.90177695,\n",
       "       67.33867432, 67.46400716, 69.90177695, 67.64507001, 67.64507001,\n",
       "       67.88186284, 67.26907147, 68.5226385 , 68.5226385 , 67.26907147,\n",
       "       68.92662132, 68.5226385 , 67.64507001, 67.88186284, 69.38633414,\n",
       "       67.33867432, 67.88186284, 68.92662132, 68.92662132, 68.5226385 ,\n",
       "       68.5226385 , 69.90177695, 68.5226385 , 69.38633414, 67.33867432,\n",
       "       68.92662132, 68.17438567, 68.92662132, 67.33867432, 67.64507001,\n",
       "       67.64507001, 67.64507001, 70.7794349 , 67.88186284, 67.88186284,\n",
       "       67.88186284, 67.33867432, 68.5226385 , 67.33867432, 67.33867432,\n",
       "       67.88186284, 70.47294975, 67.88186284, 69.90177695, 68.5226385 ,\n",
       "       67.88186284, 68.92662132, 69.38633414, 68.92662132, 69.38633414,\n",
       "       68.5226385 , 67.64507001, 68.5226385 , 67.64507001, 68.5226385 ,\n",
       "       67.88186284, 68.92662132, 69.38633414, 67.26907147, 67.33867432,\n",
       "       67.64507001, 67.88186284, 68.17438567, 67.33867432, 68.5226385 ,\n",
       "       68.17438567, 67.88186284, 67.64507001, 68.5226385 , 67.25519861,\n",
       "       68.92662132, 68.17438567, 69.38633414, 67.64507001, 68.92662132,\n",
       "       68.92662132, 67.33867432, 68.5226385 , 67.88186284, 69.38633414,\n",
       "       68.92662132, 68.92662132, 67.64507001, 69.90177695, 67.64507001,\n",
       "       67.64507001, 67.88186284, 70.47294975, 68.92662132, 67.64507001,\n",
       "       67.64507001, 67.88186284, 68.5226385 , 67.64507001, 69.90177695,\n",
       "       68.17438567, 68.5226385 , 68.92662132, 67.33867432, 68.92662132,\n",
       "       68.17438567, 67.26907147, 70.47294975, 67.88186284, 68.5226385 ,\n",
       "       67.64507001, 67.64507001, 70.7794349 , 67.88186284, 68.92662132,\n",
       "       67.88186284, 69.38633414, 68.17438567, 67.33867432, 67.88186284,\n",
       "       67.88186284, 67.88186284, 68.92662132, 67.46400716, 67.88186284,\n",
       "       67.88186284, 68.5226385 , 68.17438567, 69.90177695, 67.88186284,\n",
       "       70.7794349 , 67.88186284, 69.90177695, 67.64507001, 69.38633414,\n",
       "       68.5226385 , 69.90177695, 68.5226385 , 70.47294975, 69.38633414,\n",
       "       69.38633414, 68.5226385 , 67.64507001, 68.5226385 , 68.5226385 ,\n",
       "       68.5226385 , 67.64507001, 69.90177695, 68.92662132, 70.7794349 ,\n",
       "       67.64507001, 67.64507001, 67.64507001, 68.92662132, 68.5226385 ,\n",
       "       67.64507001, 68.92662132, 67.64507001, 67.46400716])"
      ]
     },
     "execution_count": 36,
     "metadata": {},
     "output_type": "execute_result"
    }
   ],
   "source": [
    "y_test_pred = fit.predict(x_test)\n",
    "y_test_pred = y_test_pred.reshape(-1)\n",
    "y_test_pred"
   ]
  },
  {
   "cell_type": "code",
   "execution_count": null,
   "metadata": {},
   "outputs": [
    {
     "name": "stdout",
     "output_type": "stream",
     "text": [
      "계수:  [[-3.48039782  0.027865  ]]\n",
      "절편:  [175.93072629]\n"
     ]
    }
   ],
   "source": [
    "olsResult = helper.ml_ols(gf, xnames='child', yname='parent', degree=2, test_size=0.3, random_state=123)\n",
    "\n",
    "print(\"계수: \", olsResult.coef)\n",
    "print(\"절편: \", olsResult.intercept)"
   ]
  },
  {
   "cell_type": "code",
   "execution_count": null,
   "metadata": {},
   "outputs": [
    {
     "name": "stdout",
     "output_type": "stream",
     "text": [
      "R^2:  0.22246696222331142\n",
      "MAE:  1.187658618442967\n",
      "MSE:  2.2561658773473785\n",
      "RMSE:  1.5020538862994823\n",
      "MAPE:  1.7431281209805085\n",
      "MPE:  -0.048623624454407016\n"
     ]
    }
   ],
   "source": [
    "print(\"R^2: \", olsResult.trainRegMetric.r2)\n",
    "print(\"MAE: \", olsResult.trainRegMetric.mae)\n",
    "print(\"MSE: \", olsResult.trainRegMetric.mse)\n",
    "print(\"RMSE: \", olsResult.trainRegMetric.rmse)\n",
    "print(\"MAPE: \", olsResult.trainRegMetric.mape)\n",
    "print(\"MPE: \", olsResult.trainRegMetric.mpe)"
   ]
  },
  {
   "cell_type": "code",
   "execution_count": null,
   "metadata": {},
   "outputs": [
    {
     "data": {
      "image/png": "[encoded data removed]",
      "text/plain": [
       "<Figure size 1500x500 with 2 Axes>"
      ]
     },
     "metadata": {},
     "output_type": "display_data"
    }
   ],
   "source": [
    "fig, (ax1, ax2) = plt.subplots(1, 2, figsize=(15, 5))\n",
    "\n",
    "# 학습에 사용한 데이터와 예측값의 차이를 시각화\n",
    "sb.scatterplot(x=x_train['child'], y=y_train['parent'], label='train data', ax=ax1)\n",
    "sb.scatterplot(x=x_train['child'], y=y_train_pred, label='train predict', ax=ax1)\n",
    "\n",
    "# 그래프가 그려진 범위 안에서 1씩 증가하는 좌표를 생성\n",
    "xmin, xmax = ax1.get_xlim()\n",
    "xrange = np.arange(xmin.round(), xmax.round(), 1)\n",
    "# y값에 대한 추정치를 계산\n",
    "y_pred = xrange * fit.coef_[0][0] + xrange**2 * fit.coef_[0][1] + fit.intercept_[0]\n",
    "\n",
    "# 추세선\n",
    "sb.lineplot(x=xrange, y=y_pred, color='red', ax=ax1)\n",
    "\n",
    "ax1.set_title(\"훈련 데이터\")\n",
    "ax1.legend()\n",
    "ax1.grid()\n",
    "\n",
    "\n",
    "# 검증용 데이터와 예측값의 차이를 시각화\n",
    "sb.scatterplot(x=x_test['child'], y=y_test['parent'], label='test data', ax=ax2)\n",
    "sb.scatterplot(x=x_test['child'], y=y_test_pred, label='test predict', ax=ax2)\n",
    "\n",
    "# 그래프가 그려진 범위 안에서 1씩 증가하는 좌표를 생성\n",
    "xmin, xmax = ax2.get_xlim()\n",
    "xrange = np.arange(xmin.round(), xmax.round(), 1)\n",
    "\n",
    "# y값에 대한 추정치를 계산\n",
    "y_pred = xrange * fit.coef_[0][0] + xrange**2 * fit.coef_[0][1] + fit.intercept_[0]\n",
    "\n",
    "# 추세선\n",
    "sb.lineplot(x=xrange, y=y_pred, color='red', ax=ax2)\n",
    "\n",
    "ax2.set_title(\"검증 데이터\")\n",
    "ax2.legend()\n",
    "ax2.grid()\n",
    "\n",
    "plt.show()\n",
    "plt.close()"
   ]
  },
  {
   "cell_type": "markdown",
   "metadata": {},
   "source": [
    "### 연습문제 1-2\n",
    "\n",
    "  - 다항 선형회귀 분석을 수행하라.\n",
    "  - 범주형 변수가 있다면 통제요인으로 설정하여 더미 변수로 추가하라.\n",
    "  - 훈련데이터와 검정데이터에 대한 관측치와 예측치에 대한 시각화를 제시하라.\n",
    "\n",
    "#### 문제 1"
   ]
  },
  {
   "cell_type": "code",
   "execution_count": null,
   "metadata": {},
   "outputs": [
    {
     "data": {
      "text/html": [
       "<div>\n",
       "<style scoped>\n",
       "    .dataframe tbody tr th:only-of-type {\n",
       "        vertical-align: middle;\n",
       "    }\n",
       "\n",
       "    .dataframe tbody tr th {\n",
       "        vertical-align: top;\n",
       "    }\n",
       "\n",
       "    .dataframe thead th {\n",
       "        text-align: right;\n",
       "    }\n",
       "</style>\n",
       "<table border=\"1\" class=\"dataframe\">\n",
       "  <thead>\n",
       "    <tr style=\"text-align: right;\">\n",
       "      <th></th>\n",
       "      <th>age</th>\n",
       "      <th>sex</th>\n",
       "      <th>bmi</th>\n",
       "      <th>bp</th>\n",
       "      <th>s1</th>\n",
       "      <th>s2</th>\n",
       "      <th>s3</th>\n",
       "      <th>s4</th>\n",
       "      <th>s5</th>\n",
       "      <th>s6</th>\n",
       "      <th>target</th>\n",
       "    </tr>\n",
       "  </thead>\n",
       "  <tbody>\n",
       "    <tr>\n",
       "      <th>0</th>\n",
       "      <td>0.038076</td>\n",
       "      <td>0.050680</td>\n",
       "      <td>0.061696</td>\n",
       "      <td>0.021872</td>\n",
       "      <td>-0.044223</td>\n",
       "      <td>-0.034821</td>\n",
       "      <td>-0.043401</td>\n",
       "      <td>-0.002592</td>\n",
       "      <td>0.019907</td>\n",
       "      <td>-0.017646</td>\n",
       "      <td>151</td>\n",
       "    </tr>\n",
       "    <tr>\n",
       "      <th>1</th>\n",
       "      <td>-0.001882</td>\n",
       "      <td>-0.044642</td>\n",
       "      <td>-0.051474</td>\n",
       "      <td>-0.026328</td>\n",
       "      <td>-0.008449</td>\n",
       "      <td>-0.019163</td>\n",
       "      <td>0.074412</td>\n",
       "      <td>-0.039493</td>\n",
       "      <td>-0.068332</td>\n",
       "      <td>-0.092204</td>\n",
       "      <td>75</td>\n",
       "    </tr>\n",
       "    <tr>\n",
       "      <th>2</th>\n",
       "      <td>0.085299</td>\n",
       "      <td>0.050680</td>\n",
       "      <td>0.044451</td>\n",
       "      <td>-0.005670</td>\n",
       "      <td>-0.045599</td>\n",
       "      <td>-0.034194</td>\n",
       "      <td>-0.032356</td>\n",
       "      <td>-0.002592</td>\n",
       "      <td>0.002861</td>\n",
       "      <td>-0.025930</td>\n",
       "      <td>141</td>\n",
       "    </tr>\n",
       "    <tr>\n",
       "      <th>3</th>\n",
       "      <td>-0.089063</td>\n",
       "      <td>-0.044642</td>\n",
       "      <td>-0.011595</td>\n",
       "      <td>-0.036656</td>\n",
       "      <td>0.012191</td>\n",
       "      <td>0.024991</td>\n",
       "      <td>-0.036038</td>\n",
       "      <td>0.034309</td>\n",
       "      <td>0.022688</td>\n",
       "      <td>-0.009362</td>\n",
       "      <td>206</td>\n",
       "    </tr>\n",
       "    <tr>\n",
       "      <th>4</th>\n",
       "      <td>0.005383</td>\n",
       "      <td>-0.044642</td>\n",
       "      <td>-0.036385</td>\n",
       "      <td>0.021872</td>\n",
       "      <td>0.003935</td>\n",
       "      <td>0.015596</td>\n",
       "      <td>0.008142</td>\n",
       "      <td>-0.002592</td>\n",
       "      <td>-0.031988</td>\n",
       "      <td>-0.046641</td>\n",
       "      <td>135</td>\n",
       "    </tr>\n",
       "  </tbody>\n",
       "</table>\n",
       "</div>"
      ],
      "text/plain": [
       "        age       sex       bmi        bp        s1        s2        s3  \\\n",
       "0  0.038076  0.050680  0.061696  0.021872 -0.044223 -0.034821 -0.043401   \n",
       "1 -0.001882 -0.044642 -0.051474 -0.026328 -0.008449 -0.019163  0.074412   \n",
       "2  0.085299  0.050680  0.044451 -0.005670 -0.045599 -0.034194 -0.032356   \n",
       "3 -0.089063 -0.044642 -0.011595 -0.036656  0.012191  0.024991 -0.036038   \n",
       "4  0.005383 -0.044642 -0.036385  0.021872  0.003935  0.015596  0.008142   \n",
       "\n",
       "         s4        s5        s6  target  \n",
       "0 -0.002592  0.019907 -0.017646     151  \n",
       "1 -0.039493 -0.068332 -0.092204      75  \n",
       "2 -0.002592  0.002861 -0.025930     141  \n",
       "3  0.034309  0.022688 -0.009362     206  \n",
       "4 -0.002592 -0.031988 -0.046641     135  "
      ]
     },
     "execution_count": 40,
     "metadata": {},
     "output_type": "execute_result"
    }
   ],
   "source": [
    "hf = read_excel(r\"C:\\Users\\User\\MDblue\\Bigdata\\수업내용\\F_데이터_마이닝\\02_Sklearn\\diabetes.xlsx\")\n",
    "hf.head()"
   ]
  },
  {
   "cell_type": "code",
   "execution_count": null,
   "metadata": {},
   "outputs": [
    {
     "data": {
      "text/html": [
       "<div>\n",
       "<style scoped>\n",
       "    .dataframe tbody tr th:only-of-type {\n",
       "        vertical-align: middle;\n",
       "    }\n",
       "\n",
       "    .dataframe tbody tr th {\n",
       "        vertical-align: top;\n",
       "    }\n",
       "\n",
       "    .dataframe thead th {\n",
       "        text-align: right;\n",
       "    }\n",
       "</style>\n",
       "<table border=\"1\" class=\"dataframe\">\n",
       "  <thead>\n",
       "    <tr style=\"text-align: right;\">\n",
       "      <th></th>\n",
       "      <th>age</th>\n",
       "      <th>sex</th>\n",
       "      <th>bmi</th>\n",
       "      <th>bp</th>\n",
       "      <th>s1</th>\n",
       "      <th>s2</th>\n",
       "      <th>s3</th>\n",
       "      <th>s4</th>\n",
       "      <th>s5</th>\n",
       "      <th>s6</th>\n",
       "      <th>...</th>\n",
       "      <th>s3^2</th>\n",
       "      <th>s3 s4</th>\n",
       "      <th>s3 s5</th>\n",
       "      <th>s3 s6</th>\n",
       "      <th>s4^2</th>\n",
       "      <th>s4 s5</th>\n",
       "      <th>s4 s6</th>\n",
       "      <th>s5^2</th>\n",
       "      <th>s5 s6</th>\n",
       "      <th>s6^2</th>\n",
       "    </tr>\n",
       "  </thead>\n",
       "  <tbody>\n",
       "    <tr>\n",
       "      <th>0</th>\n",
       "      <td>0.038076</td>\n",
       "      <td>0.050680</td>\n",
       "      <td>0.061696</td>\n",
       "      <td>0.021872</td>\n",
       "      <td>-0.044223</td>\n",
       "      <td>-0.034821</td>\n",
       "      <td>-0.043401</td>\n",
       "      <td>-0.002592</td>\n",
       "      <td>0.019907</td>\n",
       "      <td>-0.017646</td>\n",
       "      <td>...</td>\n",
       "      <td>0.001884</td>\n",
       "      <td>0.000113</td>\n",
       "      <td>-0.000864</td>\n",
       "      <td>0.000766</td>\n",
       "      <td>0.000007</td>\n",
       "      <td>-0.000052</td>\n",
       "      <td>0.000046</td>\n",
       "      <td>0.000396</td>\n",
       "      <td>-0.000351</td>\n",
       "      <td>0.000311</td>\n",
       "    </tr>\n",
       "    <tr>\n",
       "      <th>1</th>\n",
       "      <td>-0.001882</td>\n",
       "      <td>-0.044642</td>\n",
       "      <td>-0.051474</td>\n",
       "      <td>-0.026328</td>\n",
       "      <td>-0.008449</td>\n",
       "      <td>-0.019163</td>\n",
       "      <td>0.074412</td>\n",
       "      <td>-0.039493</td>\n",
       "      <td>-0.068332</td>\n",
       "      <td>-0.092204</td>\n",
       "      <td>...</td>\n",
       "      <td>0.005537</td>\n",
       "      <td>-0.002939</td>\n",
       "      <td>-0.005085</td>\n",
       "      <td>-0.006861</td>\n",
       "      <td>0.001560</td>\n",
       "      <td>0.002699</td>\n",
       "      <td>0.003641</td>\n",
       "      <td>0.004669</td>\n",
       "      <td>0.006300</td>\n",
       "      <td>0.008502</td>\n",
       "    </tr>\n",
       "    <tr>\n",
       "      <th>2</th>\n",
       "      <td>0.085299</td>\n",
       "      <td>0.050680</td>\n",
       "      <td>0.044451</td>\n",
       "      <td>-0.005670</td>\n",
       "      <td>-0.045599</td>\n",
       "      <td>-0.034194</td>\n",
       "      <td>-0.032356</td>\n",
       "      <td>-0.002592</td>\n",
       "      <td>0.002861</td>\n",
       "      <td>-0.025930</td>\n",
       "      <td>...</td>\n",
       "      <td>0.001047</td>\n",
       "      <td>0.000084</td>\n",
       "      <td>-0.000093</td>\n",
       "      <td>0.000839</td>\n",
       "      <td>0.000007</td>\n",
       "      <td>-0.000007</td>\n",
       "      <td>0.000067</td>\n",
       "      <td>0.000008</td>\n",
       "      <td>-0.000074</td>\n",
       "      <td>0.000672</td>\n",
       "    </tr>\n",
       "    <tr>\n",
       "      <th>3</th>\n",
       "      <td>-0.089063</td>\n",
       "      <td>-0.044642</td>\n",
       "      <td>-0.011595</td>\n",
       "      <td>-0.036656</td>\n",
       "      <td>0.012191</td>\n",
       "      <td>0.024991</td>\n",
       "      <td>-0.036038</td>\n",
       "      <td>0.034309</td>\n",
       "      <td>0.022688</td>\n",
       "      <td>-0.009362</td>\n",
       "      <td>...</td>\n",
       "      <td>0.001299</td>\n",
       "      <td>-0.001236</td>\n",
       "      <td>-0.000818</td>\n",
       "      <td>0.000337</td>\n",
       "      <td>0.001177</td>\n",
       "      <td>0.000778</td>\n",
       "      <td>-0.000321</td>\n",
       "      <td>0.000515</td>\n",
       "      <td>-0.000212</td>\n",
       "      <td>0.000088</td>\n",
       "    </tr>\n",
       "    <tr>\n",
       "      <th>4</th>\n",
       "      <td>0.005383</td>\n",
       "      <td>-0.044642</td>\n",
       "      <td>-0.036385</td>\n",
       "      <td>0.021872</td>\n",
       "      <td>0.003935</td>\n",
       "      <td>0.015596</td>\n",
       "      <td>0.008142</td>\n",
       "      <td>-0.002592</td>\n",
       "      <td>-0.031988</td>\n",
       "      <td>-0.046641</td>\n",
       "      <td>...</td>\n",
       "      <td>0.000066</td>\n",
       "      <td>-0.000021</td>\n",
       "      <td>-0.000260</td>\n",
       "      <td>-0.000380</td>\n",
       "      <td>0.000007</td>\n",
       "      <td>0.000083</td>\n",
       "      <td>0.000121</td>\n",
       "      <td>0.001023</td>\n",
       "      <td>0.001492</td>\n",
       "      <td>0.002175</td>\n",
       "    </tr>\n",
       "  </tbody>\n",
       "</table>\n",
       "<p>5 rows × 65 columns</p>\n",
       "</div>"
      ],
      "text/plain": [
       "        age       sex       bmi        bp        s1        s2        s3  \\\n",
       "0  0.038076  0.050680  0.061696  0.021872 -0.044223 -0.034821 -0.043401   \n",
       "1 -0.001882 -0.044642 -0.051474 -0.026328 -0.008449 -0.019163  0.074412   \n",
       "2  0.085299  0.050680  0.044451 -0.005670 -0.045599 -0.034194 -0.032356   \n",
       "3 -0.089063 -0.044642 -0.011595 -0.036656  0.012191  0.024991 -0.036038   \n",
       "4  0.005383 -0.044642 -0.036385  0.021872  0.003935  0.015596  0.008142   \n",
       "\n",
       "         s4        s5        s6  ...      s3^2     s3 s4     s3 s5     s3 s6  \\\n",
       "0 -0.002592  0.019907 -0.017646  ...  0.001884  0.000113 -0.000864  0.000766   \n",
       "1 -0.039493 -0.068332 -0.092204  ...  0.005537 -0.002939 -0.005085 -0.006861   \n",
       "2 -0.002592  0.002861 -0.025930  ...  0.001047  0.000084 -0.000093  0.000839   \n",
       "3  0.034309  0.022688 -0.009362  ...  0.001299 -0.001236 -0.000818  0.000337   \n",
       "4 -0.002592 -0.031988 -0.046641  ...  0.000066 -0.000021 -0.000260 -0.000380   \n",
       "\n",
       "       s4^2     s4 s5     s4 s6      s5^2     s5 s6      s6^2  \n",
       "0  0.000007 -0.000052  0.000046  0.000396 -0.000351  0.000311  \n",
       "1  0.001560  0.002699  0.003641  0.004669  0.006300  0.008502  \n",
       "2  0.000007 -0.000007  0.000067  0.000008 -0.000074  0.000672  \n",
       "3  0.001177  0.000778 -0.000321  0.000515 -0.000212  0.000088  \n",
       "4  0.000007  0.000083  0.000121  0.001023  0.001492  0.002175  \n",
       "\n",
       "[5 rows x 65 columns]"
      ]
     },
     "execution_count": 41,
     "metadata": {},
     "output_type": "execute_result"
    }
   ],
   "source": [
    "poly = PolynomialFeatures(degree=2, include_bias=False)\n",
    "fit = poly.fit_transform(hf[['age', 'sex', 'bmi','bp','s1','s2','s3','s4','s5','s6']])\n",
    "x = DataFrame(fit, columns=poly.get_feature_names_out())\n",
    "x.head()"
   ]
  },
  {
   "cell_type": "code",
   "execution_count": null,
   "metadata": {},
   "outputs": [
    {
     "data": {
      "text/plain": [
       "((309, 65), (133, 65), (309, 1), (133, 1))"
      ]
     },
     "execution_count": 42,
     "metadata": {},
     "output_type": "execute_result"
    }
   ],
   "source": [
    "x_train, x_test, y_train, y_test = train_test_split(x, hf[['target']], test_size=0.3, random_state=123)\n",
    "x_train.shape, x_test.shape, y_train.shape, y_test.shape"
   ]
  },
  {
   "cell_type": "code",
   "execution_count": null,
   "metadata": {},
   "outputs": [
    {
     "name": "stdout",
     "output_type": "stream",
     "text": [
      "계수:  [[ 1.67148165e+01 -2.89615608e+02  3.76629986e+02  3.29585848e+02\n",
      "  -3.97234494e+04  3.47029624e+04  1.46140715e+04  2.62800166e+02\n",
      "   1.36637890e+04  8.67833010e+01  1.28265924e+03  4.40594717e+03\n",
      "  -1.03942230e+03  5.01364967e+02 -1.28267528e+04  4.88408749e+03\n",
      "   1.08778462e+04  5.73892439e+03  6.38483361e+03  8.39326616e+02\n",
      "  -1.74883868e+00  8.96038657e+02  3.23947642e+03  1.55896102e+04\n",
      "  -1.31312446e+04 -6.14692750e+03 -1.93155528e+03 -5.90059242e+03\n",
      "   5.48108189e+02  1.14098782e+03  1.30938341e+03 -1.75238330e+04\n",
      "   1.72274398e+04  5.14214060e+03 -1.10985060e+03  3.58847633e+03\n",
      "   1.12395412e+03  8.85756105e+02  8.20981655e+03 -5.03900182e+03\n",
      "  -3.96898422e+03 -1.58641132e+03 -5.49980200e+02 -5.27379631e+03\n",
      "  -2.63709848e+04  6.64254037e+04  3.18831195e+04 -9.66446879e+03\n",
      "   1.36142171e+05  1.31460582e+04 -3.28442348e+04 -4.42618570e+04\n",
      "  -8.91957156e+03 -1.21550415e+05 -1.48120692e+04 -5.60963940e+03\n",
      "   1.64843640e+04 -5.90362123e+04 -2.18534092e+03  1.25331477e+04\n",
      "  -7.10556029e+03  4.61038016e+03  2.89460711e+04 -2.54716814e+03\n",
      "   1.88053839e+03]]\n",
      "절편:  [-29.78307894]\n",
      "훈련 데이터 설명력:  0.6251471407797977\n",
      "검증 데이터 설명력:  0.412825588887322\n"
     ]
    }
   ],
   "source": [
    "model = LinearRegression()\n",
    "fit = model.fit(x_train, y_train)\n",
    "\n",
    "print(\"계수: \", fit.coef_)\n",
    "print(\"절편: \", fit.intercept_)\n",
    "print(\"훈련 데이터 설명력: \", fit.score(x_train, y_train))\n",
    "print(\"검증 데이터 설명력: \", fit.score(x_test, y_test))"
   ]
  },
  {
   "cell_type": "code",
   "execution_count": null,
   "metadata": {},
   "outputs": [
    {
     "data": {
      "text/plain": [
       "array([142.00007315, 120.48395612, 228.83267115,  44.90591197,\n",
       "       212.28961683,  69.76419753, 253.89809118, 192.62182441,\n",
       "       234.13079776, 152.03006393, 143.01124226, 267.60745469,\n",
       "       203.9915206 , 192.67407874, 158.0469551 , 100.64481396,\n",
       "       161.09412168, 164.84581323, 104.68093567, 107.86236214,\n",
       "       100.94554527, 136.08818683, 179.84117713, 113.77491015,\n",
       "       141.51376327, 113.54642256, 137.14846895,  94.31251298,\n",
       "       245.10342194, 121.86274868, 262.42833362, 194.84559473,\n",
       "        80.21688664, 104.84980094, 121.33355396, 163.76211531,\n",
       "       220.82839953, 111.92444103, 123.43932581, 315.82221293,\n",
       "       111.1785928 , 118.26791085, 135.68255156, 112.96478626,\n",
       "       146.47630802,  74.23799066, 193.7264245 ,  70.23198998,\n",
       "        70.3716779 , 145.87096755, 192.07515236,  87.41605489,\n",
       "        63.85169842,  99.64600515, 244.50611858,  86.82528397,\n",
       "       173.51331271, 118.0773357 , 163.24165014, 166.2748582 ,\n",
       "       127.80825552, 216.39561877, 216.91014991,  46.00771993,\n",
       "       212.84714131,  98.13969138,  97.13587277, 190.90974175,\n",
       "       164.97481908, 260.64914143, 134.65352287, 113.88552235,\n",
       "       178.86978292, 196.53403251, 149.71483316, 175.36770419,\n",
       "       237.61452612, 104.44759393, 105.01136914, 125.02533506,\n",
       "       224.30104083, 222.00278521, 150.58666633, 104.88166078,\n",
       "        93.10585889, 168.06904236, 136.90474476, 187.17420002,\n",
       "        76.35060104, 124.78664003, 240.63642008,  67.77853162,\n",
       "        88.93018641, 118.87853222, 271.01470917, 130.39736033,\n",
       "       184.01016746, 112.49768213, 119.06745948,  83.40670087,\n",
       "       148.79683895,  85.86135641, 135.23657158, 178.64379195,\n",
       "       149.50427409,  77.91858061,  92.77376852, 148.64504048,\n",
       "       103.9896474 , 279.66268578, 257.80438293, 276.11064598,\n",
       "       146.53737894, 231.22233095, 166.54425177, 156.27357097,\n",
       "        86.69493671, 170.35975318, 145.1853058 , 267.2523987 ,\n",
       "        78.97751932,  95.54595979, 230.09776206, 132.66571551,\n",
       "       109.9063267 , 129.90632891, 118.90242222, 210.25575939,\n",
       "       145.6154794 ,  99.46569367, 261.56386359, 147.27559303,\n",
       "       233.924786  , 267.85639148, 184.91923342, 165.6740689 ,\n",
       "       132.34970744, 100.90921892,  95.33494336, 127.08348684,\n",
       "        91.28662147, 224.96891821,  88.95972112, 155.27392047,\n",
       "        57.51276458, 161.68905004,  60.06305586, 107.41209415,\n",
       "       157.63596195, 187.30395986, 135.64387638,  93.65260922,\n",
       "       242.14974525, 129.78487866, 251.18220567, 195.51449986,\n",
       "       288.42515234, 219.97887521, 203.18328163,  52.5788395 ,\n",
       "        91.61444509, 140.47134375, 140.67885238, 130.48306099,\n",
       "        96.58245994,  86.03038101, 265.38697479,  55.81910158,\n",
       "       152.48110515,  53.60347054, 112.00762558, 119.35165084,\n",
       "       142.63372614, 109.1987729 , 111.58280184, 180.48531385,\n",
       "       142.80939104, 146.76553265, 133.56767804, 147.71105051,\n",
       "       243.0759496 , 165.81601459, 352.83115034,  72.82002884,\n",
       "       322.6221848 , 167.58806865, 227.32665826, 267.02868834,\n",
       "        87.64696669, 296.06862606,  98.40682119,  76.60245258,\n",
       "       101.10590047, 221.15964147, 155.64708934,  92.36215686,\n",
       "       142.82211688,  57.92934855, 189.80547751, 249.88141845,\n",
       "       112.16837629, 243.69437226, 235.47983676, 179.61619257,\n",
       "        84.16517053, 176.50227145, 144.13859849, 161.32562023,\n",
       "        95.64382366, 155.71219351, 110.71171251, 298.46532599,\n",
       "       134.50406029, 102.13557359, 113.20712842, 180.97410852,\n",
       "       155.38132566, 121.81545262, 237.5747164 , 112.70901267,\n",
       "       208.82692531, 158.9800866 , 212.04851237, 109.0375178 ,\n",
       "       127.13602272, 183.12254719,  86.704141  , 159.95794803,\n",
       "       280.6278022 , 142.07161039, 137.1409923 , 123.7386999 ,\n",
       "       164.78274278, 175.41563746, 155.84058491,  90.07883056,\n",
       "       246.68634164, 181.34357955, 100.73624087, 114.91622337,\n",
       "       186.25974461, 214.87355217, 151.81089061, 191.06456973,\n",
       "        47.25921706,  74.5501514 , 146.44730514, 104.54261525,\n",
       "        74.75144929, 159.09649624, 184.498309  , 197.3759628 ,\n",
       "       116.18635974, 173.82778803, 126.45934776, 128.1657585 ,\n",
       "       200.58321655,  94.37622348, 150.49323005, 271.83053937,\n",
       "       150.40707929, 235.91391365, 273.80279876, 153.65506081,\n",
       "        94.58749923, 136.56085699,  76.05693278, 167.71937196,\n",
       "       129.36594597, 142.57093112, 160.65872822,  60.83640316,\n",
       "       274.55354842, 155.94922035, 162.19202824,  57.70912805,\n",
       "       106.53489176, 116.85975435, 170.28692073, 191.79078677,\n",
       "       150.29519034, 114.79943242, 116.40292391, 184.27829534,\n",
       "        82.02226272, 193.57099278,  64.07543436, 156.55654   ,\n",
       "       172.00069538,  98.12633747, 116.34931093, 344.19642052,\n",
       "       104.67332949, 148.74571908, 100.29425132, 221.90020844,\n",
       "       237.46799691, 233.76116981, 103.98351119,  81.75512321,\n",
       "       138.8540667 , 130.94333805, 151.59674721, 204.41021321,\n",
       "       181.0789499 , 121.28493865, 244.43103213, 151.70743267,\n",
       "       193.47208931])"
      ]
     },
     "execution_count": 44,
     "metadata": {},
     "output_type": "execute_result"
    }
   ],
   "source": [
    "y_train_pred = fit.predict(x_train)\n",
    "y_train_pred = y_train_pred.reshape(-1)\n",
    "y_train_pred"
   ]
  },
  {
   "cell_type": "code",
   "execution_count": null,
   "metadata": {},
   "outputs": [
    {
     "data": {
      "text/plain": [
       "array([158.97558626, 145.49725199, 232.04067658, 178.09567911,\n",
       "       204.410981  , 175.64647953, 284.69417272, 132.79044095,\n",
       "       130.35987509, 142.04870398, 150.14336997, 185.28936995,\n",
       "       163.22167611, 200.87959936, 240.23761911, 193.16156599,\n",
       "        80.6990891 , 140.84124234, 191.80060778, 245.35678637,\n",
       "       183.22275172, 260.59884745,  96.44623287,  44.10836153,\n",
       "       114.16704405, 193.92129605,  72.56076221,  89.62545832,\n",
       "       179.04910414, 170.51318874,  88.86566713, 237.12586914,\n",
       "       201.52565536, 239.29882346, 208.46540439,  79.44759073,\n",
       "        82.97320631,  88.35829955, 246.95937741,  99.30597813,\n",
       "       240.56565433,  95.3707346 , 109.24394646, 127.43883231,\n",
       "        96.35721651, 207.88333234, 135.03692547,  78.48714793,\n",
       "        64.92834646, 257.70144273, 132.01698322,  98.87526012,\n",
       "       166.40341824, 217.25589978, 174.01434739, 218.88349521,\n",
       "       206.15068948, 173.05302797, 200.26895363, 206.81197463,\n",
       "       125.12689605, 104.53051927, 249.66628776, 189.56031907,\n",
       "       191.47269478,  24.62263998,  75.35766865, 150.58716006,\n",
       "       125.12528002,  82.56377075, 104.36456333,  27.52442866,\n",
       "       206.96430381, 209.23397512, 135.08399005, 179.36044198,\n",
       "       167.04542432, 136.34597068, 121.73080635,  97.48716533,\n",
       "        94.01964069, 143.59605203, 175.99245948, 256.61301905,\n",
       "       203.1822845 , 206.57904464, 189.05900956,  71.96876561,\n",
       "       134.24926847, 159.37699712, 181.90879756,  79.1979814 ,\n",
       "       169.58795953, 151.83261419, 154.90047237, 230.58132834,\n",
       "       178.32782489, 205.28134858, 125.35396092, 163.93868288,\n",
       "        90.71569422,  71.27104061, 116.73241541, 214.12417617,\n",
       "       176.61639078,  77.39057199, 130.95557346, 161.18429126,\n",
       "       217.55833875, 212.90698588,  76.70126128, 141.43812372,\n",
       "       119.48610908,  78.40742566,  96.40982825,  76.36353767,\n",
       "       213.18369374,  55.63243257, 213.01847977, 219.97607313,\n",
       "       173.59825318, 154.36409478, 167.48524884,  85.98984772,\n",
       "       193.61104073, 199.10662119, 261.38738126, 177.30439992,\n",
       "        67.09962496,  78.83714207,  66.36532678, 200.83644701,\n",
       "       106.6289238 ])"
      ]
     },
     "execution_count": 45,
     "metadata": {},
     "output_type": "execute_result"
    }
   ],
   "source": [
    "y_test_pred = fit.predict(x_test)\n",
    "y_test_pred = y_test_pred.reshape(-1)\n",
    "y_test_pred"
   ]
  },
  {
   "cell_type": "code",
   "execution_count": null,
   "metadata": {},
   "outputs": [
    {
     "data": {
      "image/png": "[encoded data removed]",
      "text/plain": [
       "<Figure size 1500x500 with 2 Axes>"
      ]
     },
     "metadata": {},
     "output_type": "display_data"
    }
   ],
   "source": [
    "fig, (ax1, ax2) = plt.subplots(1, 2, figsize=(15, 5))\n",
    "\n",
    "# 학습에 사용한 관측치 시각화\n",
    "sb.scatterplot(x=x_train['age^2'], y=y_train['target'], label='train data', ax=ax1)\n",
    "\n",
    "# 학습에 사용한 데이터에 추세선\n",
    "x, y = helper.getTrend(x_train['age^2'], y_train['target'])\n",
    "sb.lineplot(x=x, y=y, color='blue', ax=ax1)\n",
    "\n",
    "# 학습 데이터에 따른 추정치\n",
    "sb.scatterplot(x=x_train['age^2'], y=y_train_pred, label='train predict', ax=ax1)\n",
    "\n",
    "# 추정치에 대한 추세선\n",
    "x, y = helper.getTrend(x_train['age^2'], y_train_pred)\n",
    "sb.lineplot(x=x, y=y, color='red', ax=ax1)\n",
    "\n",
    "ax1.set_title(\"훈련 데이터\")\n",
    "ax1.legend()\n",
    "ax1.grid()\n",
    "\n",
    "# 검증데이터 시각화\n",
    "sb.scatterplot(x=x_test['age^2'], y=y_test['target'], label='test data', ax=ax2)\n",
    "\n",
    "# 검증데이터의 추세선\n",
    "x, y = helper.getTrend(x_test['age^2'], y_test['target'])\n",
    "sb.lineplot(x=x, y=y, color='blue', ax=ax2)\n",
    "\n",
    "# 검증데이터에 대한 추정치 시각화\n",
    "sb.scatterplot(x=x_test['age^2'], y=y_test_pred, label='test predict', ax=ax2)\n",
    "\n",
    "# 검증데이터 추정치에 대한 추세선\n",
    "x, y = helper.getTrend(x_test['age^2'], y_test_pred)\n",
    "sb.lineplot(x=x, y=y, color='red', ax=ax2)\n",
    "\n",
    "ax2.set_title(\"검증 데이터\")\n",
    "ax2.legend()\n",
    "ax2.grid()\n",
    "\n",
    "plt.show()\n",
    "plt.close()"
   ]
  },
  {
   "cell_type": "code",
   "execution_count": null,
   "metadata": {},
   "outputs": [],
   "source": []
  }
 ],
 "metadata": {
  "kernelspec": {
   "display_name": "Python 3",
   "language": "python",
   "name": "python3"
  },
  "language_info": {
   "codemirror_mode": {
    "name": "ipython",
    "version": 3
   },
   "file_extension": ".py",
   "mimetype": "text/x-python",
   "name": "python",
   "nbconvert_exporter": "python",
   "pygments_lexer": "ipython3",
   "version": "3.9.13"
  },
  "orig_nbformat": 4
 },
 "nbformat": 4,
 "nbformat_minor": 2
}
