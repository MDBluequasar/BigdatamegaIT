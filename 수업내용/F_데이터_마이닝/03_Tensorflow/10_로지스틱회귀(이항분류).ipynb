{
 "cells": [
  {
   "cell_type": "markdown",
   "metadata": {},
   "source": [
    "# 제목\n",
    "\n",
    "## #01. 패키지 준비하기"
   ]
  },
  {
   "cell_type": "code",
   "execution_count": 1,
   "metadata": {},
   "outputs": [],
   "source": [
    "import sys\n",
    "sys.path.append('../../')\n",
    "import helper\n",
    "\n",
    "from pandas import read_excel, DataFrame\n",
    "from matplotlib import pyplot as plt\n",
    "import seaborn as sb\n",
    "import numpy as np\n",
    "\n",
    "from sklearn.model_selection import train_test_split\n",
    "from sklearn.preprocessing import StandardScaler\n",
    "from sklearn.metrics import classification_report, confusion_matrix, roc_curve, roc_auc_score, accuracy_score, recall_score, precision_score, f1_score\n",
    "\n",
    "from tensorflow.keras.models import Sequential\n",
    "from tensorflow.keras.layers import Dense\n",
    "from tensorflow.keras.callbacks import EarlyStopping\n",
    "from tensorflow.keras.callbacks import ReduceLROnPlateau\n",
    "from tensorflow.keras.callbacks import ModelCheckpoint"
   ]
  },
  {
   "cell_type": "markdown",
   "metadata": {},
   "source": [
    "## #02. 데이터셋 준비하기\n",
    "\n",
    "방사선학 석사과정 대학원생 모집을 하였다. 이 때 지원한 방사선사의 대학원 합격 여부에 따른 주요 요인이 무엇인지 분석하라.\n",
    "\n",
    "단, 독립변수는 정규분포를 따른다고 가정한다.\n",
    "\n",
    "| 변수 | 구분 | 설명 |\n",
    "|---|---|---\n",
    "| 합격여부 | 범주형 | 1=합격, 0=불합격 |\n",
    "| 필기점수 | 연속형 | 800점 만점 |\n",
    "| 학부성적 | 연속형 | 4.0 만점 |\n",
    "| 병원경력 | 범주형 | 1: 10년이상, 2: 2~5년, 3: 1~5년, 4: 1년 미만 |"
   ]
  },
  {
   "cell_type": "code",
   "execution_count": 2,
   "metadata": {},
   "outputs": [
    {
     "data": {
      "text/html": [
       "<div>\n",
       "<style scoped>\n",
       "    .dataframe tbody tr th:only-of-type {\n",
       "        vertical-align: middle;\n",
       "    }\n",
       "\n",
       "    .dataframe tbody tr th {\n",
       "        vertical-align: top;\n",
       "    }\n",
       "\n",
       "    .dataframe thead th {\n",
       "        text-align: right;\n",
       "    }\n",
       "</style>\n",
       "<table border=\"1\" class=\"dataframe\">\n",
       "  <thead>\n",
       "    <tr style=\"text-align: right;\">\n",
       "      <th></th>\n",
       "      <th>합격여부</th>\n",
       "      <th>필기점수</th>\n",
       "      <th>학부성적</th>\n",
       "      <th>병원경력</th>\n",
       "    </tr>\n",
       "  </thead>\n",
       "  <tbody>\n",
       "    <tr>\n",
       "      <th>0</th>\n",
       "      <td>0</td>\n",
       "      <td>380</td>\n",
       "      <td>3.61</td>\n",
       "      <td>3</td>\n",
       "    </tr>\n",
       "    <tr>\n",
       "      <th>1</th>\n",
       "      <td>1</td>\n",
       "      <td>660</td>\n",
       "      <td>3.67</td>\n",
       "      <td>3</td>\n",
       "    </tr>\n",
       "    <tr>\n",
       "      <th>2</th>\n",
       "      <td>1</td>\n",
       "      <td>800</td>\n",
       "      <td>4.00</td>\n",
       "      <td>1</td>\n",
       "    </tr>\n",
       "    <tr>\n",
       "      <th>3</th>\n",
       "      <td>1</td>\n",
       "      <td>640</td>\n",
       "      <td>3.19</td>\n",
       "      <td>4</td>\n",
       "    </tr>\n",
       "    <tr>\n",
       "      <th>4</th>\n",
       "      <td>0</td>\n",
       "      <td>520</td>\n",
       "      <td>2.93</td>\n",
       "      <td>4</td>\n",
       "    </tr>\n",
       "  </tbody>\n",
       "</table>\n",
       "</div>"
      ],
      "text/plain": [
       "   합격여부  필기점수  학부성적  병원경력\n",
       "0     0   380  3.61     3\n",
       "1     1   660  3.67     3\n",
       "2     1   800  4.00     1\n",
       "3     1   640  3.19     4\n",
       "4     0   520  2.93     4"
      ]
     },
     "execution_count": 2,
     "metadata": {},
     "output_type": "execute_result"
    }
   ],
   "source": [
    "origin = read_excel(\"https://data.hossam.kr/E05/gradeuate.xlsx\")\n",
    "origin.head()"
   ]
  },
  {
   "cell_type": "markdown",
   "metadata": {},
   "source": [
    "## #03. 데이터 전처리\n",
    "\n",
    "### 결측치 확인"
   ]
  },
  {
   "cell_type": "code",
   "execution_count": 3,
   "metadata": {},
   "outputs": [
    {
     "data": {
      "text/plain": [
       "합격여부    0\n",
       "필기점수    0\n",
       "학부성적    0\n",
       "병원경력    0\n",
       "dtype: int64"
      ]
     },
     "execution_count": 3,
     "metadata": {},
     "output_type": "execute_result"
    }
   ],
   "source": [
    "origin.isna().sum()"
   ]
  },
  {
   "cell_type": "markdown",
   "metadata": {},
   "source": [
    "명목형에 대한 데이터 타입 설정"
   ]
  },
  {
   "cell_type": "code",
   "execution_count": 4,
   "metadata": {},
   "outputs": [
    {
     "name": "stdout",
     "output_type": "stream",
     "text": [
      "<class 'pandas.core.frame.DataFrame'>\n",
      "RangeIndex: 400 entries, 0 to 399\n",
      "Data columns (total 4 columns):\n",
      " #   Column  Non-Null Count  Dtype   \n",
      "---  ------  --------------  -----   \n",
      " 0   합격여부    400 non-null    category\n",
      " 1   필기점수    400 non-null    int64   \n",
      " 2   학부성적    400 non-null    float64 \n",
      " 3   병원경력    400 non-null    int64   \n",
      "dtypes: category(1), float64(1), int64(2)\n",
      "memory usage: 10.0 KB\n"
     ]
    }
   ],
   "source": [
    "origin['합격여부'] = origin['합격여부'].astype('category')\n",
    "origin.info()"
   ]
  },
  {
   "cell_type": "markdown",
   "metadata": {},
   "source": [
    "## #04. 탐색적 데이터 분석\n",
    "\n",
    "### 기본통계 확인"
   ]
  },
  {
   "cell_type": "code",
   "execution_count": 5,
   "metadata": {},
   "outputs": [
    {
     "data": {
      "text/html": [
       "<div>\n",
       "<style scoped>\n",
       "    .dataframe tbody tr th:only-of-type {\n",
       "        vertical-align: middle;\n",
       "    }\n",
       "\n",
       "    .dataframe tbody tr th {\n",
       "        vertical-align: top;\n",
       "    }\n",
       "\n",
       "    .dataframe thead th {\n",
       "        text-align: right;\n",
       "    }\n",
       "</style>\n",
       "<table border=\"1\" class=\"dataframe\">\n",
       "  <thead>\n",
       "    <tr style=\"text-align: right;\">\n",
       "      <th></th>\n",
       "      <th>필기점수</th>\n",
       "      <th>학부성적</th>\n",
       "      <th>병원경력</th>\n",
       "    </tr>\n",
       "  </thead>\n",
       "  <tbody>\n",
       "    <tr>\n",
       "      <th>count</th>\n",
       "      <td>400.000000</td>\n",
       "      <td>400.000000</td>\n",
       "      <td>400.00000</td>\n",
       "    </tr>\n",
       "    <tr>\n",
       "      <th>mean</th>\n",
       "      <td>587.700000</td>\n",
       "      <td>3.389900</td>\n",
       "      <td>2.48500</td>\n",
       "    </tr>\n",
       "    <tr>\n",
       "      <th>std</th>\n",
       "      <td>115.516536</td>\n",
       "      <td>0.380567</td>\n",
       "      <td>0.94446</td>\n",
       "    </tr>\n",
       "    <tr>\n",
       "      <th>min</th>\n",
       "      <td>220.000000</td>\n",
       "      <td>2.260000</td>\n",
       "      <td>1.00000</td>\n",
       "    </tr>\n",
       "    <tr>\n",
       "      <th>25%</th>\n",
       "      <td>520.000000</td>\n",
       "      <td>3.130000</td>\n",
       "      <td>2.00000</td>\n",
       "    </tr>\n",
       "    <tr>\n",
       "      <th>50%</th>\n",
       "      <td>580.000000</td>\n",
       "      <td>3.395000</td>\n",
       "      <td>2.00000</td>\n",
       "    </tr>\n",
       "    <tr>\n",
       "      <th>75%</th>\n",
       "      <td>660.000000</td>\n",
       "      <td>3.670000</td>\n",
       "      <td>3.00000</td>\n",
       "    </tr>\n",
       "    <tr>\n",
       "      <th>max</th>\n",
       "      <td>800.000000</td>\n",
       "      <td>4.000000</td>\n",
       "      <td>4.00000</td>\n",
       "    </tr>\n",
       "  </tbody>\n",
       "</table>\n",
       "</div>"
      ],
      "text/plain": [
       "             필기점수        학부성적       병원경력\n",
       "count  400.000000  400.000000  400.00000\n",
       "mean   587.700000    3.389900    2.48500\n",
       "std    115.516536    0.380567    0.94446\n",
       "min    220.000000    2.260000    1.00000\n",
       "25%    520.000000    3.130000    2.00000\n",
       "50%    580.000000    3.395000    2.00000\n",
       "75%    660.000000    3.670000    3.00000\n",
       "max    800.000000    4.000000    4.00000"
      ]
     },
     "execution_count": 5,
     "metadata": {},
     "output_type": "execute_result"
    }
   ],
   "source": [
    "origin.describe()"
   ]
  },
  {
   "cell_type": "markdown",
   "metadata": {},
   "source": [
    "상자그림 확인"
   ]
  },
  {
   "cell_type": "code",
   "execution_count": 6,
   "metadata": {},
   "outputs": [
    {
     "data": {
      "image/png": "[encoded data removed]",
      "text/plain": [
       "<Figure size 1000x500 with 1 Axes>"
      ]
     },
     "metadata": {},
     "output_type": "display_data"
    }
   ],
   "source": [
    "plt.figure(figsize = (10, 5))\n",
    "sb.boxplot(data = origin)\n",
    "plt.show()\n",
    "plt.close()"
   ]
  },
  {
   "cell_type": "markdown",
   "metadata": {},
   "source": [
    "> 데이터 단위가 크게 다르므로 표준화가 필요해 보임"
   ]
  },
  {
   "cell_type": "markdown",
   "metadata": {},
   "source": [
    "## #05. 데이터셋 분할하기\n",
    "\n",
    "### 랜덤시드 고정"
   ]
  },
  {
   "cell_type": "code",
   "execution_count": 7,
   "metadata": {},
   "outputs": [],
   "source": [
    "np.random.seed(777)"
   ]
  },
  {
   "cell_type": "markdown",
   "metadata": {},
   "source": [
    "### 훈련 데이터(독립변수)와 레이블(종속변수) 구분하기"
   ]
  },
  {
   "cell_type": "code",
   "execution_count": 8,
   "metadata": {},
   "outputs": [
    {
     "data": {
      "text/plain": [
       "((400, 3), (400, 1))"
      ]
     },
     "execution_count": 8,
     "metadata": {},
     "output_type": "execute_result"
    }
   ],
   "source": [
    "x = origin[['필기점수','학부성적','병원경력']]\n",
    "y = origin[['합격여부']]\n",
    "x.shape, y.shape"
   ]
  },
  {
   "cell_type": "markdown",
   "metadata": {},
   "source": [
    "### 데이터 표준화"
   ]
  },
  {
   "cell_type": "code",
   "execution_count": 9,
   "metadata": {},
   "outputs": [
    {
     "name": "stdout",
     "output_type": "stream",
     "text": [
      "(400, 3)\n"
     ]
    },
    {
     "data": {
      "text/plain": [
       "array([[-1.80026271,  0.57907192,  0.54596793],\n",
       "       [ 0.62666824,  0.73692942,  0.54596793],\n",
       "       [ 1.84013372,  1.60514289, -1.57429586],\n",
       "       ...,\n",
       "       [-1.10685387, -1.99925902, -0.51416397],\n",
       "       [ 0.97337266,  0.68431046, -0.51416397],\n",
       "       [ 0.10661161,  1.31573861,  0.54596793]])"
      ]
     },
     "execution_count": 9,
     "metadata": {},
     "output_type": "execute_result"
    }
   ],
   "source": [
    "x_scaller = StandardScaler()\n",
    "x_scale = x_scaller.fit_transform(x)\n",
    "print(x_scale.shape)\n",
    "x_scale"
   ]
  },
  {
   "cell_type": "markdown",
   "metadata": {},
   "source": [
    "### 표준화 전 / 후 상자그림 비교"
   ]
  },
  {
   "cell_type": "code",
   "execution_count": 10,
   "metadata": {},
   "outputs": [
    {
     "data": {
      "image/png": "[encoded data removed]",
      "text/plain": [
       "<Figure size 2250x750 with 2 Axes>"
      ]
     },
     "metadata": {},
     "output_type": "display_data"
    }
   ],
   "source": [
    "# 임시로 독립변수와 종속변수를 하나의 DataFrame으로 병합\n",
    "x_scale_df = DataFrame(x_scale, columns=['필기점수','학부성적','병원경력'])\n",
    "\n",
    "fig, ax = plt.subplots(1, 2, figsize=(15, 5), dpi=150)\n",
    "sb.boxplot(data=origin, ax=ax[0])\n",
    "sb.boxplot(data=x_scale_df, ax=ax[1])\n",
    "ax[0].set_title('before')\n",
    "ax[1].set_title('after')\n",
    "plt.show()\n",
    "plt.close()"
   ]
  },
  {
   "cell_type": "markdown",
   "metadata": {},
   "source": [
    "### 훈련 데이터와 검증 데이터로 분할"
   ]
  },
  {
   "cell_type": "code",
   "execution_count": 11,
   "metadata": {},
   "outputs": [
    {
     "data": {
      "text/plain": [
       "((280, 3), (120, 3), (280, 1), (120, 1))"
      ]
     },
     "execution_count": 11,
     "metadata": {},
     "output_type": "execute_result"
    }
   ],
   "source": [
    "x_train, x_test, y_train, y_test = train_test_split(x_scale, y, test_size=0.3, random_state=777)\n",
    "x_train.shape, x_test.shape, y_train.shape, y_test.shape"
   ]
  },
  {
   "cell_type": "markdown",
   "metadata": {},
   "source": [
    "## #06. 모델 개발\n",
    "\n",
    "### 모델 정의"
   ]
  },
  {
   "cell_type": "code",
   "execution_count": 12,
   "metadata": {},
   "outputs": [
    {
     "name": "stdout",
     "output_type": "stream",
     "text": [
      "Model: \"sequential\"\n",
      "_________________________________________________________________\n",
      " Layer (type)                Output Shape              Param #   \n",
      "=================================================================\n",
      " dense (Dense)               (None, 32)                128       \n",
      "                                                                 \n",
      " dense_1 (Dense)             (None, 1)                 33        \n",
      "                                                                 \n",
      "=================================================================\n",
      "Total params: 161 (644.00 Byte)\n",
      "Trainable params: 161 (644.00 Byte)\n",
      "Non-trainable params: 0 (0.00 Byte)\n",
      "_________________________________________________________________\n"
     ]
    }
   ],
   "source": [
    "model = Sequential()\n",
    "model.add(Dense(32, activation = 'relu', input_shape = (3, )))\n",
    "model.add(Dense(1, activation = 'sigmoid'))\n",
    "model.compile(optimizer = 'rmsprop', loss = 'binary_crossentropy', metrics = ['acc'])\n",
    "model.summary()"
   ]
  },
  {
   "cell_type": "markdown",
   "metadata": {},
   "source": [
    "### 학습하기"
   ]
  },
  {
   "cell_type": "code",
   "execution_count": 13,
   "metadata": {},
   "outputs": [
    {
     "name": "stdout",
     "output_type": "stream",
     "text": [
      "Epoch 1/500\n",
      "9/9 [==============================] - 0s 17ms/step - loss: 0.6607 - acc: 0.5821 - val_loss: 0.6257 - val_acc: 0.7250 - lr: 0.0010\n",
      "Epoch 2/500\n",
      "9/9 [==============================] - 0s 4ms/step - loss: 0.6401 - acc: 0.6286 - val_loss: 0.6084 - val_acc: 0.7333 - lr: 0.0010\n",
      "Epoch 3/500\n",
      "9/9 [==============================] - 0s 4ms/step - loss: 0.6277 - acc: 0.6500 - val_loss: 0.5945 - val_acc: 0.7583 - lr: 0.0010\n",
      "Epoch 4/500\n",
      "9/9 [==============================] - 0s 4ms/step - loss: 0.6193 - acc: 0.6714 - val_loss: 0.5857 - val_acc: 0.7750 - lr: 0.0010\n",
      "Epoch 5/500\n",
      "9/9 [==============================] - 0s 4ms/step - loss: 0.6127 - acc: 0.6750 - val_loss: 0.5774 - val_acc: 0.7583 - lr: 0.0010\n",
      "Epoch 6/500\n",
      "9/9 [==============================] - 0s 4ms/step - loss: 0.6078 - acc: 0.6607 - val_loss: 0.5705 - val_acc: 0.7417 - lr: 0.0010\n",
      "Epoch 7/500\n",
      "9/9 [==============================] - 0s 4ms/step - loss: 0.6039 - acc: 0.6750 - val_loss: 0.5655 - val_acc: 0.7333 - lr: 0.0010\n",
      "Epoch 8/500\n",
      "9/9 [==============================] - 0s 3ms/step - loss: 0.6011 - acc: 0.6857 - val_loss: 0.5618 - val_acc: 0.7500 - lr: 0.0010\n",
      "Epoch 9/500\n",
      "9/9 [==============================] - 0s 4ms/step - loss: 0.5993 - acc: 0.6821 - val_loss: 0.5587 - val_acc: 0.7500 - lr: 0.0010\n",
      "Epoch 10/500\n",
      "9/9 [==============================] - 0s 4ms/step - loss: 0.5974 - acc: 0.6821 - val_loss: 0.5564 - val_acc: 0.7333 - lr: 0.0010\n",
      "Epoch 11/500\n",
      "9/9 [==============================] - 0s 3ms/step - loss: 0.5964 - acc: 0.6786 - val_loss: 0.5549 - val_acc: 0.7333 - lr: 0.0010\n",
      "Epoch 12/500\n",
      "9/9 [==============================] - 0s 4ms/step - loss: 0.5956 - acc: 0.6929 - val_loss: 0.5536 - val_acc: 0.7500 - lr: 0.0010\n",
      "Epoch 13/500\n",
      "9/9 [==============================] - 0s 4ms/step - loss: 0.5950 - acc: 0.6893 - val_loss: 0.5526 - val_acc: 0.7417 - lr: 0.0010\n",
      "Epoch 14/500\n",
      "9/9 [==============================] - 0s 3ms/step - loss: 0.5942 - acc: 0.6893 - val_loss: 0.5518 - val_acc: 0.7500 - lr: 0.0010\n",
      "Epoch 15/500\n",
      "9/9 [==============================] - 0s 4ms/step - loss: 0.5937 - acc: 0.6786 - val_loss: 0.5512 - val_acc: 0.7500 - lr: 0.0010\n",
      "Epoch 16/500\n",
      "9/9 [==============================] - 0s 4ms/step - loss: 0.5933 - acc: 0.6857 - val_loss: 0.5509 - val_acc: 0.7417 - lr: 0.0010\n",
      "Epoch 17/500\n",
      "9/9 [==============================] - 0s 4ms/step - loss: 0.5931 - acc: 0.6857 - val_loss: 0.5505 - val_acc: 0.7417 - lr: 0.0010\n",
      "Epoch 18/500\n",
      "9/9 [==============================] - 0s 4ms/step - loss: 0.5929 - acc: 0.6821 - val_loss: 0.5499 - val_acc: 0.7333 - lr: 0.0010\n",
      "Epoch 19/500\n",
      "9/9 [==============================] - 0s 4ms/step - loss: 0.5921 - acc: 0.6786 - val_loss: 0.5494 - val_acc: 0.7083 - lr: 0.0010\n",
      "Epoch 20/500\n",
      "9/9 [==============================] - 0s 3ms/step - loss: 0.5920 - acc: 0.6786 - val_loss: 0.5491 - val_acc: 0.7167 - lr: 0.0010\n",
      "Epoch 21/500\n",
      "9/9 [==============================] - 0s 4ms/step - loss: 0.5916 - acc: 0.6786 - val_loss: 0.5491 - val_acc: 0.7167 - lr: 0.0010\n",
      "Epoch 22/500\n",
      "9/9 [==============================] - 0s 4ms/step - loss: 0.5917 - acc: 0.6821 - val_loss: 0.5489 - val_acc: 0.7167 - lr: 0.0010\n",
      "Epoch 23/500\n",
      "9/9 [==============================] - 0s 3ms/step - loss: 0.5913 - acc: 0.6821 - val_loss: 0.5492 - val_acc: 0.7250 - lr: 0.0010\n",
      "Epoch 24/500\n",
      "9/9 [==============================] - 0s 4ms/step - loss: 0.5909 - acc: 0.6857 - val_loss: 0.5490 - val_acc: 0.7250 - lr: 0.0010\n",
      "Epoch 25/500\n",
      "9/9 [==============================] - 0s 4ms/step - loss: 0.5911 - acc: 0.6857 - val_loss: 0.5488 - val_acc: 0.7167 - lr: 0.0010\n",
      "Epoch 26/500\n",
      "9/9 [==============================] - 0s 3ms/step - loss: 0.5905 - acc: 0.6893 - val_loss: 0.5486 - val_acc: 0.7167 - lr: 0.0010\n",
      "Epoch 27/500\n",
      "9/9 [==============================] - 0s 4ms/step - loss: 0.5905 - acc: 0.6821 - val_loss: 0.5486 - val_acc: 0.7167 - lr: 0.0010\n",
      "Epoch 28/500\n",
      "9/9 [==============================] - 0s 4ms/step - loss: 0.5902 - acc: 0.6893 - val_loss: 0.5486 - val_acc: 0.7167 - lr: 0.0010\n",
      "Epoch 29/500\n",
      "9/9 [==============================] - 0s 3ms/step - loss: 0.5902 - acc: 0.6893 - val_loss: 0.5484 - val_acc: 0.7167 - lr: 0.0010\n",
      "Epoch 30/500\n",
      "9/9 [==============================] - 0s 4ms/step - loss: 0.5898 - acc: 0.6893 - val_loss: 0.5486 - val_acc: 0.7167 - lr: 0.0010\n",
      "Epoch 31/500\n",
      "9/9 [==============================] - 0s 4ms/step - loss: 0.5896 - acc: 0.6893 - val_loss: 0.5484 - val_acc: 0.7167 - lr: 0.0010\n",
      "Epoch 32/500\n",
      "1/9 [==>...........................] - ETA: 0s - loss: 0.6466 - acc: 0.6562\n",
      "Epoch 32: ReduceLROnPlateau reducing learning rate to 0.0005000000237487257.\n",
      "9/9 [==============================] - 0s 4ms/step - loss: 0.5892 - acc: 0.6893 - val_loss: 0.5486 - val_acc: 0.7167 - lr: 0.0010\n",
      "Epoch 33/500\n",
      "9/9 [==============================] - 0s 4ms/step - loss: 0.5887 - acc: 0.6893 - val_loss: 0.5486 - val_acc: 0.7167 - lr: 5.0000e-04\n",
      "Epoch 34/500\n",
      "9/9 [==============================] - 0s 4ms/step - loss: 0.5888 - acc: 0.6893 - val_loss: 0.5485 - val_acc: 0.7167 - lr: 5.0000e-04\n",
      "Epoch 35/500\n",
      "1/9 [==>...........................] - ETA: 0s - loss: 0.5096 - acc: 0.6562\n",
      "Epoch 35: ReduceLROnPlateau reducing learning rate to 0.0002500000118743628.\n",
      "9/9 [==============================] - 0s 5ms/step - loss: 0.5886 - acc: 0.6893 - val_loss: 0.5484 - val_acc: 0.7167 - lr: 5.0000e-04\n",
      "Epoch 36/500\n",
      "9/9 [==============================] - 0s 4ms/step - loss: 0.5882 - acc: 0.6893 - val_loss: 0.5483 - val_acc: 0.7167 - lr: 2.5000e-04\n",
      "Epoch 37/500\n",
      "9/9 [==============================] - 0s 3ms/step - loss: 0.5882 - acc: 0.6893 - val_loss: 0.5483 - val_acc: 0.7167 - lr: 2.5000e-04\n",
      "Epoch 38/500\n",
      "9/9 [==============================] - 0s 3ms/step - loss: 0.5881 - acc: 0.6893 - val_loss: 0.5483 - val_acc: 0.7167 - lr: 2.5000e-04\n",
      "Epoch 39/500\n",
      "1/9 [==>...........................] - ETA: 0s - loss: 0.4857 - acc: 0.7812\n",
      "Epoch 39: ReduceLROnPlateau reducing learning rate to 0.0001250000059371814.\n",
      "9/9 [==============================] - 0s 4ms/step - loss: 0.5881 - acc: 0.6893 - val_loss: 0.5483 - val_acc: 0.7167 - lr: 2.5000e-04\n",
      "Epoch 40/500\n",
      "9/9 [==============================] - 0s 4ms/step - loss: 0.5879 - acc: 0.6893 - val_loss: 0.5483 - val_acc: 0.7167 - lr: 1.2500e-04\n",
      "Epoch 41/500\n",
      "9/9 [==============================] - 0s 3ms/step - loss: 0.5878 - acc: 0.6893 - val_loss: 0.5483 - val_acc: 0.7167 - lr: 1.2500e-04\n",
      "Epoch 42/500\n",
      "1/9 [==>...........................] - ETA: 0s - loss: 0.5232 - acc: 0.7500\n",
      "Epoch 42: ReduceLROnPlateau reducing learning rate to 0.0001.\n",
      "9/9 [==============================] - 0s 4ms/step - loss: 0.5879 - acc: 0.6893 - val_loss: 0.5483 - val_acc: 0.7167 - lr: 1.2500e-04\n",
      "Epoch 43/500\n",
      "9/9 [==============================] - 0s 4ms/step - loss: 0.5878 - acc: 0.6893 - val_loss: 0.5482 - val_acc: 0.7167 - lr: 1.0000e-04\n",
      "Epoch 44/500\n",
      "9/9 [==============================] - 0s 4ms/step - loss: 0.5878 - acc: 0.6893 - val_loss: 0.5482 - val_acc: 0.7167 - lr: 1.0000e-04\n",
      "Epoch 45/500\n",
      "9/9 [==============================] - 0s 4ms/step - loss: 0.5878 - acc: 0.6893 - val_loss: 0.5482 - val_acc: 0.7167 - lr: 1.0000e-04\n",
      "Epoch 46/500\n",
      "9/9 [==============================] - 0s 4ms/step - loss: 0.5878 - acc: 0.6893 - val_loss: 0.5482 - val_acc: 0.7167 - lr: 1.0000e-04\n",
      "Epoch 47/500\n",
      "9/9 [==============================] - 0s 3ms/step - loss: 0.5877 - acc: 0.6893 - val_loss: 0.5482 - val_acc: 0.7167 - lr: 1.0000e-04\n",
      "Epoch 48/500\n",
      "9/9 [==============================] - 0s 4ms/step - loss: 0.5877 - acc: 0.6893 - val_loss: 0.5482 - val_acc: 0.7167 - lr: 1.0000e-04\n",
      "Epoch 49/500\n",
      "9/9 [==============================] - 0s 4ms/step - loss: 0.5877 - acc: 0.6893 - val_loss: 0.5482 - val_acc: 0.7167 - lr: 1.0000e-04\n",
      "Epoch 50/500\n",
      "9/9 [==============================] - 0s 4ms/step - loss: 0.5876 - acc: 0.6893 - val_loss: 0.5482 - val_acc: 0.7167 - lr: 1.0000e-04\n",
      "Epoch 51/500\n",
      "9/9 [==============================] - 0s 4ms/step - loss: 0.5877 - acc: 0.6893 - val_loss: 0.5482 - val_acc: 0.7167 - lr: 1.0000e-04\n",
      "Epoch 52/500\n",
      "9/9 [==============================] - 0s 4ms/step - loss: 0.5876 - acc: 0.6893 - val_loss: 0.5482 - val_acc: 0.7167 - lr: 1.0000e-04\n",
      "Epoch 53/500\n",
      "9/9 [==============================] - 0s 4ms/step - loss: 0.5876 - acc: 0.6893 - val_loss: 0.5482 - val_acc: 0.7167 - lr: 1.0000e-04\n",
      "Epoch 54/500\n",
      "9/9 [==============================] - 0s 3ms/step - loss: 0.5876 - acc: 0.6893 - val_loss: 0.5482 - val_acc: 0.7167 - lr: 1.0000e-04\n",
      "Epoch 55/500\n",
      "9/9 [==============================] - 0s 4ms/step - loss: 0.5876 - acc: 0.6857 - val_loss: 0.5482 - val_acc: 0.7167 - lr: 1.0000e-04\n",
      "Epoch 56/500\n",
      "9/9 [==============================] - 0s 4ms/step - loss: 0.5876 - acc: 0.6893 - val_loss: 0.5481 - val_acc: 0.7167 - lr: 1.0000e-04\n",
      "Epoch 57/500\n",
      "9/9 [==============================] - 0s 4ms/step - loss: 0.5875 - acc: 0.6857 - val_loss: 0.5481 - val_acc: 0.7167 - lr: 1.0000e-04\n",
      "Epoch 58/500\n",
      "9/9 [==============================] - 0s 4ms/step - loss: 0.5875 - acc: 0.6857 - val_loss: 0.5481 - val_acc: 0.7167 - lr: 1.0000e-04\n",
      "Epoch 59/500\n",
      "9/9 [==============================] - 0s 4ms/step - loss: 0.5875 - acc: 0.6857 - val_loss: 0.5481 - val_acc: 0.7167 - lr: 1.0000e-04\n",
      "Epoch 60/500\n",
      "9/9 [==============================] - 0s 3ms/step - loss: 0.5875 - acc: 0.6857 - val_loss: 0.5481 - val_acc: 0.7167 - lr: 1.0000e-04\n",
      "Epoch 61/500\n",
      "9/9 [==============================] - 0s 4ms/step - loss: 0.5874 - acc: 0.6857 - val_loss: 0.5481 - val_acc: 0.7167 - lr: 1.0000e-04\n",
      "Epoch 62/500\n",
      "9/9 [==============================] - 0s 4ms/step - loss: 0.5875 - acc: 0.6857 - val_loss: 0.5481 - val_acc: 0.7167 - lr: 1.0000e-04\n",
      "Epoch 63/500\n",
      "9/9 [==============================] - 0s 4ms/step - loss: 0.5874 - acc: 0.6857 - val_loss: 0.5481 - val_acc: 0.7167 - lr: 1.0000e-04\n",
      "Epoch 64/500\n",
      "9/9 [==============================] - 0s 4ms/step - loss: 0.5874 - acc: 0.6857 - val_loss: 0.5481 - val_acc: 0.7167 - lr: 1.0000e-04\n",
      "Epoch 65/500\n",
      "9/9 [==============================] - 0s 4ms/step - loss: 0.5874 - acc: 0.6857 - val_loss: 0.5481 - val_acc: 0.7167 - lr: 1.0000e-04\n",
      "Epoch 66/500\n",
      "9/9 [==============================] - 0s 4ms/step - loss: 0.5874 - acc: 0.6857 - val_loss: 0.5481 - val_acc: 0.7167 - lr: 1.0000e-04\n",
      "Epoch 67/500\n",
      "9/9 [==============================] - 0s 4ms/step - loss: 0.5873 - acc: 0.6857 - val_loss: 0.5481 - val_acc: 0.7167 - lr: 1.0000e-04\n",
      "Epoch 68/500\n",
      "9/9 [==============================] - 0s 4ms/step - loss: 0.5873 - acc: 0.6857 - val_loss: 0.5481 - val_acc: 0.7167 - lr: 1.0000e-04\n",
      "Epoch 69/500\n",
      "9/9 [==============================] - 0s 4ms/step - loss: 0.5873 - acc: 0.6857 - val_loss: 0.5480 - val_acc: 0.7167 - lr: 1.0000e-04\n",
      "Epoch 70/500\n",
      "9/9 [==============================] - 0s 4ms/step - loss: 0.5873 - acc: 0.6857 - val_loss: 0.5480 - val_acc: 0.7167 - lr: 1.0000e-04\n",
      "Epoch 71/500\n",
      "9/9 [==============================] - 0s 4ms/step - loss: 0.5873 - acc: 0.6857 - val_loss: 0.5480 - val_acc: 0.7167 - lr: 1.0000e-04\n",
      "Epoch 72/500\n",
      "9/9 [==============================] - 0s 4ms/step - loss: 0.5873 - acc: 0.6857 - val_loss: 0.5480 - val_acc: 0.7167 - lr: 1.0000e-04\n",
      "Epoch 73/500\n",
      "9/9 [==============================] - 0s 5ms/step - loss: 0.5873 - acc: 0.6857 - val_loss: 0.5480 - val_acc: 0.7167 - lr: 1.0000e-04\n",
      "Epoch 74/500\n",
      "9/9 [==============================] - 0s 4ms/step - loss: 0.5872 - acc: 0.6857 - val_loss: 0.5479 - val_acc: 0.7167 - lr: 1.0000e-04\n",
      "Epoch 75/500\n",
      "9/9 [==============================] - 0s 3ms/step - loss: 0.5872 - acc: 0.6857 - val_loss: 0.5479 - val_acc: 0.7167 - lr: 1.0000e-04\n",
      "Epoch 76/500\n",
      "9/9 [==============================] - 0s 4ms/step - loss: 0.5872 - acc: 0.6857 - val_loss: 0.5479 - val_acc: 0.7167 - lr: 1.0000e-04\n",
      "Epoch 77/500\n",
      "9/9 [==============================] - 0s 4ms/step - loss: 0.5871 - acc: 0.6857 - val_loss: 0.5479 - val_acc: 0.7167 - lr: 1.0000e-04\n",
      "Epoch 78/500\n",
      "9/9 [==============================] - 0s 4ms/step - loss: 0.5871 - acc: 0.6857 - val_loss: 0.5479 - val_acc: 0.7167 - lr: 1.0000e-04\n",
      "Epoch 79/500\n",
      "9/9 [==============================] - 0s 4ms/step - loss: 0.5871 - acc: 0.6857 - val_loss: 0.5479 - val_acc: 0.7167 - lr: 1.0000e-04\n",
      "Epoch 80/500\n",
      "9/9 [==============================] - 0s 4ms/step - loss: 0.5871 - acc: 0.6857 - val_loss: 0.5479 - val_acc: 0.7167 - lr: 1.0000e-04\n",
      "Epoch 81/500\n",
      "9/9 [==============================] - 0s 4ms/step - loss: 0.5871 - acc: 0.6857 - val_loss: 0.5479 - val_acc: 0.7167 - lr: 1.0000e-04\n",
      "Epoch 81: early stopping\n"
     ]
    }
   ],
   "source": [
    "result = model.fit(x_train, y_train, epochs = 500, validation_data = (x_test, y_test), callbacks = [\n",
    "    EarlyStopping(monitor = 'val_loss', patience=5, verbose = 1),\n",
    "    ReduceLROnPlateau(monitor= \"val_loss\", patience=3, factor = 0.5, min_lr=0.0001, verbose=1)\n",
    "])"
   ]
  },
  {
   "cell_type": "markdown",
   "metadata": {},
   "source": [
    "## #07. 학습 결과 평가"
   ]
  },
  {
   "cell_type": "code",
   "execution_count": 14,
   "metadata": {},
   "outputs": [
    {
     "data": {
      "image/png": "[encoded data removed]",
      "text/plain": [
       "<Figure size 2250x750 with 2 Axes>"
      ]
     },
     "metadata": {},
     "output_type": "display_data"
    },
    {
     "name": "stdout",
     "output_type": "stream",
     "text": [
      "9/9 [==============================] - 0s 870us/step - loss: 0.5869 - acc: 0.6857\n",
      "최종 훈련 손실률: 0.586949, 최종 훈련 정확도: 0.685714\n",
      "4/4 [==============================] - 0s 997us/step - loss: 0.5479 - acc: 0.7167\n",
      "최종 검증 손실률: 0.547925, 최종 검증 정확도: 0.716667\n"
     ]
    }
   ],
   "source": [
    "helper.tf_result_plot(result)\n",
    "\n",
    "evaluate1 = model.evaluate(x_train, y_train)\n",
    "print(\"최종 훈련 손실률: %f, 최종 훈련 정확도: %f\" % (evaluate1[0], evaluate1[1]))\n",
    "\n",
    "evaluate2 = model.evaluate(x_test, y_test)\n",
    "print(\"최종 검증 손실률: %f, 최종 검증 정확도: %f\" % (evaluate2[0], evaluate2[1]))"
   ]
  },
  {
   "cell_type": "markdown",
   "metadata": {},
   "source": [
    "## #08. 학습 결과 적용"
   ]
  },
  {
   "cell_type": "markdown",
   "metadata": {},
   "source": [
    "### 테스트 데이터에 대한 예측 결과 산정"
   ]
  },
  {
   "cell_type": "code",
   "execution_count": 15,
   "metadata": {},
   "outputs": [
    {
     "name": "stdout",
     "output_type": "stream",
     "text": [
      "9/9 [==============================] - 0s 748us/step\n",
      "280개의 훈련 데이터가 1개의 경우의 수를 갖는다.\n",
      "[[0.41499814]\n",
      " [0.4810961 ]\n",
      " [0.14182958]\n",
      " [0.20083663]\n",
      " [0.19310474]\n",
      " [0.13964835]\n",
      " [0.4697337 ]\n",
      " [0.48597908]\n",
      " [0.35435948]\n",
      " [0.39104652]\n",
      " [0.31514433]\n",
      " [0.38352507]\n",
      " [0.45419478]\n",
      " [0.32715872]\n",
      " [0.18110842]\n",
      " [0.4190861 ]\n",
      " [0.2333423 ]\n",
      " [0.46002287]\n",
      " [0.5269213 ]\n",
      " [0.47430643]\n",
      " [0.35125932]\n",
      " [0.46825516]\n",
      " [0.3236647 ]\n",
      " [0.11673439]\n",
      " [0.36329192]\n",
      " [0.36199576]\n",
      " [0.45465413]\n",
      " [0.35840377]\n",
      " [0.44882274]\n",
      " [0.45555413]\n",
      " [0.36906317]\n",
      " [0.45595786]\n",
      " [0.34258524]\n",
      " [0.23222815]\n",
      " [0.42029795]\n",
      " [0.30089456]\n",
      " [0.15373647]\n",
      " [0.09088789]\n",
      " [0.34735486]\n",
      " [0.45819515]\n",
      " [0.46189368]\n",
      " [0.14950526]\n",
      " [0.4654112 ]\n",
      " [0.31889856]\n",
      " [0.3209567 ]\n",
      " [0.45499128]\n",
      " [0.09271385]\n",
      " [0.28471482]\n",
      " [0.4550889 ]\n",
      " [0.1320009 ]\n",
      " [0.44269887]\n",
      " [0.38160834]\n",
      " [0.43274066]\n",
      " [0.14195119]\n",
      " [0.4462727 ]\n",
      " [0.4873876 ]\n",
      " [0.38341707]\n",
      " [0.44269887]\n",
      " [0.13981846]\n",
      " [0.30362198]\n",
      " [0.3744936 ]\n",
      " [0.43941972]\n",
      " [0.2745114 ]\n",
      " [0.3427818 ]\n",
      " [0.19245407]\n",
      " [0.20095009]\n",
      " [0.45515046]\n",
      " [0.28276014]\n",
      " [0.18491456]\n",
      " [0.35787818]\n",
      " [0.32194895]\n",
      " [0.2642601 ]\n",
      " [0.3729715 ]\n",
      " [0.35384145]\n",
      " [0.52206296]\n",
      " [0.46828032]\n",
      " [0.4550889 ]\n",
      " [0.44604102]\n",
      " [0.48944828]\n",
      " [0.35716298]\n",
      " [0.4221082 ]\n",
      " [0.32446507]\n",
      " [0.14356486]\n",
      " [0.16883932]\n",
      " [0.3480763 ]\n",
      " [0.23343062]\n",
      " [0.33698103]\n",
      " [0.4876775 ]\n",
      " [0.16622059]\n",
      " [0.5041661 ]\n",
      " [0.42811802]\n",
      " [0.09549175]\n",
      " [0.11983615]\n",
      " [0.3310858 ]\n",
      " [0.4380269 ]\n",
      " [0.30188286]\n",
      " [0.49963078]\n",
      " [0.5344125 ]\n",
      " [0.21466295]\n",
      " [0.47523943]\n",
      " [0.3443504 ]\n",
      " [0.21003592]\n",
      " [0.47305784]\n",
      " [0.46510786]\n",
      " [0.48306915]\n",
      " [0.2624155 ]\n",
      " [0.26882842]\n",
      " [0.28230911]\n",
      " [0.20115465]\n",
      " [0.10203806]\n",
      " [0.4778809 ]\n",
      " [0.35362744]\n",
      " [0.40646473]\n",
      " [0.47004062]\n",
      " [0.4663582 ]\n",
      " [0.16892734]\n",
      " [0.1421307 ]\n",
      " [0.33187515]\n",
      " [0.35252732]\n",
      " [0.09483743]\n",
      " [0.13002022]\n",
      " [0.24170697]\n",
      " [0.4816149 ]\n",
      " [0.35170174]\n",
      " [0.18488035]\n",
      " [0.46911368]\n",
      " [0.37949258]\n",
      " [0.26286003]\n",
      " [0.35188806]\n",
      " [0.1039628 ]\n",
      " [0.25412077]\n",
      " [0.37199166]\n",
      " [0.4312717 ]\n",
      " [0.19511025]\n",
      " [0.18672997]\n",
      " [0.22523199]\n",
      " [0.10970797]\n",
      " [0.32698277]\n",
      " [0.2620607 ]\n",
      " [0.23581862]\n",
      " [0.05815256]\n",
      " [0.35571206]\n",
      " [0.23130977]\n",
      " [0.34853408]\n",
      " [0.16613832]\n",
      " [0.46956933]\n",
      " [0.3235987 ]\n",
      " [0.35614502]\n",
      " [0.16968404]\n",
      " [0.5118878 ]\n",
      " [0.4556265 ]\n",
      " [0.47114998]\n",
      " [0.06060349]\n",
      " [0.4606085 ]\n",
      " [0.45030832]\n",
      " [0.20952201]\n",
      " [0.4096992 ]\n",
      " [0.38737628]\n",
      " [0.3814935 ]\n",
      " [0.45493412]\n",
      " [0.38982007]\n",
      " [0.31587225]\n",
      " [0.49190927]\n",
      " [0.45039216]\n",
      " [0.03918544]\n",
      " [0.3973765 ]\n",
      " [0.46912077]\n",
      " [0.11943   ]\n",
      " [0.34703177]\n",
      " [0.4356141 ]\n",
      " [0.4771255 ]\n",
      " [0.24639834]\n",
      " [0.32751337]\n",
      " [0.40801564]\n",
      " [0.17598043]\n",
      " [0.2148876 ]\n",
      " [0.42161894]\n",
      " [0.20456964]\n",
      " [0.4595021 ]\n",
      " [0.24231614]\n",
      " [0.36157882]\n",
      " [0.45325682]\n",
      " [0.20691371]\n",
      " [0.19197777]\n",
      " [0.20808114]\n",
      " [0.44326264]\n",
      " [0.19508183]\n",
      " [0.20067574]\n",
      " [0.2717814 ]\n",
      " [0.1941479 ]\n",
      " [0.35088414]\n",
      " [0.38996693]\n",
      " [0.47819915]\n",
      " [0.4348974 ]\n",
      " [0.20704186]\n",
      " [0.17705685]\n",
      " [0.158493  ]\n",
      " [0.1490831 ]\n",
      " [0.38141075]\n",
      " [0.47523943]\n",
      " [0.28167704]\n",
      " [0.44213215]\n",
      " [0.45449993]\n",
      " [0.3721673 ]\n",
      " [0.2595154 ]\n",
      " [0.44205493]\n",
      " [0.1110602 ]\n",
      " [0.19199656]\n",
      " [0.38123325]\n",
      " [0.06275782]\n",
      " [0.31257796]\n",
      " [0.37516844]\n",
      " [0.45293754]\n",
      " [0.4816147 ]\n",
      " [0.4905339 ]\n",
      " [0.13548285]\n",
      " [0.27778485]\n",
      " [0.3479553 ]\n",
      " [0.437198  ]\n",
      " [0.20404041]\n",
      " [0.10405288]\n",
      " [0.3443504 ]\n",
      " [0.38403016]\n",
      " [0.4488692 ]\n",
      " [0.35350144]\n",
      " [0.3780038 ]\n",
      " [0.3447742 ]\n",
      " [0.47447395]\n",
      " [0.42165112]\n",
      " [0.3782968 ]\n",
      " [0.51793414]\n",
      " [0.3454521 ]\n",
      " [0.46799356]\n",
      " [0.3079392 ]\n",
      " [0.17608629]\n",
      " [0.44089255]\n",
      " [0.34935975]\n",
      " [0.49596068]\n",
      " [0.49449027]\n",
      " [0.23094647]\n",
      " [0.4162696 ]\n",
      " [0.34711894]\n",
      " [0.46994865]\n",
      " [0.55316854]\n",
      " [0.34682715]\n",
      " [0.2653324 ]\n",
      " [0.4185228 ]\n",
      " [0.5118878 ]\n",
      " [0.1031436 ]\n",
      " [0.467333  ]\n",
      " [0.35622105]\n",
      " [0.14480942]\n",
      " [0.13243733]\n",
      " [0.18509075]\n",
      " [0.35400665]\n",
      " [0.15728986]\n",
      " [0.22688186]\n",
      " [0.35680428]\n",
      " [0.28702495]\n",
      " [0.39574105]\n",
      " [0.4775038 ]\n",
      " [0.35125932]\n",
      " [0.5124532 ]\n",
      " [0.11972032]\n",
      " [0.3702049 ]\n",
      " [0.4173596 ]\n",
      " [0.48193046]\n",
      " [0.3156162 ]\n",
      " [0.20779082]\n",
      " [0.23459974]\n",
      " [0.45080632]\n",
      " [0.25955874]\n",
      " [0.3650558 ]\n",
      " [0.21980566]\n",
      " [0.47699824]\n",
      " [0.04661309]\n",
      " [0.46158558]\n",
      " [0.14195119]\n",
      " [0.44627026]\n",
      " [0.3741085 ]]\n"
     ]
    }
   ],
   "source": [
    "train_pred = model.predict(x_train)\n",
    "data_count, case_count = train_pred.shape\n",
    "print(\"%d개의 훈련 데이터가 %d개의 경우의 수를 갖는다.\" % (data_count, case_count))\n",
    "print(train_pred)"
   ]
  },
  {
   "cell_type": "markdown",
   "metadata": {},
   "source": [
    "### 검증 데이터에 대한 예측 결과 산정"
   ]
  },
  {
   "cell_type": "code",
   "execution_count": 16,
   "metadata": {},
   "outputs": [
    {
     "name": "stdout",
     "output_type": "stream",
     "text": [
      "4/4 [==============================] - 0s 997us/step\n",
      "120개의 검증 데이터가 1개의 경우의 수를 갖는다.\n"
     ]
    }
   ],
   "source": [
    "test_pred = model.predict(x_test)\n",
    "data_count, case_count = test_pred.shape\n",
    "print(\"%d개의 검증 데이터가 %d개의 경우의 수를 갖는다.\" % (data_count, case_count))"
   ]
  },
  {
   "cell_type": "markdown",
   "metadata": {},
   "source": [
    "### 결과 데이터 셋 구성"
   ]
  },
  {
   "cell_type": "code",
   "execution_count": 17,
   "metadata": {},
   "outputs": [
    {
     "data": {
      "text/html": [
       "<div>\n",
       "<style scoped>\n",
       "    .dataframe tbody tr th:only-of-type {\n",
       "        vertical-align: middle;\n",
       "    }\n",
       "\n",
       "    .dataframe tbody tr th {\n",
       "        vertical-align: top;\n",
       "    }\n",
       "\n",
       "    .dataframe thead th {\n",
       "        text-align: right;\n",
       "    }\n",
       "</style>\n",
       "<table border=\"1\" class=\"dataframe\">\n",
       "  <thead>\n",
       "    <tr style=\"text-align: right;\">\n",
       "      <th></th>\n",
       "      <th>결과값</th>\n",
       "      <th>예측치</th>\n",
       "      <th>합격확률(%)</th>\n",
       "    </tr>\n",
       "  </thead>\n",
       "  <tbody>\n",
       "    <tr>\n",
       "      <th>0</th>\n",
       "      <td>1</td>\n",
       "      <td>0.0</td>\n",
       "      <td>41.500000</td>\n",
       "    </tr>\n",
       "    <tr>\n",
       "      <th>1</th>\n",
       "      <td>1</td>\n",
       "      <td>0.0</td>\n",
       "      <td>48.099998</td>\n",
       "    </tr>\n",
       "    <tr>\n",
       "      <th>2</th>\n",
       "      <td>1</td>\n",
       "      <td>0.0</td>\n",
       "      <td>14.200000</td>\n",
       "    </tr>\n",
       "    <tr>\n",
       "      <th>3</th>\n",
       "      <td>0</td>\n",
       "      <td>0.0</td>\n",
       "      <td>20.100000</td>\n",
       "    </tr>\n",
       "    <tr>\n",
       "      <th>4</th>\n",
       "      <td>0</td>\n",
       "      <td>0.0</td>\n",
       "      <td>19.299999</td>\n",
       "    </tr>\n",
       "    <tr>\n",
       "      <th>...</th>\n",
       "      <td>...</td>\n",
       "      <td>...</td>\n",
       "      <td>...</td>\n",
       "    </tr>\n",
       "    <tr>\n",
       "      <th>275</th>\n",
       "      <td>0</td>\n",
       "      <td>0.0</td>\n",
       "      <td>4.700000</td>\n",
       "    </tr>\n",
       "    <tr>\n",
       "      <th>276</th>\n",
       "      <td>0</td>\n",
       "      <td>0.0</td>\n",
       "      <td>46.200001</td>\n",
       "    </tr>\n",
       "    <tr>\n",
       "      <th>277</th>\n",
       "      <td>0</td>\n",
       "      <td>0.0</td>\n",
       "      <td>14.200000</td>\n",
       "    </tr>\n",
       "    <tr>\n",
       "      <th>278</th>\n",
       "      <td>1</td>\n",
       "      <td>0.0</td>\n",
       "      <td>44.599998</td>\n",
       "    </tr>\n",
       "    <tr>\n",
       "      <th>279</th>\n",
       "      <td>0</td>\n",
       "      <td>0.0</td>\n",
       "      <td>37.400002</td>\n",
       "    </tr>\n",
       "  </tbody>\n",
       "</table>\n",
       "<p>280 rows × 3 columns</p>\n",
       "</div>"
      ],
      "text/plain": [
       "    결과값  예측치    합격확률(%)\n",
       "0     1  0.0  41.500000\n",
       "1     1  0.0  48.099998\n",
       "2     1  0.0  14.200000\n",
       "3     0  0.0  20.100000\n",
       "4     0  0.0  19.299999\n",
       "..   ..  ...        ...\n",
       "275   0  0.0   4.700000\n",
       "276   0  0.0  46.200001\n",
       "277   0  0.0  14.200000\n",
       "278   1  0.0  44.599998\n",
       "279   0  0.0  37.400002\n",
       "\n",
       "[280 rows x 3 columns]"
      ]
     },
     "execution_count": 17,
     "metadata": {},
     "output_type": "execute_result"
    }
   ],
   "source": [
    "kdf = DataFrame({\n",
    "    '결과값': y_train['합격여부'].values,\n",
    "    '예측치' : np.round(train_pred.flatten()),\n",
    "    '합격확률(%)': np.round(train_pred.flatten() * 100, 1)\n",
    "})\n",
    "\n",
    "kdf"
   ]
  },
  {
   "cell_type": "markdown",
   "metadata": {},
   "source": [
    "혼동행렬"
   ]
  },
  {
   "cell_type": "code",
   "execution_count": 18,
   "metadata": {},
   "outputs": [
    {
     "name": "stdout",
     "output_type": "stream",
     "text": [
      "186 3 85 6\n"
     ]
    },
    {
     "data": {
      "text/html": [
       "<div>\n",
       "<style scoped>\n",
       "    .dataframe tbody tr th:only-of-type {\n",
       "        vertical-align: middle;\n",
       "    }\n",
       "\n",
       "    .dataframe tbody tr th {\n",
       "        vertical-align: top;\n",
       "    }\n",
       "\n",
       "    .dataframe thead th {\n",
       "        text-align: right;\n",
       "    }\n",
       "</style>\n",
       "<table border=\"1\" class=\"dataframe\">\n",
       "  <thead>\n",
       "    <tr style=\"text-align: right;\">\n",
       "      <th></th>\n",
       "      <th>Negative</th>\n",
       "      <th>Positive</th>\n",
       "    </tr>\n",
       "  </thead>\n",
       "  <tbody>\n",
       "    <tr>\n",
       "      <th>True</th>\n",
       "      <td>186</td>\n",
       "      <td>85</td>\n",
       "    </tr>\n",
       "    <tr>\n",
       "      <th>False</th>\n",
       "      <td>3</td>\n",
       "      <td>6</td>\n",
       "    </tr>\n",
       "  </tbody>\n",
       "</table>\n",
       "</div>"
      ],
      "text/plain": [
       "       Negative  Positive\n",
       "True        186        85\n",
       "False         3         6"
      ]
     },
     "execution_count": 18,
     "metadata": {},
     "output_type": "execute_result"
    }
   ],
   "source": [
    "cm = confusion_matrix(kdf['결과값'], kdf['예측치'])\n",
    "tn, fp, fn, tp = cm.ravel()\n",
    "print(tn, fp, fn, tp)\n",
    "cmdf1 = DataFrame([[tn, fn], [fp, tp]], index=['True', 'False'], columns=['Negative', 'Positive'])\n",
    "cmdf1"
   ]
  },
  {
   "cell_type": "markdown",
   "metadata": {},
   "source": [
    "| | Negative|Positive|\n",
    "|--|--|--|\n",
    "| True | TN | FP |\n",
    "| False | FN | TP |\n",
    "\n",
    "#### 각 항목의 의미\n",
    "\n",
    "| 구분 | 설명 |\n",
    "|--|--|\n",
    "| TN(True Negative, Negative Negative) | 실제는 Negative인데, Negative로 예측함. |\n",
    "| FP(False Positive, Negative Positive) | 실제는 Negative인데, Positive로 예측함. (Type1 Error) |\n",
    "| FN(False Negative, Positive Negative) | 실제는 Positive인데, Negative로 예측함. (Type2 Error) |\n",
    "| TP(True Positive, Positive Positive) | 실제는 Positive인데, Positive로 예측함. |"
   ]
  },
  {
   "cell_type": "code",
   "execution_count": 19,
   "metadata": {},
   "outputs": [
    {
     "data": {
      "image/png": "[encoded data removed]",
      "text/plain": [
       "<Figure size 500x300 with 2 Axes>"
      ]
     },
     "metadata": {},
     "output_type": "display_data"
    }
   ],
   "source": [
    "plt.figure(figsize=(5,3))\n",
    "# 오차 행렬을 히트맵 그래프로 표현\n",
    "# -> annot : 그래프의 각 칸에 수치값 출력\n",
    "# -> fmt : 수치값 출력 format (여기서는 10진수)\n",
    "# -> cmap : 색상맵 (<https://matplotlib.org/3.2.1/tutorials/colors/colormaps.html>)\n",
    "sb.heatmap(cm, annot = True, fmt = 'd',cmap = 'Blues')\n",
    "plt.xticks([0.5, 1.5], ['Negative', 'Positive'])\n",
    "plt.yticks([0.5, 1.5], ['True', 'False'])\n",
    "plt.xlabel('예측값')\n",
    "plt.ylabel('결과값')\n",
    "plt.show()"
   ]
  },
  {
   "cell_type": "markdown",
   "metadata": {},
   "source": [
    "평가지표"
   ]
  },
  {
   "cell_type": "code",
   "execution_count": 20,
   "metadata": {},
   "outputs": [
    {
     "data": {
      "image/png": "[encoded data removed]",
      "text/plain": [
       "<Figure size 640x480 with 1 Axes>"
      ]
     },
     "metadata": {},
     "output_type": "display_data"
    }
   ],
   "source": [
    "ras = roc_auc_score(kdf['결과값'], kdf['예측치'])\n",
    "\n",
    "# 위양성율, 재현율, 임계값(사용안함)\n",
    "fpr, tpr, thresholds = roc_curve(kdf['결과값'], kdf['예측치'])\n",
    "\n",
    "plt.figure()\n",
    "sb.lineplot(x=fpr, y=tpr)\n",
    "sb.lineplot(x=[0,1], y=[0,1], color='red', linestyle=':', alpha=0.5)\n",
    "plt.title('AUC={:.4f}'.format(ras))\n",
    "plt.grid()\n",
    "plt.show()\n",
    "plt.close()"
   ]
  },
  {
   "cell_type": "code",
   "execution_count": 21,
   "metadata": {},
   "outputs": [
    {
     "name": "stdout",
     "output_type": "stream",
     "text": [
      "+--------------------------+-----------+\n",
      "|                          |         0 |\n",
      "|--------------------------+-----------|\n",
      "| 정확도(Accuracy)         |  0.685714 |\n",
      "| 정밀도(Precision)        |  0.666667 |\n",
      "| 재현율(Recall, TPR)      | 0.0659341 |\n",
      "| 위양성율(Fallout, FPR)   |  0.015873 |\n",
      "| 특이성(Specificity, TNR) |  0.984127 |\n",
      "| RAS                      |  0.525031 |\n",
      "| f1_score                 |      0.12 |\n",
      "+--------------------------+-----------+\n"
     ]
    }
   ],
   "source": [
    "# 정확도\n",
    "acc = accuracy_score(kdf['결과값'], kdf['예측치'])\n",
    "\n",
    "# 정밀도\n",
    "pre = precision_score(kdf['결과값'], kdf['예측치'])\n",
    "\n",
    "# 재현율\n",
    "recall = recall_score(kdf['결과값'], kdf['예측치'])\n",
    "\n",
    "# F1 score\n",
    "f1 = f1_score(kdf['결과값'], kdf['예측치'])\n",
    "\n",
    "# 위양성율\n",
    "fallout = fp / (fp + tn)\n",
    "\n",
    "# 특이성\n",
    "spe = 1 - fallout\n",
    "\n",
    "result_df = DataFrame({'정확도(Accuracy)':[acc], '정밀도(Precision)':[pre], '재현율(Recall, TPR)':[recall], '위양성율(Fallout, FPR)': [fallout], '특이성(Specificity, TNR)':[spe], 'RAS': [ras], 'f1_score':[f1]})\n",
    "\n",
    "helper.prettyPrint(result_df.T)"
   ]
  },
  {
   "cell_type": "markdown",
   "metadata": {},
   "source": [
    "### 분류 보고서\n",
    "\n",
    "- precision : 정밀도 (분류기가 참으로 분류한 항목 중에서 실제 데이터가 참인 비율)\n",
    "- recall : 재현율 (실제 참 중에서 분류기가 참으로 분류한 비율)\n",
    "- f1-score : 2*(Recall * Precision) / (Recall + Precision)\n",
    "    - Precision과 Recall의 조화평균\n",
    "    - 주로 분류 클래스 간 데이터가 심각한 불균형을 이루는 경우에 사용\n",
    "    - 정확도의 경우, 클래스가 데이터 분류가 균일하지 못하면 머신의 성능을 제대로 나타내줄 수 없기 때문에 F1을 사용한다.\n",
    "- support : 전체 데이터 수"
   ]
  },
  {
   "cell_type": "code",
   "execution_count": 22,
   "metadata": {},
   "outputs": [
    {
     "name": "stdout",
     "output_type": "stream",
     "text": [
      "              precision    recall  f1-score   support\n",
      "\n",
      "           0       0.69      0.98      0.81       189\n",
      "           1       0.67      0.07      0.12        91\n",
      "\n",
      "    accuracy                           0.69       280\n",
      "   macro avg       0.68      0.53      0.46       280\n",
      "weighted avg       0.68      0.69      0.58       280\n",
      "\n"
     ]
    }
   ],
   "source": [
    "report = classification_report(kdf['결과값'], kdf['예측치'])\n",
    "print(report)"
   ]
  }
 ],
 "metadata": {
  "kernelspec": {
   "display_name": "Python 3",
   "language": "python",
   "name": "python3"
  },
  "language_info": {
   "codemirror_mode": {
    "name": "ipython",
    "version": 3
   },
   "file_extension": ".py",
   "mimetype": "text/x-python",
   "name": "python",
   "nbconvert_exporter": "python",
   "pygments_lexer": "ipython3",
   "version": "3.9.13"
  }
 },
 "nbformat": 4,
 "nbformat_minor": 4
}
