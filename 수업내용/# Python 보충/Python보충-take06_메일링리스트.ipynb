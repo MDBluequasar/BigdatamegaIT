{
 "cells": [
  {
   "cell_type": "code",
   "execution_count": 20,
   "metadata": {},
   "outputs": [],
   "source": [
    "import Sendmail\n",
    "import datetime as dt"
   ]
  },
  {
   "attachments": {},
   "cell_type": "markdown",
   "metadata": {},
   "source": [
    "날짜 성분값 초기화"
   ]
  },
  {
   "cell_type": "code",
   "execution_count": 21,
   "metadata": {},
   "outputs": [
    {
     "name": "stdout",
     "output_type": "stream",
     "text": [
      "2023 6 27\n"
     ]
    }
   ],
   "source": [
    "today = dt.datetime.now()\n",
    "year = today.year\n",
    "month = today.month\n",
    "day = today.day\n",
    "print(year, month, day)"
   ]
  },
  {
   "attachments": {},
   "cell_type": "markdown",
   "metadata": {},
   "source": [
    "보내는 사람, 메일 제목"
   ]
  },
  {
   "cell_type": "code",
   "execution_count": 27,
   "metadata": {},
   "outputs": [],
   "source": [
    "# 메일 발신자 정보\n",
    "fromAddr = \"dlghkswls112@naver.com\"\n",
    "\n",
    "# 메일 제목을 위한 템플릿\n",
    "subjectTmpl = \"{name}님의 {yy}년 {mm}월 연구비명세서 입니다.\""
   ]
  },
  {
   "attachments": {},
   "cell_type": "markdown",
   "metadata": {},
   "source": [
    "메일 본문 가져오기"
   ]
  },
  {
   "cell_type": "code",
   "execution_count": 28,
   "metadata": {},
   "outputs": [
    {
     "name": "stdout",
     "output_type": "stream",
     "text": [
      "안녕하세요 {name}님\n",
      "\n",
      "{yy}년도 {mm}월 급여명세서와 결산보고서 보내드립니다.\n",
      "\n",
      "귀하의 노고에 감사드립니다.\n",
      "\n",
      "- {yy}년 {mm}월 {dd}일 / 운영지원팀 드림\n"
     ]
    }
   ],
   "source": [
    "with open('mail/content.txt', 'r', encoding = 'utf-8') as f:\n",
    "    contentTmpl = f.read()\n",
    "    print(contentTmpl)"
   ]
  },
  {
   "attachments": {},
   "cell_type": "markdown",
   "metadata": {},
   "source": [
    "수신자 목록에 대한 CSV 파일에 대한 반복 수행"
   ]
  },
  {
   "cell_type": "code",
   "execution_count": 29,
   "metadata": {},
   "outputs": [
    {
     "name": "stdout",
     "output_type": "stream",
     "text": [
      "dlghkswls112@naver.com님에게 메일이 발송되었습니다.\n",
      "dlghkswls112@naver.com님에게 메일이 발송되었습니다.\n",
      "dlghkswls112@naver.com님에게 메일이 발송되었습니다.\n",
      "dlghkswls112@naver.com님에게 메일이 발송되었습니다.\n",
      "dlghkswls112@naver.com님에게 메일이 발송되었습니다.\n"
     ]
    }
   ],
   "source": [
    "with open('mail/mail_list.csv', 'r', encoding = 'euc-kr') as f:\n",
    "    csv = f.readlines()\n",
    "    # print(csv)\n",
    "\n",
    "    # CSV 파일의 라인 수 만큼 반복\n",
    "    for line in csv:\n",
    "        # print(line)\n",
    "        \n",
    "        name, email, file1, file2 = line.strip().split(',')\n",
    "        # print(name, email, file1, file2)\n",
    "        \n",
    "        # 받는 사람 주소\n",
    "        toAddr = '{name}<{email}>'.format(name=name, email=email)\n",
    "        \n",
    "        # 메일 제목\n",
    "        subject = subjectTmpl.format(name=name, yy=year, mm=month)\n",
    "        # print(subject)\n",
    "\n",
    "        # 메일 내용\n",
    "        content = contentTmpl.format(name=name, yy=year, mm=month, dd=day)\n",
    "        # print(content)\n",
    "\n",
    "        Sendmail.sendMail(fromAddr, toAddr, subject, content, [file1, file2])\n",
    "        print(\"%s님에게 메일이 발송되었습니다.\" % email)"
   ]
  }
 ],
 "metadata": {
  "kernelspec": {
   "display_name": "Python 3",
   "language": "python",
   "name": "python3"
  },
  "language_info": {
   "codemirror_mode": {
    "name": "ipython",
    "version": 3
   },
   "file_extension": ".py",
   "mimetype": "text/x-python",
   "name": "python",
   "nbconvert_exporter": "python",
   "pygments_lexer": "ipython3",
   "version": "3.11.3"
  },
  "orig_nbformat": 4
 },
 "nbformat": 4,
 "nbformat_minor": 2
}
