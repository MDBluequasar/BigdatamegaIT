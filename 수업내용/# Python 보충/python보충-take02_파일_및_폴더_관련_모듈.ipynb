{
 "cells": [
  {
   "attachments": {},
   "cell_type": "markdown",
   "metadata": {},
   "source": [
    "# 01. 파일 및 폴더 관련 모듈 활용\n",
    "    모듈 참조하기"
   ]
  },
  {
   "cell_type": "code",
   "execution_count": 1,
   "metadata": {},
   "outputs": [],
   "source": [
    "# 모듈 참조\n",
    "import sys # 현재 시스템의 정보를 제공하는 모듈\n",
    "import os #  운영체제의 기능에 접근할 수 있는 모듈"
   ]
  },
  {
   "attachments": {},
   "cell_type": "markdown",
   "metadata": {},
   "source": [
    "    현재 운영체제 이름 조회"
   ]
  },
  {
   "cell_type": "code",
   "execution_count": 2,
   "metadata": {},
   "outputs": [
    {
     "name": "stdout",
     "output_type": "stream",
     "text": [
      "win32\n"
     ]
    }
   ],
   "source": [
    "print(sys.platform)"
   ]
  },
  {
   "attachments": {},
   "cell_type": "markdown",
   "metadata": {},
   "source": [
    "    경로 문자열 관련 기능"
   ]
  },
  {
   "cell_type": "code",
   "execution_count": 3,
   "metadata": {},
   "outputs": [
    {
     "name": "stdout",
     "output_type": "stream",
     "text": [
      "['python_연구과제01.ipynb', 'Python_연구과제_풀이(1).pdf', 'Python_연구과제_풀이(2).ipynb.pdf', 'Python_연구과제{123qwe!@#}.pdf', 'python보충-take01.ipynb', 'Python보충-take01.ipynb.pdf', 'python보충-take02.ipynb', 'Python보충-take02_파일_및_폴더_관련_모듈.pdf']\n"
     ]
    }
   ],
   "source": [
    "# 현재 폴더 내의 하위 항목들의 이름을 리스트로 리턴받음\n",
    "#  \"./\"  혹은 \".\"  = 현재 폴더라는 의미\n",
    "# \". ./\" 는 상위 폴더라는 의미\n",
    "ls = os.listdir('./')\n",
    "print(ls)"
   ]
  },
  {
   "cell_type": "code",
   "execution_count": 4,
   "metadata": {},
   "outputs": [
    {
     "name": "stdout",
     "output_type": "stream",
     "text": [
      "False\n"
     ]
    }
   ],
   "source": [
    "#  특정 폴더나 파일이 존재하는지 확인 -> 상대경로일 경우 현재 소스파일 기준\n",
    "k = os.path.exists('./hello')\n",
    "print(k)"
   ]
  },
  {
   "cell_type": "code",
   "execution_count": 5,
   "metadata": {},
   "outputs": [
    {
     "name": "stdout",
     "output_type": "stream",
     "text": [
      "c:\\Users\\User\\Desktop\\궁둥박사\\BigdatamegaIT\\수업내용\\# Python 보충\\hello\n"
     ]
    }
   ],
   "source": [
    "# 절대 경로 확인 -> 존재하지 않더라도 경로값은 확인 가능.\n",
    "print(os.path.abspath('./hello'))"
   ]
  },
  {
   "attachments": {},
   "cell_type": "markdown",
   "metadata": {},
   "source": [
    "    폴더의 생성과 삭제"
   ]
  },
  {
   "cell_type": "code",
   "execution_count": 9,
   "metadata": {},
   "outputs": [
    {
     "name": "stdout",
     "output_type": "stream",
     "text": [
      "hello 폴더를 삭제했습니다.\n"
     ]
    }
   ],
   "source": [
    "if os.path.exists('./hello') == False: # hello 파일이 없다면 True\n",
    "    # 없다면 생성\n",
    "    os.mkdir('./hello') # mkdir() 는 폴더를 생성하는 내장 함수\n",
    "    print('hello 폴더를 생성했습니다.')\n",
    "else:\n",
    "    # 있다면 삭제 => 빈 폴더만 삭제 가능\n",
    "    os.rmdir('./hello') # rmdir 폴더를 삭제하는 내장함수\n",
    "    print('hello 폴더를 삭제했습니다.') "
   ]
  },
  {
   "attachments": {},
   "cell_type": "markdown",
   "metadata": {},
   "source": [
    "    파일이나 폴더 검새"
   ]
  },
  {
   "cell_type": "code",
   "execution_count": 10,
   "metadata": {},
   "outputs": [],
   "source": [
    "# 모듈 참조하기\n",
    "import glob as gl"
   ]
  },
  {
   "cell_type": "code",
   "execution_count": 11,
   "metadata": {},
   "outputs": [
    {
     "name": "stdout",
     "output_type": "stream",
     "text": [
      "['python_연구과제01.ipynb', 'Python_연구과제_풀이(1).pdf', 'Python_연구과제_풀이(2).ipynb.pdf', 'Python_연구과제{123qwe!@#}.pdf', 'python보충-take01.ipynb', 'Python보충-take01.ipynb.pdf', 'python보충-take02.ipynb', 'Python보충-take02_파일_및_폴더_관련_모듈.pdf']\n"
     ]
    }
   ],
   "source": [
    "# 현재 폴더의 모든 하위 요소들 조회\n",
    "ls = gl.glob('*') # *는 all 을 의미\n",
    "print(ls)"
   ]
  },
  {
   "cell_type": "code",
   "execution_count": 13,
   "metadata": {},
   "outputs": [
    {
     "name": "stdout",
     "output_type": "stream",
     "text": [
      "['python_연구과제01.ipynb', 'python보충-take01.ipynb', 'python보충-take02.ipynb']\n"
     ]
    }
   ],
   "source": [
    "# 현재 폴더에서 '.ipynb' 로 끝나는 모든 요소들 조회\n",
    "ls = gl.glob('*.ipynb')\n",
    "print(ls)"
   ]
  },
  {
   "cell_type": "code",
   "execution_count": 14,
   "metadata": {},
   "outputs": [
    {
     "name": "stdout",
     "output_type": "stream",
     "text": [
      "['Python_연구과제_풀이(2).ipynb.pdf', 'Python_연구과제{123qwe!@#}.pdf', 'python보충-take02.ipynb', 'Python보충-take02_파일_및_폴더_관련_모듈.pdf']\n"
     ]
    }
   ],
   "source": [
    "# 현재 폴더에서 '2' 를 포함하는 파일 조회\n",
    "ls = gl.glob('*2*')\n",
    "print(ls)"
   ]
  },
  {
   "attachments": {},
   "cell_type": "markdown",
   "metadata": {},
   "source": [
    "폴더 트리 생성 및 삭제"
   ]
  },
  {
   "cell_type": "code",
   "execution_count": 16,
   "metadata": {},
   "outputs": [
    {
     "name": "stdout",
     "output_type": "stream",
     "text": [
      "python 폴더가 삭제되었습니다.\n"
     ]
    }
   ],
   "source": [
    "import shutil  # 파일, 폴더 관련 작업에 환장된 기능을 제공\n",
    "\n",
    "# 현재 작업 위치에서 'python' 이라는 이름의 폴더가 없다면?\n",
    "if os.path.exists('python') == False:\n",
    "    # 순환적으로 폴더를 생성함 -> exist_ok = True 옵션은 이미 존재하더라고 에러 발생 안함\n",
    "    os.makedirs('python/test/hello/world', exist_ok =True)\n",
    "    print('python 폴더와 하위 폴더들을 생성 했습니다.')\n",
    "\n",
    "# 폴더가 있다면\n",
    "else:\n",
    "    # 비어있지 않은 폴더도 강제 삭제 -> 존재하지 않는 폴더인 경우 에러\n",
    "    shutil.rmtree('python') # 강제 삭제 명령\n",
    "    print('python 폴더가 삭제되었습니다.')"
   ]
  },
  {
   "attachments": {},
   "cell_type": "markdown",
   "metadata": {},
   "source": [
    "    폴더의 이동과 폴더 트리 복사"
   ]
  },
  {
   "cell_type": "code",
   "execution_count": 17,
   "metadata": {},
   "outputs": [],
   "source": [
    "# 폴더의 이동\n",
    "if os.path.exists('python'):\n",
    "    shutil.move('python', '../created')\n",
    "    print('python 폴더가 ../created 폴더로 이동 되었습니다.')"
   ]
  },
  {
   "cell_type": "code",
   "execution_count": 18,
   "metadata": {},
   "outputs": [],
   "source": [
    "# 폴더의 복사\n",
    "if os.path.exists('../created'):\n",
    "    shutil.move('../created', './copy')\n",
    "    print('python 폴더가 ccopy로 복사되었습니다')"
   ]
  },
  {
   "attachments": {},
   "cell_type": "markdown",
   "metadata": {},
   "source": [
    "    파일의 복사 및 삭제 작업"
   ]
  },
  {
   "cell_type": "code",
   "execution_count": 20,
   "metadata": {},
   "outputs": [
    {
     "name": "stdout",
     "output_type": "stream",
     "text": [
      "hello.txt 가 삭제되었습니다.\n",
      "world.txt가 삭제되었습니다.\n"
     ]
    }
   ],
   "source": [
    "# os 모듈 내의 path 객체가 갖는 exists() 함수를 사용.\n",
    "# 'hello.txt' 라는 파일이 존재하지 않는다면?\n",
    "if os.path.exists('hello.txt') == False:\n",
    "    # 텍스트 파일생성\n",
    "    with open('hello.txt', 'w', encoding = 'utf-8') as f:\n",
    "        f.write('Life is too short, you need python')\n",
    "        print('hello.txt 파일을 생성했습니다.')\n",
    "    \n",
    "    # 생성한 파일을 복사함 => 이미 존재할 경우 덮어씀\n",
    "    shutil.copy('hello.txt', 'world.txt')\n",
    "    print('hello.txt가 world.txt로 복사 되었습니다.')\n",
    "\n",
    "# 텍스트 파일이 존재한다면?\n",
    "else:\n",
    "    os.remove('hello.txt')\n",
    "    print('hello.txt 가 삭제되었습니다.')\n",
    "\n",
    "    os.remove('world.txt')\n",
    "    print('world.txt가 삭제되었습니다.')"
   ]
  }
 ],
 "metadata": {
  "kernelspec": {
   "display_name": "Python 3",
   "language": "python",
   "name": "python3"
  },
  "language_info": {
   "codemirror_mode": {
    "name": "ipython",
    "version": 3
   },
   "file_extension": ".py",
   "mimetype": "text/x-python",
   "name": "python",
   "nbconvert_exporter": "python",
   "pygments_lexer": "ipython3",
   "version": "3.11.4"
  },
  "orig_nbformat": 4
 },
 "nbformat": 4,
 "nbformat_minor": 2
}
