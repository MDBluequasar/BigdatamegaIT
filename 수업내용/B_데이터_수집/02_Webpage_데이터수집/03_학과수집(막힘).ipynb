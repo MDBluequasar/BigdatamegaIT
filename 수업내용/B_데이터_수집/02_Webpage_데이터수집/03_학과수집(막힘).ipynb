{
 "cells": [
  {
   "attachments": {},
   "cell_type": "markdown",
   "metadata": {},
   "source": [
    "숙명여대 학과정보 수집"
   ]
  },
  {
   "cell_type": "code",
   "execution_count": 13,
   "metadata": {},
   "outputs": [],
   "source": [
    "# 필요한 모듈 참조 \n",
    "import requests\n",
    "from bs4 import BeautifulSoup \n",
    "from pandas import DataFrame"
   ]
  },
  {
   "cell_type": "code",
   "execution_count": 14,
   "metadata": {},
   "outputs": [],
   "source": [
    "# 수집할 컨텐츠가 있는 웹 페이지의 주소\n",
    "url = \"https://www.sookmyung.ac.kr/sookmyungkr/1011/subview.do\""
   ]
  },
  {
   "cell_type": "code",
   "execution_count": null,
   "metadata": {},
   "outputs": [],
   "source": [
    "# 대학번호 리스트 정의 --> URL을 분석해서 얻은 값\n",
    "clist = [1011,1023,1030,1041,1046,1052,1054,1057,1062,1064,1070,1073,1076]"
   ]
  },
  {
   "cell_type": "code",
   "execution_count": null,
   "metadata": {},
   "outputs": [],
   "source": [
    "# 접속객체 생성\n",
    "session = requests.Session()\n",
    "\n",
    "# 접속객체에 부가정보(header) 삽입하기 \n",
    "session.headers.update({\n",
    "\"Referer\": \"\",\n",
    "\"UserAgent\" : \"Mozilla/5.0 (Windows NT 10.0; Win64; x64) AppleWebKit/537.36 (KHTML, like Gecko) Chrome/114.0.0.0 Safari/537.36\",\n",
    "})\n",
    "\n",
    "# 생성한 접속객체를 활용하여 API에 접속 \n",
    "r = session.get(url)\n",
    "\n",
    "# 접속에 실패한 경우\n",
    "if r.status_code != 200:\n",
    "    # 에러코드와 에러메시지 출력\n",
    "    msg = \"[%d Error] %s 에러가 발생함\" % (r.status_code, r.reason)\n",
    "    # 에러를 강제로 생성시킴\n",
    "    raise Exception(msg)\n",
    "\n",
    "# 인코딩 형식을 지정하여 beautifulsoup 객체 생성\n",
    "r.encoding = \"utf-8\"\n",
    "# print(r.text)\n",
    "soup = BeautifulSoup(r.text)\n",
    "soup\n"
   ]
  },
  {
   "attachments": {},
   "cell_type": "markdown",
   "metadata": {},
   "source": [
    "응답결과로부터  데이터  추출하기"
   ]
  },
  {
   "cell_type": "code",
   "execution_count": 21,
   "metadata": {},
   "outputs": [
    {
     "ename": "NameError",
     "evalue": "name 'view' is not defined",
     "output_type": "error",
     "traceback": [
      "\u001b[1;31m---------------------------------------------------------------------------\u001b[0m",
      "\u001b[1;31mNameError\u001b[0m                                 Traceback (most recent call last)",
      "Cell \u001b[1;32mIn[21], line 48\u001b[0m\n\u001b[0;32m     41\u001b[0m     college_dict \u001b[39m=\u001b[39m {\u001b[39m\"\u001b[39m\u001b[39m학과이름\u001b[39m\u001b[39m\"\u001b[39m: name, \u001b[39m\"\u001b[39m\u001b[39m상세페이지\u001b[39m\u001b[39m\"\u001b[39m: view, \u001b[39m\"\u001b[39m\u001b[39m홈페이지\u001b[39m\u001b[39m\"\u001b[39m: homepage} \n\u001b[0;32m     45\u001b[0m \u001b[39m#ㅡㅡㅡㅡㅡㅡㅡㅡㅡㅡㅡㅡㅡㅡㅡㅡㅡㅡㅡㅡㅡㅡㅡㅡㅡㅡㅡㅡㅡㅡㅡㅡㅡㅡㅡㅡㅡㅡㅡㅡㅡㅡㅡㅡ\u001b[39;00m\n\u001b[0;32m     46\u001b[0m \u001b[39m# 상세보기 URL를 새롭게 수집\u001b[39;00m\n\u001b[0;32m     47\u001b[0m \u001b[39m# -------------------------------------------------------------------------------------\u001b[39;00m\n\u001b[1;32m---> 48\u001b[0m r \u001b[39m=\u001b[39m session\u001b[39m.\u001b[39mget(view) \n\u001b[0;32m     50\u001b[0m \u001b[39mif\u001b[39;00m r\u001b[39m.\u001b[39mstatus_code \u001b[39m!=\u001b[39m \u001b[39m200\u001b[39m:\n\u001b[0;32m     51\u001b[0m     \u001b[39m# 에러코드와 에러메시지 출력\u001b[39;00m\n\u001b[0;32m     52\u001b[0m     msg \u001b[39m=\u001b[39m \u001b[39m\"\u001b[39m\u001b[39m[\u001b[39m\u001b[39m%d\u001b[39;00m\u001b[39m Error] \u001b[39m\u001b[39m%s\u001b[39;00m\u001b[39m 에러가 발생함\u001b[39m\u001b[39m\"\u001b[39m \u001b[39m%\u001b[39m (r\u001b[39m.\u001b[39mstatus_code, r\u001b[39m.\u001b[39mreason)\n",
      "\u001b[1;31mNameError\u001b[0m: name 'view' is not defined"
     ]
    }
   ],
   "source": [
    "# 수집한    정보를    저장할    빈    리스트 \n",
    "학과목록_리스트 = []\n",
    "college_list = soup.select(\".college_list\") \n",
    "# print(college_list)\n",
    "for item in college_list: \n",
    "    # print(item)\n",
    "    # print(\"-\" * 50) \n",
    "    \n",
    "    # 학과이름\n",
    "    h5El = item.select(\"h5\") \n",
    "    name = h5El[0].text.strip() \n",
    "    # print(name)\n",
    "    # print(\"-\" * 50)\n",
    "\n",
    "    # 상세보기 URL\n",
    "    # 가져온 페이지 주소의 예) /sookmyungkr/1012/subview.do\n",
    "    # 같은 사이트 안에서 이동할 때는 앞부분 \"https://www.sookmyung.ac.kr\"을 생략 가능하지만\n",
    "    # 외부에서 직접 접근할 때는 반드시 전체 주소가 필요함.\n",
    "    # 가져온 값이 전체주소가 아니므로 검사하여 누락된 부분을 덧붙여야 한다. \n",
    "    viewEl = item.select(\".view\")\n",
    "    view = viewEl[0].attrs['href']\n",
    "\n",
    "    if view.find(\"https://www.sookmyung.ac.kr\") == -1:\n",
    "        view = \"https://www.sookmyung.ac.kr\" + view\n",
    "    # print(view)\n",
    "    # print(\"-\" * 50)\n",
    "\n",
    "    # 학과소개 pdf\n",
    "    pdfEl = item.select(\".info\") \n",
    "    pdf = pdfEl[0].attrs['href'] \n",
    "    #print(info)\n",
    "    #print(\"-\" * 50)\n",
    "\n",
    "    # 학과홈페이지\n",
    "    homepageEl = item.select(\".homepage\") \n",
    "    homepage = homepageEl[0].attrs['href'] \n",
    "    #print(homepage)\n",
    "    #print(\"-\" * 50)    \n",
    "\n",
    "    # 수집한 값들을 딕셔너리로 묶은 후 리스트에 추가\n",
    "    college_dict = {\"학과이름\": name, \"상세페이지\": view, \"홈페이지\": homepage} \n",
    "    \n",
    "\n",
    "\n",
    "#ㅡㅡㅡㅡㅡㅡㅡㅡㅡㅡㅡㅡㅡㅡㅡㅡㅡㅡㅡㅡㅡㅡㅡㅡㅡㅡㅡㅡㅡㅡㅡㅡㅡㅡㅡㅡㅡㅡㅡㅡㅡㅡㅡㅡ\n",
    "# 상세보기 URL를 새롭게 수집\n",
    "# -------------------------------------------------------------------------------------\n",
    "r = session.get(view) \n",
    "\n",
    "if r.status_code != 200:\n",
    "    # 에러코드와 에러메시지 출력\n",
    "    msg = \"[%d Error] %s 에러가 발생함\" % (r.status_code, r.reason)\n",
    "    print(msg)\n",
    "    continue\n",
    "\n",
    "r.encoding = \"utf-8\"\n",
    "detailSoup = BeautifulSoup(r.text) \n",
    "#print(detailSoup)\n",
    "\n",
    "# 같은 구조를 갖는 전화번호, 팩스번호, 위치, 이메일주소를 가져온다. \n",
    "infoEl = detailSoup.select(\".college_info_data dl\")\n",
    "#print(infoEl)\n",
    "#print(\"-\" * 50) \n",
    "\n",
    "for info in infoEl:\n",
    "    #print(info)\n",
    "    dt = info.select(\"dt\")[0].text.replace(\":\", \"\").strip() \n",
    "    dd = info.select(\"dd\")[0].text.replace(\":\", \"\").strip() \n",
    "    #print(dt, dd)\n",
    "    #print(\"-\" * 50) \n",
    "    college_dict[dt] = dd\n",
    "#ㅡㅡㅡㅡㅡㅡㅡㅡㅡㅡㅡㅡㅡㅡㅡㅡㅡㅡㅡㅡㅡㅡㅡㅡㅡㅡㅡㅡㅡㅡㅡㅡㅡㅡㅡㅡㅡㅡㅡㅡㅡㅡㅡㅡ\n",
    "# 상세보기 URL를 새롭게 수집 (끝)\n",
    "# -------------------------------------------------------------------------------------\n",
    "    \n",
    "    학과목록_리스트.append(college_dict)\n",
    "    \n",
    "    # pdf파일 다운로드 -> URL을 저장하고 있는 변수는 pdf \n",
    "    r = session.get(pdf, stream=True)\n",
    "    if r.status_code != 200:\n",
    "        r.encoding = \"utf-8\"\n",
    "        with open(\"%s.pdf\" % name , 'wb') as f: \n",
    "            f.write(r.raw.read())\n",
    "\n",
    "\n",
    "\n",
    "df = DataFrame(학과목록_리스트) \n",
    "df.to_excel(\"result.xlsx\") \n",
    "df"
   ]
  }
 ],
 "metadata": {
  "kernelspec": {
   "display_name": "Python 3",
   "language": "python",
   "name": "python3"
  },
  "language_info": {
   "codemirror_mode": {
    "name": "ipython",
    "version": 3
   },
   "file_extension": ".py",
   "mimetype": "text/x-python",
   "name": "python",
   "nbconvert_exporter": "python",
   "pygments_lexer": "ipython3",
   "version": "3.11.3"
  },
  "orig_nbformat": 4
 },
 "nbformat": 4,
 "nbformat_minor": 2
}
