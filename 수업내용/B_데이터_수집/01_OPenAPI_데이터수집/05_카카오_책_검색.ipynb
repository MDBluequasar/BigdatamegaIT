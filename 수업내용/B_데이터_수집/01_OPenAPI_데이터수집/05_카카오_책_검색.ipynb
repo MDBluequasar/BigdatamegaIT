{
 "cells": [
  {
   "cell_type": "code",
   "execution_count": 1,
   "metadata": {},
   "outputs": [],
   "source": [
    "# 필요한 모듈 참조\n",
    "import requests\n",
    "import json\n",
    "from pandas import DataFrame"
   ]
  },
  {
   "cell_type": "code",
   "execution_count": 2,
   "metadata": {},
   "outputs": [],
   "source": [
    "# 접속할 URL\n",
    "urlFmt = \"https://dapi.kakao.com/v3/search/book?query={query}&page={page}&size={size}\""
   ]
  },
  {
   "cell_type": "code",
   "execution_count": 27,
   "metadata": {},
   "outputs": [],
   "source": [
    "# 요청변수\n",
    "query = \"천문학\"\n",
    "page = 1\n",
    "size = 50\n",
    "key = 'fd1366a5d56dcf9a1c6731c739b98073'"
   ]
  },
  {
   "cell_type": "code",
   "execution_count": 28,
   "metadata": {},
   "outputs": [],
   "source": [
    "# 접속 객체 생성\n",
    "session = requests.Session()\n",
    "\n",
    "# 접속객체에 부가정보(header) 삽입하기\n",
    "session.headers.update({\n",
    "    \"Authorization\": \"KakaoAK %s\" % key  #인증기 삽입 다음 카카오 개발자에서 발급 가능 REST API key\n",
    "})"
   ]
  },
  {
   "cell_type": "code",
   "execution_count": 30,
   "metadata": {},
   "outputs": [],
   "source": [
    "# 접속할 URL\n",
    "url = urlFmt.format(query=query, page=page, size=size)\n",
    "url\n",
    "\n",
    "# 생성한 접속객체를 활용하여 API에 접속\n",
    "r = session.get(url)\n",
    "\n",
    "# 접속에 실패한 경우\n",
    "if r.status_code != 200:\n",
    "    # 에러코드와 에러 메세지 출력\n",
    "    msg = \"[%d Error] %s 에어가 발생함\" % (r.status_code, r.reason)\n",
    "    # 에러를 강제로 생성시킴\n",
    "    raise Exception(msg)\n"
   ]
  },
  {
   "cell_type": "code",
   "execution_count": null,
   "metadata": {},
   "outputs": [],
   "source": [
    "# 인코딩 형식 지정\n",
    "r.encoding = 'utf-8'\n",
    "# 가져온 문자열을 딕셔너리로 변환\n",
    "data = json.loads(r.text)\n",
    "data"
   ]
  },
  {
   "cell_type": "code",
   "execution_count": null,
   "metadata": {},
   "outputs": [],
   "source": [
    "# 결과 엑셀 저장 및 출력\n",
    "df = DataFrame(data['documents'])\n",
    "df.to_excel('카카오 책검색 결과(%s).xlsx' % query)\n",
    "df"
   ]
  }
 ],
 "metadata": {
  "kernelspec": {
   "display_name": "Python 3",
   "language": "python",
   "name": "python3"
  },
  "language_info": {
   "codemirror_mode": {
    "name": "ipython",
    "version": 3
   },
   "file_extension": ".py",
   "mimetype": "text/x-python",
   "name": "python",
   "nbconvert_exporter": "python",
   "pygments_lexer": "ipython3",
   "version": "3.11.4"
  },
  "orig_nbformat": 4
 },
 "nbformat": 4,
 "nbformat_minor": 2
}
