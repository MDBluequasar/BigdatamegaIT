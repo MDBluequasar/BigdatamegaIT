{
 "cells": [
  {
   "attachments": {},
   "cell_type": "markdown",
   "metadata": {},
   "source": [
    "파파고 번역기\n",
    "\n",
    "# 01. 필요한 모듈 참조"
   ]
  },
  {
   "cell_type": "code",
   "execution_count": 3,
   "metadata": {},
   "outputs": [],
   "source": [
    "import chromedriver_autoinstaller\n",
    "from selenium import webdriver\n",
    "from selenium.webdriver.common.by import By\n",
    "from selenium.webdriver.support.ui import WebDriverWait\n",
    "from bs4 import BeautifulSoup\n",
    "from pandas import DataFrame \n",
    "import time\n",
    "import datetime as dt"
   ]
  },
  {
   "attachments": {},
   "cell_type": "markdown",
   "metadata": {},
   "source": [
    "# 02. 번역할 파일 가져오기\n",
    "번역할 문장이 행당위로 입력되어 있는 영문 텍스트 파일이 필요함."
   ]
  },
  {
   "cell_type": "code",
   "execution_count": 4,
   "metadata": {},
   "outputs": [
    {
     "data": {
      "text/plain": [
       "['Biofilm formation of microorganisms increases resistance to common antibiotics and antifungal agents. Therefore, the inhibition of biofilm depends on the effective treatment of microbial infections, including C.albicans, for the treat duration and economic efficiency of patients. Nano-particle and essential oil are well known for their antifungal subsistence. In addition, physical therapy using ultrasound is also provided to remove biofilm. The purpose of this study is how to suppress efficient biofilm by measuring the biological activity of C.albicans and the synergy effect using antifungal substances, nanoparticles, and HIFU. Cell viability was quantified and evaluated using XTT reduction assay. AuNPs and AgNPs were used to measure the effect of nanoparticles. hinokitiol and thymol were used to measure the effect of essential oil. HIFU was used as an ultrasound to measure the synergy effect of each substance. Mature biofilm was cultured for 24 hours and mature biofilm was cultured for 48 hours to treat with nanoparticle, antifungal substance, and HIFU, and the formation of biofilm was found to increase resistance to antifungal effects. The combination of Antifungal and Nanoparticles with HIFU has been shown to be the most effective way to suppress biofilm. The combined treatment effect was confirmed by SEM. In conclusion, the combination of antifungal and nanoparticles with HIFU indicates that it has the potential and efficiency of treatment.\\n',\n",
       " 'C. albicans belonging to the normal flora is a harmless microorganism [1]. However, microbiological changes and weakening of the immune response lead to C. albicans in-fection, which is the cause of C. albicans disease [2]. C. albicans infection occurs in an indwelling medical device, such as a catether, leading to a bloodstream infection. Alt-hough C. albicans is a harmless microorganism, it forms biofilms and belongs to one of the fungus causing infections [3]. A biofilm is a group of adherent cells surrounded by an extracellular polymeric substance matrix (EPS) [4]. EPS is a survival device for microor-ganisms to protect themselves from the outside in difficult environments [5]. Therefore, biofilm helps to have high resistance to antifungal substance effect [6]. In conclusion, we suggest the importance of novel therapies other than antifungal substances such as flu-conazole or amphotericin B [7].\\n',\n",
       " 'The antifungal effect of nanoparticles [8], peptides [9], and essential [10], corre-sponding to various types of chemical substances, and ultrasound [11], corresponding to physical shock therapy, were studied. Nanoparticles are currently being studied as one of the materials for antifungal effect. AuNPs and AgNPs have been widely studied as antifungal substances among nanoparticles [12,13]. A recent study of nanoparticles on C. albicans revealed that the effect of nanoparticles induces microstructural changes in cells and biofilms [14,15].\\n',\n",
       " ' Essential oil is emerging as a new subtance of Antifungal. Essential oil is aromatic oily liquids extracted from plant materials [16]. Essential oil, known as a powerful anti-bacterial and antifungal substance, has been reported to have many effects [16]. Lami-aceae and Cupressaceae, which contain essential oil, are among the important plants [17]. In the Cupressaceae family, hinokitiol is well known as a representative tropolne [18]. Derived from the Lamiaceae family, thymol is a monoterpenoid compound [19]. As es-sential oils for biological activities, hinokitiol and thymol are well known.\\n',\n",
       " ' In addition to chemical treatment methods, physical treatment methods may be used to remove biofilm. Biofilm-linked infections that share high resistance to non-invasive treatments such as antifungal substances require physical therapy [20]. Ul-trasound has been used as a physical therapy for many years as a method to remove biofilms without damaging human cells [20]. High intensity focused ultrasound (HIFU) is one of the therapeutic ultrasounds that deliver focused ultrasound [21]. It anatomically designates solid tumors, making it a flexible and efficient tool for clinical research as a vehicle to heat weak local tissues and deliver drugs [22]. Although research on HIFU is active now, in the past, it was focused on the application of low intensity focused ultra-sound (LIFU) or sonicar [23]. However, ultrasound studies for biofilm inhibition suggest a longer study period [24]. Therefore, this study aims to study the synergy effect of an-tifungal substances and nanoparticles with HIFU on the mature biofilm of C. albicans.\\n']"
      ]
     },
     "execution_count": 4,
     "metadata": {},
     "output_type": "execute_result"
    }
   ],
   "source": [
    "source = None\n",
    "with open(\"biofilm.txt\", 'r', encoding='utf-8') as f:\n",
    "    source = f.readlines()\n",
    "source"
   ]
  },
  {
   "attachments": {},
   "cell_type": "markdown",
   "metadata": {},
   "source": [
    "# 03. 웹브라우저 준비"
   ]
  },
  {
   "cell_type": "code",
   "execution_count": 5,
   "metadata": {},
   "outputs": [],
   "source": [
    "# 크롬드라이버 자동 설치\n",
    "chromedriver_autoinstaller.install()\n",
    "\n",
    "# 크롬드라이버를 통해 크롬을 실행시킴\n",
    "# driver 객체는 Chrom 자제\n",
    "driver = webdriver.Chrome()\n",
    "\n",
    "# 크롬브라우저가 준비될 때까지 최대 5초씩 대기\n",
    "driver.implicitly_wait(5)\n",
    "\n",
    "# 파파고 페이지 이동\n",
    "driver.get(\"https://papago.naver.com/\")\n",
    "time.sleep(3)"
   ]
  },
  {
   "attachments": {},
   "cell_type": "markdown",
   "metadata": {},
   "source": [
    "# 04. 번역 수행하기"
   ]
  },
  {
   "cell_type": "code",
   "execution_count": 6,
   "metadata": {},
   "outputs": [
    {
     "name": "stdout",
     "output_type": "stream",
     "text": [
      "Biofilm formation of microorganisms increases resistance to common antibiotics and antifungal agents. Therefore, the inhibition of biofilm depends on the effective treatment of microbial infections, including C.albicans, for the treat duration and economic efficiency of patients. Nano-particle and essential oil are well known for their antifungal subsistence. In addition, physical therapy using ultrasound is also provided to remove biofilm. The purpose of this study is how to suppress efficient biofilm by measuring the biological activity of C.albicans and the synergy effect using antifungal substances, nanoparticles, and HIFU. Cell viability was quantified and evaluated using XTT reduction assay. AuNPs and AgNPs were used to measure the effect of nanoparticles. hinokitiol and thymol were used to measure the effect of essential oil. HIFU was used as an ultrasound to measure the synergy effect of each substance. Mature biofilm was cultured for 24 hours and mature biofilm was cultured for 48 hours to treat with nanoparticle, antifungal substance, and HIFU, and the formation of biofilm was found to increase resistance to antifungal effects. The combination of Antifungal and Nanoparticles with HIFU has been shown to be the most effective way to suppress biofilm. The combined treatment effect was confirmed by SEM. In conclusion, the combination of antifungal and nanoparticles with HIFU indicates that it has the potential and efficiency of treatment.\n",
      "미생물의 바이오필름 형성은 일반적인 항생제와 항진균제에 대한 내성을 증가시킨다. 따라서 바이오필름의 억제는 환자의 치료기간 및 경제적 효율성을 위해 C.albicans를 포함한 미생물 감염의 효과적인 치료에 달려 있다. 나노 입자와 에센셜 오일은 항진균 생존력으로 잘 알려져 있다. 또한, 바이오필름을 제거하기 위해 초음파를 이용한 물리치료도 제공된다. 본 연구의 목적은 항진균물질, 나노입자, HIFU를 이용하여 C.albicans의 생물학적 활성과 시너지 효과를 측정하여 효율적인 바이오필름을 억제하는 방법에 있다. 세포 생존 가능성은 XT 환원 분석법을 사용하여 정량화 및 평가되었다. 나노입자의 효과를 측정하기 위해 AuNPs와 AgNPs가 사용되었다. 히노키티올과 티몰은 에센셜 오일의 효과를 측정하는데 사용되었다. HIFU는 각 물질의 시너지 효과를 측정하기 위해 초음파로 사용되었다. 성숙바이오필름은 24시간 배양, 성숙바이오필름은 48시간 배양하여 나노입자, 항진균물질, HIFU로 처리하였으며, 바이오필름의 형성으로 항진균효과에 대한 내성이 증가하는 것으로 나타났다. 항진균제와 나노입자를 HIFU와 결합하는 것이 바이오필름을 억제하는 가장 효과적인 방법인 것으로 나타났다. 복합 치료 효과는 SEM에 의해 확인되었다. 결론적으로 항진균제 및 나노입자와 HIFU의 결합은 치료의 잠재력과 효율성을 가지고 있음을 나타낸다.\n",
      "C. albicans belonging to the normal flora is a harmless microorganism [1]. However, microbiological changes and weakening of the immune response lead to C. albicans in-fection, which is the cause of C. albicans disease [2]. C. albicans infection occurs in an indwelling medical device, such as a catether, leading to a bloodstream infection. Alt-hough C. albicans is a harmless microorganism, it forms biofilms and belongs to one of the fungus causing infections [3]. A biofilm is a group of adherent cells surrounded by an extracellular polymeric substance matrix (EPS) [4]. EPS is a survival device for microor-ganisms to protect themselves from the outside in difficult environments [5]. Therefore, biofilm helps to have high resistance to antifungal substance effect [6]. In conclusion, we suggest the importance of novel therapies other than antifungal substances such as flu-conazole or amphotericin B [7].\n",
      "C. 정상 식물군에 속하는 알비칸은 무해한 미생물입니다 [1]. 그러나, 미생물학적 변화와 면역 반응의 약화는 C. albicans in-fection을 초래하며, 이는 C. albicans 질병의 원인입니다 [2]. C. 알비칸 감염은 카테터와 같은 유치 의료기기에서 발생하여 혈류 감염으로 이어집니다. 알비칸(C. albicans)은 무해한 미생물이지만, 생물막을 형성하고 감염을 일으키는 곰팡이 중 하나에 속합니다 [3]. 바이오필름은 세포외 고분자 물질 매트릭스(EPS)로 둘러싸인 접착성 세포군입니다 [4]. EPS는 미생물이 어려운 환경에서 외부로부터 자신을 보호하기 위한 생존 장치입니다 [5]. 따라서, 바이오필름은 항진균 물질 효과에 대한 높은 저항성을 갖도록 도와줍니다 [6]. 결론적으로, 우리는 독감-코나졸 또는 암포테리신 B[7]와 같은 항진균 물질 이외의 새로운 치료법의 중요성을 제안합니다.\n",
      "The antifungal effect of nanoparticles [8], peptides [9], and essential [10], corre-sponding to various types of chemical substances, and ultrasound [11], corresponding to physical shock therapy, were studied. Nanoparticles are currently being studied as one of the materials for antifungal effect. AuNPs and AgNPs have been widely studied as antifungal substances among nanoparticles [12,13]. A recent study of nanoparticles on C. albicans revealed that the effect of nanoparticles induces microstructural changes in cells and biofilms [14,15].\n",
      "다양한 유형의 화학 물질에 해당하는 나노 입자 [8], 펩타이드 [9] 및 필수 [10]의 항진균 효과와 물리적 충격 요법에 해당하는 초음파 [11]가 연구되었습니다. 나노입자는 현재 항진균 효과 물질의 하나로 연구되고 있으며, 나노입자 중에서도 AuNPs와 AgNPs가 항진균 물질로 널리 연구되고 있습니다[12,13]. 알비칸(C. albicans)에 대한 나노 입자에 대한 최근 연구는 나노 입자의 효과가 세포와 바이오 필름의 미세 구조 변화를 유도한다는 것을 밝혔습니다 [14,15].\n",
      "Essential oil is emerging as a new subtance of Antifungal. Essential oil is aromatic oily liquids extracted from plant materials [16]. Essential oil, known as a powerful anti-bacterial and antifungal substance, has been reported to have many effects [16]. Lami-aceae and Cupressaceae, which contain essential oil, are among the important plants [17]. In the Cupressaceae family, hinokitiol is well known as a representative tropolne [18]. Derived from the Lamiaceae family, thymol is a monoterpenoid compound [19]. As es-sential oils for biological activities, hinokitiol and thymol are well known.\n",
      "에센셜 오일이 안티펑갈의 새로운 아류로 떠오르고 있습니다. 에센셜 오일은 식물 재료에서 추출한 방향족 오일 액체입니다[16]. 강력한 항균 및 항진균 물질로 알려진 에센셜 오일은 많은 효과가 있는 것으로 보고되었습니다 [16]. 에센셜 오일을 함유하고 있는 Lami-aceae와 Cupressaceae는 중요한 식물 중 하나입니다 [17]. 컵레스과에서 히노키티올은 대표적인 트로폴렌으로 잘 알려져 있습니다 [18]. Lamiaceae 과에서 파생된 티몰은 모노테르페노이드 화합물입니다 [19]. 생물학적 활동을 위한 에센셜 오일로서, 히노키티올과 티몰이 잘 알려져 있습니다.\n",
      "In addition to chemical treatment methods, physical treatment methods may be used to remove biofilm. Biofilm-linked infections that share high resistance to non-invasive treatments such as antifungal substances require physical therapy [20]. Ul-trasound has been used as a physical therapy for many years as a method to remove biofilms without damaging human cells [20]. High intensity focused ultrasound (HIFU) is one of the therapeutic ultrasounds that deliver focused ultrasound [21]. It anatomically designates solid tumors, making it a flexible and efficient tool for clinical research as a vehicle to heat weak local tissues and deliver drugs [22]. Although research on HIFU is active now, in the past, it was focused on the application of low intensity focused ultra-sound (LIFU) or sonicar [23]. However, ultrasound studies for biofilm inhibition suggest a longer study period [24]. Therefore, this study aims to study the synergy effect of an-tifungal substances and nanoparticles with HIFU on the mature biofilm of C. albicans.\n",
      "화학적 처리 방법 외에도 물리적 처리 방법을 사용하여 바이오필름을 제거할 수 있습니다. 항진균 물질과 같은 비침습적 치료에 대한 높은 저항성을 공유하는 바이오필름 관련 감염은 물리적 치료가 필요합니다 [20]. Ul-trasound는 인간 세포를 손상시키지 않고 바이오 필름을 제거하는 방법으로 수년 동안 물리적 치료법으로 사용되어 왔습니다 [20]. 고강도집속초음파(HIFU)는 집속초음파를 전달하는 치료용 초음파 중 하나입니다 [21]. 고체 종양을 해부학적으로 지정하여 약한 국소 조직을 가열하고 약물을 전달하는 수단으로서 임상 연구에 유연하고 효율적인 도구로 사용할 수 있습니다 [22]. 현재는 HIFU에 대한 연구가 활발히 진행되고 있지만, 과거에는 저강도 집속 울트라 사운드(LIFU) 또는 소닉카의 적용에 초점을 맞췄습니다 [23]. 그러나 생물막 억제를 위한 초음파 연구는 연구 기간이 더 길다는 것을 시사합니다 [24]. 따라서 본 연구는 HIFU와 함께 항진균물질과 나노입자가 C. albicans의 성숙 바이오필름에 미치는 시너지 효과를 연구하는 것을 목표로 합니다.\n",
      "---- 작업이 종료되었습니다. ----\n"
     ]
    }
   ],
   "source": [
    "# 반복 수행 중 이번 회차에서 번역한 결과\n",
    "currentTrans = None\n",
    "\n",
    "# 이전 번역 결과\n",
    "prevTrans = None\n",
    "\n",
    "# 번역 결과가 저장될 텍스트 파일 생성\n",
    "fileName = dt.datetime.now().strftime(\"%y%m%d_%H%M%S.md\")\n",
    "\n",
    "with open(fileName, 'w', encoding = 'utf-8') as f:\n",
    "    # 읽어온 텍스트의 원소 만큼 반복\n",
    "    for s in source:\n",
    "        # 각 행마다 줄바꿈 문자 등의 앞뒤 공백을 제거\n",
    "        s = s.strip()\n",
    "\n",
    "        # 이번 던에서 번역할 내용이 빈 행이라면 반복을 다음턴으로 이동\n",
    "        if not s:\n",
    "            continue\n",
    "\n",
    "        print(s)\n",
    "\n",
    "        # 번역할 원문을 입력하는 요소를 취득\n",
    "        txtSource = WebDriverWait(driver, 3).until(\n",
    "            lambda x: x.find_element(By.CSS_SELECTOR, \"#txtSource\"))\n",
    "        \n",
    "        # 기존의 입력내용을 삭제\n",
    "        txtSource.clear()\n",
    "\n",
    "        # 번역할 한 행을 입력요소에 키보드로 입력한다.\n",
    "        txtSource.send_keys(s)\n",
    "\n",
    "        # 번역하기 버튼 요소 취득\n",
    "        btnTranslate = WebDriverWait(driver, 3).until(\n",
    "            lambda x: x.find_element(By.CSS_SELECTOR, \"#btnTranslate\"))\n",
    "        \n",
    "        # 번역버튼 클릭\n",
    "        btnTranslate.click()\n",
    "\n",
    "        # 번역이 되는 동안 1초 대기\n",
    "        time.sleep(1)\n",
    "\n",
    "        # -----------------------------------------------------------------\n",
    "        while True:\n",
    "            # 번역 결과가 표시될 요소 취득\n",
    "            txtTarget = WebDriverWait(driver, 3).until(\n",
    "                lambda x: x.find_element(By.CSS_SELECTOR, \"#txtTarget\"))\n",
    "            \n",
    "            # 번역 결과 가져오기\n",
    "            currentTrans = txtTarget.text.strip() \n",
    "            print(currentTrans)\n",
    "\n",
    "            # 가져온 내용이 있고, 이번 번역 결과가 이전 번역 결과와 다르다면 반복 중단\n",
    "            if currentTrans and currentTrans  != prevTrans:\n",
    "                prevTrans = currentTrans \n",
    "                break\n",
    "            \n",
    "            # 번역이 되는 동안 1초 대기\n",
    "            time.sleep(1)\n",
    "            \n",
    "        # -----------------------------------------------------------------\n",
    "\n",
    "        # 번역 결과를 파일에 기록\n",
    "        f.write(s)\n",
    "        f.write(\"\\n\\n\") \n",
    "        f.write(\">\")\n",
    "        f.write(currentTrans) \n",
    "        f.write(\"\\n\\n\")\n",
    "\n",
    "print(\"---- 작업이 종료되었습니다. ----\")"
   ]
  }
 ],
 "metadata": {
  "kernelspec": {
   "display_name": "Python 3",
   "language": "python",
   "name": "python3"
  },
  "language_info": {
   "codemirror_mode": {
    "name": "ipython",
    "version": 3
   },
   "file_extension": ".py",
   "mimetype": "text/x-python",
   "name": "python",
   "nbconvert_exporter": "python",
   "pygments_lexer": "ipython3",
   "version": "3.11.3"
  },
  "orig_nbformat": 4
 },
 "nbformat": 4,
 "nbformat_minor": 2
}
