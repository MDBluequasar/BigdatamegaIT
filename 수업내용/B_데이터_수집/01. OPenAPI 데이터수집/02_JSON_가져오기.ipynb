{
 "cells": [
  {
   "cell_type": "code",
   "execution_count": 2,
   "metadata": {},
   "outputs": [],
   "source": [
    "# 필요한 모듈 참조\n",
    "# -> 웹 상의 데이터를 요청하는 기능\n",
    "import requests\n",
    "# -> JSON을 dictionary로 변환하는 기능(내장모듈, 설치 불필요)\n",
    "import json"
   ]
  },
  {
   "cell_type": "code",
   "execution_count": 3,
   "metadata": {},
   "outputs": [],
   "source": [
    "# 온라인 상의 URL\n",
    "url = \"https://data.hossam.kr/sample.json\"\n"
   ]
  },
  {
   "cell_type": "code",
   "execution_count": 4,
   "metadata": {},
   "outputs": [],
   "source": [
    "# 접속 객체 생성\n",
    "session  = requests.Session()\n",
    "\n",
    "# 접속 정보 설정\n",
    "session.headers.update({\n",
    "    #직전에 머물렀던 페이지의 URL\n",
    "    \"Referer\":\"\",\n",
    "    # 브라우저 및 OS 버전 정보\n",
    "    \"User-Agent\": \"Mozilla/5.0 (Windows NT 10.0; Win64; x64) AppleWebKit/537.36 (KHTML, like Gecko) Chrome/114.0.0.0 Safari/537.36\",\n",
    "})"
   ]
  },
  {
   "cell_type": "code",
   "execution_count": 6,
   "metadata": {},
   "outputs": [],
   "source": [
    "# 특정 웹 페이지에 접속\n",
    "r = session.get(url)\n",
    "if r.status_code != 200:\n",
    "    # 에러코드와 에러메시지 출력\n",
    "    msg = \"[%d Error] %s 에러가 발생함\" % (r.status_code, r.reason)\n",
    "    # 에러를 강제로 생성시킴\n",
    "    raise Exception(msg)"
   ]
  },
  {
   "cell_type": "code",
   "execution_count": 7,
   "metadata": {},
   "outputs": [
    {
     "name": "stdout",
     "output_type": "stream",
     "text": [
      "<class 'str'>\n",
      "{\n",
      "    \"name\": \"갤럭시 S6\",\n",
      "    \"type\": \"삼성\",\n",
      "    \"img\": \"http://itpaper.co.kr/demo/app/img/GalaxyS6.png\"\n",
      "}\n"
     ]
    }
   ],
   "source": [
    "# 인코딩 형식 지정\n",
    "r.encoding = \"utf-8\"\n",
    "# 텍스트 출력\n",
    "print(type(r.text))\n",
    "print(r.text)\n"
   ]
  },
  {
   "cell_type": "code",
   "execution_count": null,
   "metadata": {},
   "outputs": [],
   "source": []
  }
 ],
 "metadata": {
  "kernelspec": {
   "display_name": "Python 3",
   "language": "python",
   "name": "python3"
  },
  "language_info": {
   "codemirror_mode": {
    "name": "ipython",
    "version": 3
   },
   "file_extension": ".py",
   "mimetype": "text/x-python",
   "name": "python",
   "nbconvert_exporter": "python",
   "pygments_lexer": "ipython3",
   "version": "3.11.4"
  },
  "orig_nbformat": 4
 },
 "nbformat": 4,
 "nbformat_minor": 2
}
