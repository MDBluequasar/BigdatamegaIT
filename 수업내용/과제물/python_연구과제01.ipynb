{
 "cells": [
  {
   "cell_type": "code",
   "execution_count": 12,
   "metadata": {},
   "outputs": [
    {
     "name": "stdout",
     "output_type": "stream",
     "text": [
      "23920000\n",
      "1947000\n"
     ]
    }
   ],
   "source": [
    "# 연구 과제(1)\n",
    "naver = 751000\n",
    "daum = 89000\n",
    "n2 = int(input(\"다음하락:\"))/100\n",
    "n1 = int(input(\"네이버하락: \"))/100\n",
    "\n",
    "p = 1 - n1 \n",
    "w = 1 - n2\n",
    "total= naver * 20 + daum * 100\n",
    "pain = int(naver * 20*p + daum * 100*w)\n",
    "\n",
    "print(total)\n",
    "print(total- pain)\n",
    "\n"
   ]
  },
  {
   "cell_type": "code",
   "execution_count": 10,
   "metadata": {},
   "outputs": [
    {
     "name": "stdout",
     "output_type": "stream",
     "text": [
      "120  kg\n",
      "1.79  m\n",
      "37.452014606285694\n"
     ]
    }
   ],
   "source": [
    "# 연구 과제(2)\n",
    "myWeight = int(input(\"사용자의 체중: \"))\n",
    "myHeight = float(input(\"사용자의 키: \"))/100\n",
    "\n",
    "print(myWeight, \" kg\")\n",
    "print(myHeight, \" m\")\n",
    "\n",
    "bml = myWeight/myHeight**2\n",
    "print(bml) "
   ]
  },
  {
   "cell_type": "code",
   "execution_count": 19,
   "metadata": {},
   "outputs": [
    {
     "name": "stdout",
     "output_type": "stream",
     "text": [
      "Daum kakao\n",
      "kakao Daum\n"
     ]
    }
   ],
   "source": [
    "# 연구 과제(3)\n",
    "s = \"Daum kakao\"\n",
    "print(s)\n",
    "\n",
    "\n",
    "s1 = s[0:4]\n",
    "s2 = s[5:]\n",
    "print(\"%s %s\" % (s2, s1))"
   ]
  },
  {
   "cell_type": "code",
   "execution_count": 13,
   "metadata": {},
   "outputs": [
    {
     "name": "stdout",
     "output_type": "stream",
     "text": [
      "폴더의 위치:  C:\\myphoto\n",
      "파일이름:  helloworld\n",
      "확장자:  jpg\n"
     ]
    }
   ],
   "source": [
    "# 연구 과제(4)\n",
    "file = \"C:\\myphoto\\helloworld.jpg\"\n",
    "p1 = file.rfind(\"\\\\\")\n",
    "p2 = file.rfind(\".\")\n",
    "folder = file[:p1]\n",
    "filename = file[p1+1:p2]\n",
    "ext = file[p2+1:]\n",
    "print(\"폴더의 위치: \", folder)\n",
    "print(\"파일이름: \",filename)\n",
    "print(\"확장자: \",ext)"
   ]
  },
  {
   "cell_type": "code",
   "execution_count": 66,
   "metadata": {},
   "outputs": [
    {
     "name": "stdout",
     "output_type": "stream",
     "text": [
      "[93, 90, 88]\n",
      "90.33333333333333\n"
     ]
    }
   ],
   "source": [
    "# 연구 과제(5)\n",
    "score = [82, 74, 93, 65, 32, 71, 90, 88, 74]\n",
    "score.sort(reverse=True)\n",
    "top = score[:3]\n",
    "print(top)\n",
    "\n",
    "total = 0\n",
    "for i in top:\n",
    "    total += i\n",
    "\n",
    "avg = total / len(top)\n",
    "print(avg)\n",
    "\n",
    "# for i in range(0, len(score)-1):\n",
    "#     for j in range(i+1, len(score)):\n",
    "#         if score[i] < score[j]:\n",
    "#             score[i], score[j] = score[j], score[i]\n",
    "# total = 0\n",
    "# for k in range(0, 3):\n",
    "#       total += math[k]\n",
    "# avg = total/3\n",
    "# print(avg)\n"
   ]
  },
  {
   "cell_type": "code",
   "execution_count": 37,
   "metadata": {},
   "outputs": [
    {
     "name": "stdout",
     "output_type": "stream",
     "text": [
      "노년층\n"
     ]
    }
   ],
   "source": [
    "# 연구 과제(6)\n",
    "age = int(input(\"나이를 입력하세요.: \"))\n",
    "\n",
    "if age >= 60:\n",
    "    print(\"노년층\")\n",
    "elif  50 <= age <= 59:\n",
    "    print(\"50대\")\n",
    "elif  40 <= age <= 49:\n",
    "    print(\"40대\")\n",
    "elif  30 <= age <= 39:\n",
    "    print(\"30대\")\n",
    "elif  20 <= age <= 29:\n",
    "    print(\"20대\")\n",
    "elif  10 <= age <= 19:\n",
    "    print(\"10대\")\n",
    "else:\n",
    "    print(\"어린이\")"
   ]
  },
  {
   "cell_type": "code",
   "execution_count": 38,
   "metadata": {},
   "outputs": [
    {
     "name": "stdout",
     "output_type": "stream",
     "text": [
      "20% 초과, 30% 이하 - 경도 비만(주의)\n"
     ]
    }
   ],
   "source": [
    "# 연구 과제(7)\n",
    "myw = int(input(\"몸무게: \"))\n",
    "myh =  int(input(\"키를 입력하세요: \"))\n",
    "\n",
    "if myh >150:\n",
    "    sw = (myh - 100) * 0.9\n",
    "else:\n",
    "    sw = myh -100\n",
    "\n",
    "big = (myw - sw)/sw*100\n",
    "\n",
    "if big > 50:\n",
    "    print(\"50% 초과 - 고도비만(매우위험)\")\n",
    "elif 30 < big <= 50:\n",
    "    print(\"30% 초과, 50% 이하 - 중등도 비만(위험)\") \n",
    "elif 20 < big <= 30:\n",
    "    print(\"20% 초과, 30% 이하 - 경도 비만(주의)\")\n",
    "else:\n",
    "    print(\"20% 이하 - 정상(안심)\")     \n"
   ]
  },
  {
   "cell_type": "code",
   "execution_count": 19,
   "metadata": {},
   "outputs": [
    {
     "name": "stdout",
     "output_type": "stream",
     "text": [
      "짝수의 합: 2550\n",
      "{'A': 3, 'B': 2, 'AB': 2, 'O': 3}\n"
     ]
    }
   ],
   "source": [
    "# 연구 과제(8)\n",
    "# 짝수의 합 구하기\n",
    "to = 0\n",
    "for i in range(2, 101, 2):\n",
    "    to += i\n",
    "print(\"짝수의 합:\", to)\n",
    "\n",
    "# 혈액형 빈도수 구하기\n",
    "blood = ['A', 'A', 'A', 'O', 'B', 'B', 'O', 'AB', 'AB', 'O']\n",
    "result = {\"A\" : blood.count('A'), \"B\": blood.count('B'), \"AB\": blood.count('AB'), \"O\": blood.count('O')}\n",
    "print(result)"
   ]
  },
  {
   "cell_type": "code",
   "execution_count": 26,
   "metadata": {},
   "outputs": [
    {
     "name": "stdout",
     "output_type": "stream",
     "text": [
      "6\n"
     ]
    }
   ],
   "source": [
    "# 연구 과제 (9)\n",
    "# 팩토리얼 구하기\n",
    "n = int(input(\"숫자를 입력하세요.: \"))\n",
    "to = 1\n",
    "for i in range(1, n+1):\n",
    "    to *= i\n",
    "print(to)\n"
   ]
  },
  {
   "cell_type": "code",
   "execution_count": 32,
   "metadata": {},
   "outputs": [
    {
     "ename": "IndentationError",
     "evalue": "unindent does not match any outer indentation level (<tokenize>, line 8)",
     "output_type": "error",
     "traceback": [
      "\u001b[1;36m  File \u001b[1;32m<tokenize>:8\u001b[1;36m\u001b[0m\n\u001b[1;33m    print(count)\u001b[0m\n\u001b[1;37m    ^\u001b[0m\n\u001b[1;31mIndentationError\u001b[0m\u001b[1;31m:\u001b[0m unindent does not match any outer indentation level\n"
     ]
    }
   ],
   "source": [
    "# 연구 과제 (10)\n",
    "count = 0\n",
    "a = [1,2,3,4,5,6]\n",
    "for i in range(a):\n",
    "    for j in range(a):\n",
    "        if i + j == 6:\n",
    "            count += 1\n",
    " print(count)           "
   ]
  }
 ],
 "metadata": {
  "kernelspec": {
   "display_name": "Python 3",
   "language": "python",
   "name": "python3"
  },
  "language_info": {
   "codemirror_mode": {
    "name": "ipython",
    "version": 3
   },
   "file_extension": ".py",
   "mimetype": "text/x-python",
   "name": "python",
   "nbconvert_exporter": "python",
   "pygments_lexer": "ipython3",
   "version": "3.11.4"
  },
  "orig_nbformat": 4
 },
 "nbformat": 4,
 "nbformat_minor": 2
}
