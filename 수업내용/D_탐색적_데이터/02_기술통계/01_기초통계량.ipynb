{
 "cells": [
  {
   "attachments": {},
   "cell_type": "markdown",
   "metadata": {},
   "source": [
    "# 기술 통계 - 기초 통계량\n",
    "\n",
    "## # 01. 기술통계\n",
    "\n",
    "    - 기술통계란 자료를 그래프나 숫자등으로 요약하는 통계적 행위 및 관련 방법을 의미.\n",
    "\n",
    "    - 데이터의 분석에 앞서 전체적으로 데이터의 특징을 파악하고 데이터를 다양한 각도로 접근한다.\n",
    "\n",
    "    - 데이터를 요약하고 시각화해서 잘 설명하는 것에 중점을 두며 데이터에 대해서 쉽게 설명하기 위해서 \n",
    "        시각화를 많이 활용한다.\n",
    "   \n",
    "    - 기술 통게에서 기본적으로 사용하는 시각화 자료들은 'Boxplot(상자그림)', '도수분포표', \n",
    "        '히스토그램' 이 있으며 이를 기반으로 사실을 객관적으로 확인하는 것을 중점으로 한다.\n",
    "\n",
    "## # 02. 기술통계 절차\n",
    "\n",
    "    #### 1. 데이터의 전체 크기와 형태 확인\n",
    "\n",
    "                    * 행과 열의 수를 확인한다.\n",
    "                    \n",
    "                    * 10만 건의 데이터 전체를 출력하는 것은 매우 부담이 큰 처리이므로 상위 n 건, \n",
    "                        하위 n 건의 일부 만을 확인한다.\n",
    "\n",
    "    #### 2. 전체 데이터의 분포를 확인한다.\n",
    "\n",
    "                    * 구간별 자료의 개수를 나타내는 표(=도수분포표) 를 산정한다.\n",
    "\n",
    "                    * 도수 분포표를 그래프로 표현한 히스토그램을 확인한다.\n",
    "\n",
    "    #### 3. 범주형 데이터\n",
    "\n",
    "                    * 데이터의 빈도수를 확인한다.\n",
    "\n",
    "## # 03. 작업 준비\n",
    "\n",
    "    #### 1. 패키지 참조"
   ]
  },
  {
   "cell_type": "code",
   "execution_count": 1,
   "metadata": {},
   "outputs": [],
   "source": [
    "import sys\n",
    "from matplotlib import pyplot as plt\n",
    "from pandas import read_excel\n",
    "import seaborn as sb"
   ]
  },
  {
   "attachments": {},
   "cell_type": "markdown",
   "metadata": {},
   "source": [
    "    #### 2. 데이터 가져오기"
   ]
  },
  {
   "cell_type": "code",
   "execution_count": 2,
   "metadata": {},
   "outputs": [
    {
     "data": {
      "text/html": [
       "<div>\n",
       "<style scoped>\n",
       "    .dataframe tbody tr th:only-of-type {\n",
       "        vertical-align: middle;\n",
       "    }\n",
       "\n",
       "    .dataframe tbody tr th {\n",
       "        vertical-align: top;\n",
       "    }\n",
       "\n",
       "    .dataframe thead th {\n",
       "        text-align: right;\n",
       "    }\n",
       "</style>\n",
       "<table border=\"1\" class=\"dataframe\">\n",
       "  <thead>\n",
       "    <tr style=\"text-align: right;\">\n",
       "      <th></th>\n",
       "      <th>광고비(백만원)</th>\n",
       "      <th>매출액(억원)</th>\n",
       "    </tr>\n",
       "    <tr>\n",
       "      <th>월</th>\n",
       "      <th></th>\n",
       "      <th></th>\n",
       "    </tr>\n",
       "  </thead>\n",
       "  <tbody>\n",
       "    <tr>\n",
       "      <th>1월</th>\n",
       "      <td>2</td>\n",
       "      <td>100</td>\n",
       "    </tr>\n",
       "    <tr>\n",
       "      <th>2월</th>\n",
       "      <td>142</td>\n",
       "      <td>1690</td>\n",
       "    </tr>\n",
       "    <tr>\n",
       "      <th>3월</th>\n",
       "      <td>122</td>\n",
       "      <td>298</td>\n",
       "    </tr>\n",
       "    <tr>\n",
       "      <th>4월</th>\n",
       "      <td>130</td>\n",
       "      <td>390</td>\n",
       "    </tr>\n",
       "    <tr>\n",
       "      <th>5월</th>\n",
       "      <td>185</td>\n",
       "      <td>590</td>\n",
       "    </tr>\n",
       "    <tr>\n",
       "      <th>6월</th>\n",
       "      <td>121</td>\n",
       "      <td>200</td>\n",
       "    </tr>\n",
       "    <tr>\n",
       "      <th>7월</th>\n",
       "      <td>101</td>\n",
       "      <td>190</td>\n",
       "    </tr>\n",
       "    <tr>\n",
       "      <th>8월</th>\n",
       "      <td>199</td>\n",
       "      <td>460</td>\n",
       "    </tr>\n",
       "    <tr>\n",
       "      <th>9월</th>\n",
       "      <td>221</td>\n",
       "      <td>660</td>\n",
       "    </tr>\n",
       "    <tr>\n",
       "      <th>10월</th>\n",
       "      <td>139</td>\n",
       "      <td>350</td>\n",
       "    </tr>\n",
       "    <tr>\n",
       "      <th>11월</th>\n",
       "      <td>169</td>\n",
       "      <td>650</td>\n",
       "    </tr>\n",
       "    <tr>\n",
       "      <th>12월</th>\n",
       "      <td>237</td>\n",
       "      <td>880</td>\n",
       "    </tr>\n",
       "  </tbody>\n",
       "</table>\n",
       "</div>"
      ],
      "text/plain": [
       "     광고비(백만원)  매출액(억원)\n",
       "월                     \n",
       "1월          2      100\n",
       "2월        142     1690\n",
       "3월        122      298\n",
       "4월        130      390\n",
       "5월        185      590\n",
       "6월        121      200\n",
       "7월        101      190\n",
       "8월        199      460\n",
       "9월        221      660\n",
       "10월       139      350\n",
       "11월       169      650\n",
       "12월       237      880"
      ]
     },
     "execution_count": 2,
     "metadata": {},
     "output_type": "execute_result"
    }
   ],
   "source": [
    "df = read_excel(\"C:\\\\Users\\\\User\\\\Desktop\\\\궁둥박사\\\\BigdatamegaIT\\\\수업내용\\\\D_탐색적_데이터\\\\01_데이터_시각화/ad-sales.xlsx\", index_col=\"월\")\n",
    "df"
   ]
  },
  {
   "attachments": {},
   "cell_type": "markdown",
   "metadata": {},
   "source": [
    "    #### 3. 데이터 전처리"
   ]
  },
  {
   "cell_type": "code",
   "execution_count": 3,
   "metadata": {},
   "outputs": [
    {
     "data": {
      "text/html": [
       "<div>\n",
       "<style scoped>\n",
       "    .dataframe tbody tr th:only-of-type {\n",
       "        vertical-align: middle;\n",
       "    }\n",
       "\n",
       "    .dataframe tbody tr th {\n",
       "        vertical-align: top;\n",
       "    }\n",
       "\n",
       "    .dataframe thead th {\n",
       "        text-align: right;\n",
       "    }\n",
       "</style>\n",
       "<table border=\"1\" class=\"dataframe\">\n",
       "  <thead>\n",
       "    <tr style=\"text-align: right;\">\n",
       "      <th></th>\n",
       "      <th>adv</th>\n",
       "      <th>sales</th>\n",
       "    </tr>\n",
       "    <tr>\n",
       "      <th>month</th>\n",
       "      <th></th>\n",
       "      <th></th>\n",
       "    </tr>\n",
       "  </thead>\n",
       "  <tbody>\n",
       "    <tr>\n",
       "      <th>1월</th>\n",
       "      <td>2</td>\n",
       "      <td>100</td>\n",
       "    </tr>\n",
       "    <tr>\n",
       "      <th>2월</th>\n",
       "      <td>142</td>\n",
       "      <td>1690</td>\n",
       "    </tr>\n",
       "    <tr>\n",
       "      <th>3월</th>\n",
       "      <td>122</td>\n",
       "      <td>298</td>\n",
       "    </tr>\n",
       "    <tr>\n",
       "      <th>4월</th>\n",
       "      <td>130</td>\n",
       "      <td>390</td>\n",
       "    </tr>\n",
       "    <tr>\n",
       "      <th>5월</th>\n",
       "      <td>185</td>\n",
       "      <td>590</td>\n",
       "    </tr>\n",
       "    <tr>\n",
       "      <th>6월</th>\n",
       "      <td>121</td>\n",
       "      <td>200</td>\n",
       "    </tr>\n",
       "    <tr>\n",
       "      <th>7월</th>\n",
       "      <td>101</td>\n",
       "      <td>190</td>\n",
       "    </tr>\n",
       "    <tr>\n",
       "      <th>8월</th>\n",
       "      <td>199</td>\n",
       "      <td>460</td>\n",
       "    </tr>\n",
       "    <tr>\n",
       "      <th>9월</th>\n",
       "      <td>221</td>\n",
       "      <td>660</td>\n",
       "    </tr>\n",
       "    <tr>\n",
       "      <th>10월</th>\n",
       "      <td>139</td>\n",
       "      <td>350</td>\n",
       "    </tr>\n",
       "    <tr>\n",
       "      <th>11월</th>\n",
       "      <td>169</td>\n",
       "      <td>650</td>\n",
       "    </tr>\n",
       "    <tr>\n",
       "      <th>12월</th>\n",
       "      <td>237</td>\n",
       "      <td>880</td>\n",
       "    </tr>\n",
       "  </tbody>\n",
       "</table>\n",
       "</div>"
      ],
      "text/plain": [
       "       adv  sales\n",
       "month            \n",
       "1월       2    100\n",
       "2월     142   1690\n",
       "3월     122    298\n",
       "4월     130    390\n",
       "5월     185    590\n",
       "6월     121    200\n",
       "7월     101    190\n",
       "8월     199    460\n",
       "9월     221    660\n",
       "10월    139    350\n",
       "11월    169    650\n",
       "12월    237    880"
      ]
     },
     "execution_count": 3,
     "metadata": {},
     "output_type": "execute_result"
    }
   ],
   "source": [
    "df.rename(columns = {'광고비(백만원)' : 'adv', '매출액(억원)' : 'sales'}, inplace = True)\n",
    "df.index.name = 'month'\n",
    "df"
   ]
  },
  {
   "attachments": {},
   "cell_type": "markdown",
   "metadata": {},
   "source": [
    "## # 04. 기초 통계량\n",
    "\n",
    "    #### 1. 데이터의 범위\n",
    "\n",
    "        - '최대값 ~ 최소값' 의 구간을 의미"
   ]
  },
  {
   "cell_type": "code",
   "execution_count": 4,
   "metadata": {},
   "outputs": [
    {
     "data": {
      "text/plain": [
       "'광고비 구간은 2 ~ 237백만원 입니다.'"
      ]
     },
     "execution_count": 4,
     "metadata": {},
     "output_type": "execute_result"
    }
   ],
   "source": [
    "max_adv = df['adv'].max()\n",
    "min_adv = df['adv'].min()\n",
    "\n",
    "'광고비 구간은 {min} ~ {max}백만원 입니다.'.format(max = max_adv, min = min_adv)"
   ]
  },
  {
   "cell_type": "code",
   "execution_count": 5,
   "metadata": {},
   "outputs": [
    {
     "data": {
      "text/plain": [
       "'매출액 구간은 100 ~ 1690백만원 입니다.'"
      ]
     },
     "execution_count": 5,
     "metadata": {},
     "output_type": "execute_result"
    }
   ],
   "source": [
    "max_sales = df['sales'].max()\n",
    "min_sales = df['sales'].min()\n",
    "\n",
    "'매출액 구간은 {min} ~ {max}백만원 입니다.'.format(max = max_sales, min = min_sales)"
   ]
  },
  {
   "attachments": {},
   "cell_type": "markdown",
   "metadata": {},
   "source": [
    "    #### 2. 합계"
   ]
  },
  {
   "cell_type": "code",
   "execution_count": 6,
   "metadata": {},
   "outputs": [
    {
     "data": {
      "text/plain": [
       "'광고비의 총 합은 1768백만원이고, 매출액의 총 합은 6458억원 입니다.'"
      ]
     },
     "execution_count": 6,
     "metadata": {},
     "output_type": "execute_result"
    }
   ],
   "source": [
    "sum_adv = df['adv'].sum()\n",
    "sum_sales = df['sales'].sum()\n",
    "\n",
    "'광고비의 총 합은 %d백만원이고, 매출액의 총 합은 %d억원 입니다.' % (sum_adv, sum_sales)"
   ]
  },
  {
   "attachments": {},
   "cell_type": "markdown",
   "metadata": {},
   "source": [
    "    #### 평균\n",
    "\n",
    "        - 모든 값을 더한 후 개수로 나눈 값\n",
    "\n",
    "            1, 2, 3, 4, 5, 100의 평균은 (1+2+3+4+5+100)/6 이므로 19.17 이다.\n",
    "        \n",
    "        - 평균은 특정 값이 다른 값들의 범위와 차이가 큰 경우 신뢰도가 떨어진다.\n",
    "\n",
    "        - 위의 데이터에서 100에 해당하는 값은 다른 값들에 비해 극단적으로 높다. 이러한 값을 극단치라고 \n",
    "            한다."
   ]
  },
  {
   "cell_type": "code",
   "execution_count": 7,
   "metadata": {},
   "outputs": [
    {
     "data": {
      "text/plain": [
       "'광고비의 평균은 147백만원이고, 매출액의 평균은 538억원 입니다.'"
      ]
     },
     "execution_count": 7,
     "metadata": {},
     "output_type": "execute_result"
    }
   ],
   "source": [
    "mean_adv = df['adv'].mean()\n",
    "mean_sales = df['sales'].mean()\n",
    "\n",
    "'광고비의 평균은 %d백만원이고, 매출액의 평균은 %d억원 입니다.' % (mean_adv, mean_sales)"
   ]
  },
  {
   "attachments": {},
   "cell_type": "markdown",
   "metadata": {},
   "source": [
    "    #### 4. 중앙값($m_e$)\n",
    "\n",
    "        - 모든 값을 순서대로 정렬한 후 가운데 위치의 값.\n",
    "\n",
    "        - 평균의 신뢰도가 현저히 낮을 경우 데이터의 분포를 확인하기 위해 사용한다.\n",
    "\n",
    "        * 데이터의 수가 홀수인 경우\n",
    "\n",
    "            - 모든 값을 순서대로 정렬한 후 가운데 위치의 값\n",
    "\n",
    "            ex) 1, 2, 3, 4, 5 의 중앙값은 3이다.\n",
    "\n",
    "            $m_e = x{(\\frac{n+1}2)}$\n",
    "\n",
    "        * 데이터의 수가 짝수인 경우\n",
    "\n",
    "            -  모든 값을 순서대로 정렬한 후 가운데 두 값의 평균.\n",
    "            \n",
    "            ex)  `1, 2, 3, 4, 5, 6`의 중앙값은 `(3+4)/2`이므로 `3.5`이다.\n",
    "\n",
    "$m_e = \\frac{1}{2}{({x{(\\frac{n}{2})} + {x{(\\frac{n}{2})+1}}})}$"
   ]
  },
  {
   "cell_type": "code",
   "execution_count": null,
   "metadata": {},
   "outputs": [],
   "source": []
  }
 ],
 "metadata": {
  "kernelspec": {
   "display_name": "Python 3",
   "language": "python",
   "name": "python3"
  },
  "language_info": {
   "codemirror_mode": {
    "name": "ipython",
    "version": 3
   },
   "file_extension": ".py",
   "mimetype": "text/x-python",
   "name": "python",
   "nbconvert_exporter": "python",
   "pygments_lexer": "ipython3",
   "version": "3.11.4"
  },
  "orig_nbformat": 4
 },
 "nbformat": 4,
 "nbformat_minor": 2
}
