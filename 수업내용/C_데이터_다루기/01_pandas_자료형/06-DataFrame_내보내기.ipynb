{
 "cells": [
  {
   "attachments": {},
   "cell_type": "markdown",
   "metadata": {},
   "source": [
    "DataFrame 내보내기\n",
    "- DataFrame을 Excel 이나 CSV 형식으로 저장하기\n",
    "- VSCode에서의 결과 확인을 위해 Excel Viewer Extention을 설치하는 것이 좋다."
   ]
  },
  {
   "attachments": {},
   "cell_type": "markdown",
   "metadata": {},
   "source": [
    "# 01. 패키지 참조"
   ]
  },
  {
   "cell_type": "code",
   "execution_count": 1,
   "metadata": {},
   "outputs": [],
   "source": [
    "from pandas import read_excel"
   ]
  },
  {
   "attachments": {},
   "cell_type": "markdown",
   "metadata": {},
   "source": [
    "# 02. 데이터 가져오기"
   ]
  },
  {
   "cell_type": "code",
   "execution_count": null,
   "metadata": {},
   "outputs": [],
   "source": [
    "df = read_excel(\"https://data.hossam.kr/grade.xlsx\", index_col = '이름')\n",
    "df"
   ]
  },
  {
   "attachments": {},
   "cell_type": "markdown",
   "metadata": {},
   "source": [
    "# 03. 데이터 내보내기"
   ]
  },
  {
   "attachments": {},
   "cell_type": "markdown",
   "metadata": {},
   "source": [
    "  1) 엑셀 파일로 내보내기"
   ]
  },
  {
   "cell_type": "code",
   "execution_count": null,
   "metadata": {},
   "outputs": [],
   "source": [
    "# 원본 파일 그대로 저장하기\n",
    "df.to_excel(\"1.xlsx\")"
   ]
  },
  {
   "cell_type": "code",
   "execution_count": null,
   "metadata": {},
   "outputs": [],
   "source": [
    "# 파라미터 설정\n",
    "# 인덱스를 포함하는 경우\n",
    "\n",
    "df.to_excel(\"2.xlsx\",              # 파일 이름\n",
    "            index = True,          # 인덱스 포함 여부 (생략시 True)\n",
    "            index_label = '이름'   # 인덱스 필드의 제목 (생략시 빈칸으로 설정됨)\n",
    "            )"
   ]
  },
  {
   "cell_type": "code",
   "execution_count": null,
   "metadata": {},
   "outputs": [],
   "source": [
    "# 인덱스를 포함하지 않는 경우\n",
    "df.to_excel(\"2.xlsx\",                             # 파일 이름\n",
    "            index = False,                        # 인덱스 포함 여부 (기본값 True)\n",
    "            column = ['학년', '성별', '국어'],    # 저장할 컬럼 지정\n",
    "            header = ['level', 'sex', 'kor']      # 컬럼별 제목 설정 \n",
    "            )"
   ]
  },
  {
   "attachments": {},
   "cell_type": "markdown",
   "metadata": {},
   "source": [
    "  2) CSV로 내보내기\n",
    "    - encoding을 설정하는 것 외에는 엑셀파일을 내보내는 것과 동일하다"
   ]
  },
  {
   "cell_type": "code",
   "execution_count": null,
   "metadata": {},
   "outputs": [],
   "source": [
    "# 원본 그대로 저장하기\n",
    "df.to_csv(\"1.csv\", encoding = 'utf-8')"
   ]
  },
  {
   "cell_type": "code",
   "execution_count": null,
   "metadata": {},
   "outputs": [],
   "source": [
    "# 파라미터 설정\n",
    "# 인덱스를 포함하는 경우\n",
    "\n",
    "df.to_csv(\"2.csv\",                 # 파일 이름\n",
    "            encoding = 'utf-8',    # 파일 인코딩     \n",
    "            index = True,          # 인덱스 포함 여부 (생략시 True)\n",
    "            index_label = '이름'   # 인덱스 필드의 제목 (생략시 빈칸으로 설정됨)\n",
    "            )"
   ]
  },
  {
   "cell_type": "code",
   "execution_count": null,
   "metadata": {},
   "outputs": [],
   "source": [
    "# 인덱스를 포함하지 않는 경우\n",
    "\n",
    "df.to_csv(\"2.csv\",                             # 파일 이름\n",
    "            encoding = 'utf-8',                   # 파일 인코딩           \n",
    "            index = False,                        # 인덱스 포함 여부 (기본값 True)\n",
    "            column = ['학년', '성별', '국어'],    # 저장할 컬럼 지정\n",
    "            header = ['level', 'sex', 'kor']      # 컬럼별 제목 설정 \n",
    "            )"
   ]
  },
  {
   "attachments": {},
   "cell_type": "markdown",
   "metadata": {},
   "source": [
    "# 실습 결과물 모두 삭제"
   ]
  },
  {
   "cell_type": "code",
   "execution_count": null,
   "metadata": {},
   "outputs": [],
   "source": [
    "import os\n",
    "import glob as gl\n",
    "\n",
    "list1 = gl.glob(\"*.xlsx\")\n",
    "list2 = gl.glob(\"*.csv\")\n",
    "list3 = list1 + list2\n",
    "\n",
    "for items in list3:\n",
    "    os.remove(items)\n",
    "    print('%s가 삭제됨', items)"
   ]
  }
 ],
 "metadata": {
  "kernelspec": {
   "display_name": "Python 3",
   "language": "python",
   "name": "python3"
  },
  "language_info": {
   "codemirror_mode": {
    "name": "ipython",
    "version": 3
   },
   "file_extension": ".py",
   "mimetype": "text/x-python",
   "name": "python",
   "nbconvert_exporter": "python",
   "pygments_lexer": "ipython3",
   "version": "3.11.3"
  },
  "orig_nbformat": 4
 },
 "nbformat": 4,
 "nbformat_minor": 2
}
